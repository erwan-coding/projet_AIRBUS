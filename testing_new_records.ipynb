{
 "cells": [
  {
   "cell_type": "code",
   "execution_count": 1,
   "metadata": {},
   "outputs": [],
   "source": [
    "import tensorflow as tf\n",
    "from tensorflow.keras import Model,Input\n",
    "from tensorflow.keras.models import load_model\n",
    "import os\n",
    "import pandas as pd\n",
    "import numpy as np\n",
    "import random as rd\n",
    "import numpy as np\n",
    "from sklearn.metrics import confusion_matrix,accuracy_score\n",
    "import joblib\n",
    "import matplotlib.pyplot as plt\n",
    "import librosa.display\n",
    "import warnings\n",
    "warnings.filterwarnings(\"ignore\")\n",
    "\n",
    "path_to_new_records = \"D:\\\\Utilisateurs\\\\ENAC\\\\projet_AIRBUS\\\\test_records\\\\\"\n",
    "path_to_db_voice = \"D:\\\\Utilisateurs\\\\ENAC\\\\projet_AIRBUS\\\\db\\\\voice\\\\\"\n",
    "path_to_db_plane = \"D:\\\\Utilisateurs\\\\ENAC\\\\projet_AIRBUS\\\\db\\\\plane\\\\\"\n",
    "path_to_db_both = \"D:\\\\Utilisateurs\\\\ENAC\\\\projet_AIRBUS\\\\db\\\\both\\\\\""
   ]
  },
  {
   "cell_type": "code",
   "execution_count": 74,
   "metadata": {},
   "outputs": [],
   "source": [
    "# r0,s0 = librosa.load(\"record_0.wav\")\n",
    "\n",
    "r1,s1 = librosa.load(path_to_new_records + \"Record_707.wav\")\n",
    "# r2,s2 = librosa.load(path_to_new_records + \"Record_734.wav\")\n",
    "# r3,s3 = librosa.load(path_to_new_records + \"Record_821.wav\")\n",
    "# r4,s4 = librosa.load(\"recordings/record_10.wav\")\n",
    "\n",
    "#pas de temps de 2.3s"
   ]
  },
  {
   "cell_type": "code",
   "execution_count": 75,
   "metadata": {},
   "outputs": [],
   "source": [
    "spectrum = librosa.stft(y=r1,center=True) \n",
    "spectrum = librosa.amplitude_to_db(spectrum)\n",
    "n_morceaux = spectrum.shape[1]//100\n",
    "# to_predict = [librosa.amplitude_to_db(spectrum[:,j*100:(j+1)*100]) for j in range(n_morceaux)]"
   ]
  },
  {
   "cell_type": "code",
   "execution_count": 76,
   "metadata": {},
   "outputs": [],
   "source": [
    "\n",
    "\n",
    "to_predict = np.array([spectrum[:,j*100:(j+1)*100] for j in range(n_morceaux)])\n",
    "# X_test_t = np.array([k.transpose() for k in to_predict])"
   ]
  },
  {
   "cell_type": "code",
   "execution_count": 77,
   "metadata": {},
   "outputs": [],
   "source": [
    "# conv = load_model('Conv2D_3.h5')\n",
    "lstm = load_model('LSTM_2.h5')"
   ]
  },
  {
   "cell_type": "code",
   "execution_count": 78,
   "metadata": {},
   "outputs": [
    {
     "data": {
      "image/png": "[encoded data removed]",
      "text/plain": [
       "<Figure size 640x480 with 1 Axes>"
      ]
     },
     "metadata": {},
     "output_type": "display_data"
    }
   ],
   "source": [
    "t = [i*2.3 for i in range(n_morceaux)]\n",
    "# print(lstm(X_test_t))\n",
    "plt.plot(t,np.around(conv(to_predict)))\n",
    "plt.show()"
   ]
  },
  {
   "cell_type": "code",
   "execution_count": 79,
   "metadata": {},
   "outputs": [
    {
     "data": {
      "text/plain": [
       "array([0.8831169], dtype=float32)"
      ]
     },
     "execution_count": 79,
     "metadata": {},
     "output_type": "execute_result"
    }
   ],
   "source": [
    "pred = np.around(conv(to_predict))\n",
    "sum(pred)/len(pred)"
   ]
  }
 ],
 "metadata": {
  "kernelspec": {
   "display_name": "gpu",
   "language": "python",
   "name": "python3"
  },
  "language_info": {
   "codemirror_mode": {
    "name": "ipython",
    "version": 3
   },
   "file_extension": ".py",
   "mimetype": "text/x-python",
   "name": "python",
   "nbconvert_exporter": "python",
   "pygments_lexer": "ipython3",
   "version": "3.9.15 (main, Nov 24 2022, 14:39:17) [MSC v.1916 64 bit (AMD64)]"
  },
  "orig_nbformat": 4,
  "vscode": {
   "interpreter": {
    "hash": "57fc1ca9e7a3b36fb7482b4c918a6cca87efa7be43ecf423d462955f51660388"
   }
  }
 },
 "nbformat": 4,
 "nbformat_minor": 2
}
