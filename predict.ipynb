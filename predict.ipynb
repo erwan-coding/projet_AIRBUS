{
 "cells": [
  {
   "cell_type": "code",
   "execution_count": 2,
   "id": "62531abc",
   "metadata": {},
   "outputs": [],
   "source": [
    "from tensorflow.keras.models import load_model\n",
    "#from clean2 import downsample_mono, envelope, downsample_mono_v2\n",
    "from kapre.time_frequency import STFT, Magnitude, ApplyFilterbank, MagnitudeToDecibel\n",
    "from sklearn.preprocessing import LabelEncoder\n",
    "import numpy as np\n",
    "from glob import glob\n",
    "import argparse\n",
    "import os\n",
    "import pandas as pd\n",
    "from tqdm import tqdm\n",
    "import tensorflow as tf"
   ]
  },
  {
   "cell_type": "code",
   "execution_count": 9,
   "id": "c67b2da3",
   "metadata": {},
   "outputs": [],
   "source": [
    "import matplotlib.pyplot as plt\n",
    "from scipy.io import wavfile\n",
    "import argparse\n",
    "import os\n",
    "from glob import glob\n",
    "import numpy as np\n",
    "import pandas as pd\n",
    "from librosa.core import resample, to_mono\n",
    "from tqdm import tqdm\n",
    "import wavio\n",
    "import soundfile as sf"
   ]
  },
  {
   "cell_type": "code",
   "execution_count": 18,
   "id": "f1de664f",
   "metadata": {},
   "outputs": [],
   "source": [
    "args={'model_fn':'models/lstm.h5',\n",
    "      'pred_fn':'y_pred',\n",
    "     'dt':1.0,\n",
    "     'threshold':20,\n",
    "     'sr':16000,\n",
    "      'src_dir':'pred_final'\n",
    "     }"
   ]
  },
  {
   "cell_type": "code",
   "execution_count": 22,
   "id": "b5e8e68a",
   "metadata": {},
   "outputs": [],
   "source": [
    "def enveloppe_max(y, rate, threshold):\n",
    "    mask = []\n",
    "    y = pd.Series(y).apply(np.abs)\n",
    "    y_mean = y.rolling(window=int(rate/20), min_periods=1,center=True).max()\n",
    "    for mean in y_mean:\n",
    "        if mean > threshold:\n",
    "            mask.append(True)\n",
    "        else:\n",
    "            mask.append(False)\n",
    "    return mask, y_mean"
   ]
  },
  {
   "cell_type": "code",
   "execution_count": 5,
   "id": "1ee31faf",
   "metadata": {},
   "outputs": [],
   "source": [
    "def downsample_mono_v2(path, sr):\n",
    "    wavs = []\n",
    "    obj = wavio.read(path)\n",
    "    wav1 = obj.data.astype(np.float32, order='F')\n",
    "    rate = obj.rate\n",
    "    #print(wav1.shape[0])\n",
    "    # nouveaux audio de 03s\n",
    "    for i in range(0, len(wav1), rate*3):\n",
    "        #print(\"mono_v2 \" + str(i))\n",
    "        wav = []\n",
    "        for j in range(len(wav1)-i):\n",
    "            wav.append(wav1[i+j])\n",
    "        wav = np.array(wav, dtype=np.float32)\n",
    "        try:\n",
    "            channel = wav.shape[1]\n",
    "            if channel == 2:\n",
    "                wav = to_mono(wav.T)\n",
    "            elif channel == 1:\n",
    "                wav = to_mono(wav.reshape(-1))\n",
    "        except IndexError:\n",
    "            wav = to_mono(wav.reshape(-1))\n",
    "            pass\n",
    "        except Exception as exc:\n",
    "            raise exc\n",
    "        wav = resample(wav, rate, sr)\n",
    "        wav = wav.astype(np.int16)\n",
    "        wavs.append(wav)\n",
    "    return sr, wavs"
   ]
  },
  {
   "cell_type": "code",
   "execution_count": 6,
   "id": "a1d9d3d5",
   "metadata": {},
   "outputs": [],
   "source": [
    "def downsample_mono(path, sr):\n",
    "    obj = wavio.read(path)\n",
    "    wav = obj.data.astype(np.float32, order='F')\n",
    "    rate = obj.rate\n",
    "    try:\n",
    "        channel = wav.shape[1]\n",
    "        if channel == 2:\n",
    "            wav = to_mono(wav.T)\n",
    "        elif channel == 1:\n",
    "            wav = to_mono(wav.reshape(-1))\n",
    "    except IndexError:\n",
    "        wav = to_mono(wav.reshape(-1))\n",
    "        pass\n",
    "    except Exception as exc:\n",
    "        raise exc\n",
    "    wav = resample(wav, rate, sr)\n",
    "    wav = wav.astype(np.int16)\n",
    "    return sr, wav"
   ]
  },
  {
   "cell_type": "code",
   "execution_count": 20,
   "id": "de887b88",
   "metadata": {},
   "outputs": [],
   "source": [
    "def make_prediction(args):\n",
    "\n",
    "    model = load_model(args['model_fn'],\n",
    "                       custom_objects={'STFT': STFT,\n",
    "                                       'Magnitude': Magnitude,\n",
    "                                       'ApplyFilterbank': ApplyFilterbank,\n",
    "                                       'MagnitudeToDecibel': MagnitudeToDecibel})\n",
    "    wav_paths = glob('{}/**'.format(args['src_dir']), recursive=True)\n",
    "    wav_paths = sorted([x.replace(os.sep, '/')\n",
    "                       for x in wav_paths if '.wav' in x])\n",
    "    classes = sorted(os.listdir(args['src_dir']))\n",
    "    labels = [os.path.split(x)[0].split('/')[-1] for x in wav_paths]\n",
    "    le = LabelEncoder()\n",
    "    y_true = le.fit_transform(labels)\n",
    "    results = []\n",
    "\n",
    "    for z, wav_fn in tqdm(enumerate(wav_paths), total=len(wav_paths)):\n",
    "        #print(wav_fn)\n",
    "        rate, wavs = downsample_mono_v2(wav_fn, args['sr'])\n",
    "\n",
    "        loc_results = []\n",
    "        y_means = []\n",
    "        for wav in wavs:\n",
    "            #print(\"entered first split\")\n",
    "            mask, env = enveloppe_max(wav, rate, args['threshold'])\n",
    "            clean_wav = wav[mask]\n",
    "            step = int(args['sr']*args['dt'])\n",
    "            batch = []\n",
    "\n",
    "            for i in range(0, clean_wav.shape[0], step):\n",
    "                #print(\"entered second split\")\n",
    "                sample = clean_wav[i:i+step]\n",
    "                sample = sample.reshape(-1, 1)\n",
    "                if sample.shape[0] < step:\n",
    "                    tmp = np.zeros(shape=(step, 1), dtype=np.float32)\n",
    "                    tmp[:sample.shape[0], :] = sample.flatten().reshape(-1, 1)\n",
    "                    sample = tmp\n",
    "                batch.append(sample)\n",
    "            X_batch = np.array(batch, dtype=np.float32)\n",
    "            y_pred = model.predict(X_batch)\n",
    "            y_mean = np.mean(y_pred, axis=0)\n",
    "            # rajoute un if ici, si un seuil est dépassé alors ..., sinon argmax\n",
    "            y_pred = np.argmax(y_mean)\n",
    "            real_class = os.path.dirname(wav_fn).split('/')[-1]\n",
    "            loc_results.append(y_pred)\n",
    "        string_results = \"\".join(map(str, loc_results))\n",
    "        if \"000\" in string_results:\n",
    "            print('Actual class: {}, Predicted class : {}'.format(\n",
    "                real_class, classes[0]))\n",
    "        else:\n",
    "            rate, wav_solo = downsample_mono(wav_fn, args['sr'])\n",
    "            mask, env = enveloppe_max(wav_solo, rate, threshold=args['threshold'])\n",
    "            clean_wav = wav_solo[mask]\n",
    "            step = int(args['sr']*args['dt'])\n",
    "            batch = []\n",
    "\n",
    "            for i in range(0, clean_wav.shape[0], step):\n",
    "                sample = clean_wav[i:i+step]\n",
    "                sample = sample.reshape(-1, 1)\n",
    "                if sample.shape[0] < step:\n",
    "                    tmp = np.zeros(shape=(step, 1), dtype=np.float32)\n",
    "                    tmp[:sample.shape[0], :] = sample.flatten().reshape(-1, 1)\n",
    "                    sample = tmp\n",
    "                batch.append(sample)\n",
    "            X_batch = np.array(batch, dtype=np.float32)\n",
    "            y_pred = model.predict(X_batch)\n",
    "            y_mean = np.mean(y_pred, axis=0)\n",
    "            # rajoute un if ici, si un seuil est dépassé alors ..., sinon argmax\n",
    "            y_pred = np.argmax(y_mean)\n",
    "            print('Actual class: {}, Predicted class : {}'.format(\n",
    "                real_class, classes[y_pred]))\n",
    "\n",
    "    np.save(os.path.join('logs', args['pred_fn']), np.array(results))\n"
   ]
  },
  {
   "cell_type": "code",
   "execution_count": null,
   "id": "4fd0472d",
   "metadata": {},
   "outputs": [],
   "source": []
  },
  {
   "cell_type": "code",
   "execution_count": 23,
   "id": "f65c0039",
   "metadata": {},
   "outputs": [
    {
     "name": "stderr",
     "output_type": "stream",
     "text": [
      "  1%|█                                                                                  | 1/82 [00:01<02:12,  1.64s/it]"
     ]
    },
    {
     "name": "stdout",
     "output_type": "stream",
     "text": [
      "Actual class: both, Predicted class : both\n"
     ]
    },
    {
     "name": "stderr",
     "output_type": "stream",
     "text": [
      "\r",
      "  2%|██                                                                                 | 2/82 [00:01<01:38,  1.23s/it]"
     ]
    },
    {
     "name": "stdout",
     "output_type": "stream",
     "text": [
      "Actual class: both, Predicted class : both\n"
     ]
    },
    {
     "name": "stderr",
     "output_type": "stream",
     "text": [
      "\r",
      "  4%|███                                                                                | 3/82 [00:02<01:26,  1.09s/it]"
     ]
    },
    {
     "name": "stdout",
     "output_type": "stream",
     "text": [
      "Actual class: both, Predicted class : both\n"
     ]
    },
    {
     "name": "stderr",
     "output_type": "stream",
     "text": [
      "\r",
      "  5%|████                                                                               | 4/82 [00:03<01:07,  1.15it/s]"
     ]
    },
    {
     "name": "stdout",
     "output_type": "stream",
     "text": [
      "Actual class: both, Predicted class : both\n"
     ]
    },
    {
     "name": "stderr",
     "output_type": "stream",
     "text": [
      "\r",
      "  6%|█████                                                                              | 5/82 [00:03<01:04,  1.19it/s]"
     ]
    },
    {
     "name": "stdout",
     "output_type": "stream",
     "text": [
      "Actual class: both, Predicted class : both\n"
     ]
    },
    {
     "name": "stderr",
     "output_type": "stream",
     "text": [
      "  9%|███████                                                                            | 7/82 [00:04<00:48,  1.56it/s]"
     ]
    },
    {
     "name": "stdout",
     "output_type": "stream",
     "text": [
      "Actual class: both, Predicted class : both\n",
      "Actual class: both, Predicted class : both\n"
     ]
    },
    {
     "name": "stderr",
     "output_type": "stream",
     "text": [
      "\r",
      " 10%|████████                                                                           | 8/82 [00:05<00:53,  1.38it/s]"
     ]
    },
    {
     "name": "stdout",
     "output_type": "stream",
     "text": [
      "Actual class: both, Predicted class : both\n"
     ]
    },
    {
     "name": "stderr",
     "output_type": "stream",
     "text": [
      "\r",
      " 11%|█████████                                                                          | 9/82 [00:06<00:50,  1.46it/s]"
     ]
    },
    {
     "name": "stdout",
     "output_type": "stream",
     "text": [
      "Actual class: both, Predicted class : both\n"
     ]
    },
    {
     "name": "stderr",
     "output_type": "stream",
     "text": [
      "\r",
      " 12%|██████████                                                                        | 10/82 [00:06<00:48,  1.50it/s]"
     ]
    },
    {
     "name": "stdout",
     "output_type": "stream",
     "text": [
      "Actual class: both, Predicted class : both\n"
     ]
    },
    {
     "name": "stderr",
     "output_type": "stream",
     "text": [
      "\r",
      " 13%|███████████                                                                       | 11/82 [00:07<00:38,  1.86it/s]"
     ]
    },
    {
     "name": "stdout",
     "output_type": "stream",
     "text": [
      "Actual class: both, Predicted class : both\n"
     ]
    },
    {
     "name": "stderr",
     "output_type": "stream",
     "text": [
      "\r",
      " 15%|████████████                                                                      | 12/82 [00:07<00:42,  1.65it/s]"
     ]
    },
    {
     "name": "stdout",
     "output_type": "stream",
     "text": [
      "Actual class: both, Predicted class : both\n"
     ]
    },
    {
     "name": "stderr",
     "output_type": "stream",
     "text": [
      "\r",
      " 16%|█████████████                                                                     | 13/82 [00:08<00:39,  1.75it/s]"
     ]
    },
    {
     "name": "stdout",
     "output_type": "stream",
     "text": [
      "Actual class: both, Predicted class : both\n"
     ]
    },
    {
     "name": "stderr",
     "output_type": "stream",
     "text": [
      "\r",
      " 17%|██████████████                                                                    | 14/82 [00:08<00:34,  1.99it/s]"
     ]
    },
    {
     "name": "stdout",
     "output_type": "stream",
     "text": [
      "Actual class: both, Predicted class : both\n"
     ]
    },
    {
     "name": "stderr",
     "output_type": "stream",
     "text": [
      "\r",
      " 18%|███████████████                                                                   | 15/82 [00:09<00:42,  1.56it/s]"
     ]
    },
    {
     "name": "stdout",
     "output_type": "stream",
     "text": [
      "Actual class: both, Predicted class : both\n"
     ]
    },
    {
     "name": "stderr",
     "output_type": "stream",
     "text": [
      "\r",
      " 20%|████████████████                                                                  | 16/82 [00:10<00:47,  1.39it/s]"
     ]
    },
    {
     "name": "stdout",
     "output_type": "stream",
     "text": [
      "Actual class: both, Predicted class : both\n"
     ]
    },
    {
     "name": "stderr",
     "output_type": "stream",
     "text": [
      "\r",
      " 21%|█████████████████                                                                 | 17/82 [00:11<00:46,  1.39it/s]"
     ]
    },
    {
     "name": "stdout",
     "output_type": "stream",
     "text": [
      "Actual class: both, Predicted class : both\n"
     ]
    },
    {
     "name": "stderr",
     "output_type": "stream",
     "text": [
      " 23%|███████████████████                                                               | 19/82 [00:12<00:37,  1.69it/s]"
     ]
    },
    {
     "name": "stdout",
     "output_type": "stream",
     "text": [
      "Actual class: both, Predicted class : both\n",
      "Actual class: both, Predicted class : both\n"
     ]
    },
    {
     "name": "stderr",
     "output_type": "stream",
     "text": [
      "\r",
      " 24%|████████████████████                                                              | 20/82 [00:13<00:42,  1.47it/s]"
     ]
    },
    {
     "name": "stdout",
     "output_type": "stream",
     "text": [
      "Actual class: both, Predicted class : both\n"
     ]
    },
    {
     "name": "stderr",
     "output_type": "stream",
     "text": [
      " 27%|██████████████████████                                                            | 22/82 [00:14<00:32,  1.83it/s]"
     ]
    },
    {
     "name": "stdout",
     "output_type": "stream",
     "text": [
      "Actual class: both, Predicted class : both\n",
      "Actual class: both, Predicted class : both\n"
     ]
    },
    {
     "name": "stderr",
     "output_type": "stream",
     "text": [
      "\r",
      " 28%|███████████████████████                                                           | 23/82 [00:15<00:36,  1.60it/s]"
     ]
    },
    {
     "name": "stdout",
     "output_type": "stream",
     "text": [
      "Actual class: both, Predicted class : both\n"
     ]
    },
    {
     "name": "stderr",
     "output_type": "stream",
     "text": [
      "\r",
      " 29%|████████████████████████                                                          | 24/82 [00:15<00:37,  1.56it/s]"
     ]
    },
    {
     "name": "stdout",
     "output_type": "stream",
     "text": [
      "Actual class: both, Predicted class : both\n"
     ]
    },
    {
     "name": "stderr",
     "output_type": "stream",
     "text": [
      "\r",
      " 30%|█████████████████████████                                                         | 25/82 [00:16<00:36,  1.57it/s]"
     ]
    },
    {
     "name": "stdout",
     "output_type": "stream",
     "text": [
      "Actual class: both, Predicted class : both\n"
     ]
    },
    {
     "name": "stderr",
     "output_type": "stream",
     "text": [
      "\r",
      " 32%|██████████████████████████                                                        | 26/82 [00:17<00:38,  1.46it/s]"
     ]
    },
    {
     "name": "stdout",
     "output_type": "stream",
     "text": [
      "Actual class: both, Predicted class : both\n"
     ]
    },
    {
     "name": "stderr",
     "output_type": "stream",
     "text": [
      "\r",
      " 33%|███████████████████████████                                                       | 27/82 [00:18<00:40,  1.36it/s]"
     ]
    },
    {
     "name": "stdout",
     "output_type": "stream",
     "text": [
      "Actual class: both, Predicted class : both\n"
     ]
    },
    {
     "name": "stderr",
     "output_type": "stream",
     "text": [
      "\r",
      " 34%|████████████████████████████                                                      | 28/82 [00:18<00:38,  1.40it/s]"
     ]
    },
    {
     "name": "stdout",
     "output_type": "stream",
     "text": [
      "Actual class: both, Predicted class : both\n"
     ]
    },
    {
     "name": "stderr",
     "output_type": "stream",
     "text": [
      "\r",
      " 35%|█████████████████████████████                                                     | 29/82 [00:19<00:38,  1.38it/s]"
     ]
    },
    {
     "name": "stdout",
     "output_type": "stream",
     "text": [
      "Actual class: both, Predicted class : both\n"
     ]
    },
    {
     "name": "stderr",
     "output_type": "stream",
     "text": [
      "\r",
      " 37%|█████████████████████████████▎                                                  | 30/82 [04:41<1:08:38, 79.21s/it]"
     ]
    },
    {
     "name": "stdout",
     "output_type": "stream",
     "text": [
      "Actual class: both, Predicted class : both\n"
     ]
    },
    {
     "name": "stderr",
     "output_type": "stream",
     "text": [
      "\r",
      " 38%|█████████████████████████████▊                                                 | 31/82 [09:07<1:54:58, 135.26s/it]"
     ]
    },
    {
     "name": "stdout",
     "output_type": "stream",
     "text": [
      "Actual class: both, Predicted class : both\n"
     ]
    },
    {
     "name": "stderr",
     "output_type": "stream",
     "text": [
      "\r",
      " 39%|██████████████████████████████▊                                                | 32/82 [11:07<1:48:44, 130.50s/it]"
     ]
    },
    {
     "name": "stdout",
     "output_type": "stream",
     "text": [
      "Actual class: both, Predicted class : plane\n"
     ]
    },
    {
     "name": "stderr",
     "output_type": "stream",
     "text": [
      "\r",
      " 40%|███████████████████████████████▊                                               | 33/82 [13:07<1:44:05, 127.47s/it]"
     ]
    },
    {
     "name": "stdout",
     "output_type": "stream",
     "text": [
      "Actual class: plane, Predicted class : plane\n"
     ]
    },
    {
     "name": "stderr",
     "output_type": "stream",
     "text": [
      "\r",
      " 41%|████████████████████████████████▊                                              | 34/82 [15:05<1:39:46, 124.71s/it]"
     ]
    },
    {
     "name": "stdout",
     "output_type": "stream",
     "text": [
      "Actual class: plane, Predicted class : plane\n"
     ]
    },
    {
     "name": "stderr",
     "output_type": "stream",
     "text": [
      "\r",
      " 43%|█████████████████████████████████▋                                             | 35/82 [17:04<1:36:21, 123.01s/it]"
     ]
    },
    {
     "name": "stdout",
     "output_type": "stream",
     "text": [
      "Actual class: plane, Predicted class : plane\n"
     ]
    },
    {
     "name": "stderr",
     "output_type": "stream",
     "text": [
      "\r",
      " 44%|██████████████████████████████████▋                                            | 36/82 [19:04<1:33:27, 121.90s/it]"
     ]
    },
    {
     "name": "stdout",
     "output_type": "stream",
     "text": [
      "Actual class: plane, Predicted class : plane\n"
     ]
    },
    {
     "name": "stderr",
     "output_type": "stream",
     "text": [
      "\r",
      " 45%|███████████████████████████████████▋                                           | 37/82 [21:05<1:31:15, 121.67s/it]"
     ]
    },
    {
     "name": "stdout",
     "output_type": "stream",
     "text": [
      "Actual class: plane, Predicted class : plane\n"
     ]
    },
    {
     "name": "stderr",
     "output_type": "stream",
     "text": [
      "\r",
      " 46%|████████████████████████████████████▌                                          | 38/82 [23:09<1:29:51, 122.53s/it]"
     ]
    },
    {
     "name": "stdout",
     "output_type": "stream",
     "text": [
      "Actual class: plane, Predicted class : plane\n"
     ]
    },
    {
     "name": "stderr",
     "output_type": "stream",
     "text": [
      "\r",
      " 48%|█████████████████████████████████████▌                                         | 39/82 [25:20<1:29:33, 124.97s/it]"
     ]
    },
    {
     "name": "stdout",
     "output_type": "stream",
     "text": [
      "Actual class: plane, Predicted class : plane\n"
     ]
    },
    {
     "name": "stderr",
     "output_type": "stream",
     "text": [
      "\r",
      " 49%|██████████████████████████████████████▌                                        | 40/82 [27:20<1:26:24, 123.44s/it]"
     ]
    },
    {
     "name": "stdout",
     "output_type": "stream",
     "text": [
      "Actual class: plane, Predicted class : plane\n"
     ]
    },
    {
     "name": "stderr",
     "output_type": "stream",
     "text": [
      "\r",
      " 50%|███████████████████████████████████████▌                                       | 41/82 [29:24<1:24:26, 123.56s/it]"
     ]
    },
    {
     "name": "stdout",
     "output_type": "stream",
     "text": [
      "Actual class: plane, Predicted class : plane\n"
     ]
    },
    {
     "name": "stderr",
     "output_type": "stream",
     "text": [
      "\r",
      " 51%|████████████████████████████████████████▍                                      | 42/82 [31:28<1:22:24, 123.62s/it]"
     ]
    },
    {
     "name": "stdout",
     "output_type": "stream",
     "text": [
      "Actual class: plane, Predicted class : plane\n"
     ]
    },
    {
     "name": "stderr",
     "output_type": "stream",
     "text": [
      "\r",
      " 52%|█████████████████████████████████████████▍                                     | 43/82 [33:28<1:19:44, 122.68s/it]"
     ]
    },
    {
     "name": "stdout",
     "output_type": "stream",
     "text": [
      "Actual class: plane, Predicted class : plane\n"
     ]
    },
    {
     "name": "stderr",
     "output_type": "stream",
     "text": [
      "\r",
      " 54%|██████████████████████████████████████████▍                                    | 44/82 [35:27<1:16:57, 121.50s/it]"
     ]
    },
    {
     "name": "stdout",
     "output_type": "stream",
     "text": [
      "Actual class: plane, Predicted class : plane\n"
     ]
    },
    {
     "name": "stderr",
     "output_type": "stream",
     "text": [
      "\r",
      " 55%|███████████████████████████████████████████▎                                   | 45/82 [37:26<1:14:24, 120.66s/it]"
     ]
    },
    {
     "name": "stdout",
     "output_type": "stream",
     "text": [
      "Actual class: plane, Predicted class : plane\n"
     ]
    },
    {
     "name": "stderr",
     "output_type": "stream",
     "text": [
      "\r",
      " 56%|████████████████████████████████████████████▎                                  | 46/82 [39:23<1:11:52, 119.79s/it]"
     ]
    },
    {
     "name": "stdout",
     "output_type": "stream",
     "text": [
      "Actual class: plane, Predicted class : plane\n"
     ]
    },
    {
     "name": "stderr",
     "output_type": "stream",
     "text": [
      "\r",
      " 57%|█████████████████████████████████████████████▎                                 | 47/82 [41:22<1:09:39, 119.40s/it]"
     ]
    },
    {
     "name": "stdout",
     "output_type": "stream",
     "text": [
      "Actual class: plane, Predicted class : plane\n"
     ]
    },
    {
     "name": "stderr",
     "output_type": "stream",
     "text": [
      "\r",
      " 59%|██████████████████████████████████████████████▏                                | 48/82 [43:22<1:07:50, 119.71s/it]"
     ]
    },
    {
     "name": "stdout",
     "output_type": "stream",
     "text": [
      "Actual class: plane, Predicted class : plane\n"
     ]
    },
    {
     "name": "stderr",
     "output_type": "stream",
     "text": [
      "\r",
      " 60%|███████████████████████████████████████████████▏                               | 49/82 [45:22<1:05:55, 119.87s/it]"
     ]
    },
    {
     "name": "stdout",
     "output_type": "stream",
     "text": [
      "Actual class: plane, Predicted class : plane\n"
     ]
    },
    {
     "name": "stderr",
     "output_type": "stream",
     "text": [
      "\r",
      " 61%|████████████████████████████████████████████████▏                              | 50/82 [47:23<1:04:00, 120.02s/it]"
     ]
    },
    {
     "name": "stdout",
     "output_type": "stream",
     "text": [
      "Actual class: plane, Predicted class : plane\n"
     ]
    },
    {
     "name": "stderr",
     "output_type": "stream",
     "text": [
      "\r",
      " 62%|█████████████████████████████████████████████████▏                             | 51/82 [49:29<1:02:55, 121.79s/it]"
     ]
    },
    {
     "name": "stdout",
     "output_type": "stream",
     "text": [
      "Actual class: plane, Predicted class : plane\n"
     ]
    },
    {
     "name": "stderr",
     "output_type": "stream",
     "text": [
      "\r",
      " 63%|██████████████████████████████████████████████████                             | 52/82 [51:32<1:01:10, 122.35s/it]"
     ]
    },
    {
     "name": "stdout",
     "output_type": "stream",
     "text": [
      "Actual class: plane, Predicted class : plane\n"
     ]
    },
    {
     "name": "stderr",
     "output_type": "stream",
     "text": [
      "\r",
      " 65%|████████████████████████████████████████████████████▎                            | 53/82 [53:36<59:22, 122.85s/it]"
     ]
    },
    {
     "name": "stdout",
     "output_type": "stream",
     "text": [
      "Actual class: plane, Predicted class : plane\n"
     ]
    },
    {
     "name": "stderr",
     "output_type": "stream",
     "text": [
      "\r",
      " 66%|█████████████████████████████████████████████████████▎                           | 54/82 [55:44<57:58, 124.22s/it]"
     ]
    },
    {
     "name": "stdout",
     "output_type": "stream",
     "text": [
      "Actual class: plane, Predicted class : plane\n"
     ]
    },
    {
     "name": "stderr",
     "output_type": "stream",
     "text": [
      "\r",
      " 67%|██████████████████████████████████████████████████████▎                          | 55/82 [57:47<55:43, 123.85s/it]"
     ]
    },
    {
     "name": "stdout",
     "output_type": "stream",
     "text": [
      "Actual class: plane, Predicted class : plane\n"
     ]
    },
    {
     "name": "stderr",
     "output_type": "stream",
     "text": [
      "\r",
      " 68%|███████████████████████████████████████████████████████▎                         | 56/82 [59:49<53:30, 123.48s/it]"
     ]
    },
    {
     "name": "stdout",
     "output_type": "stream",
     "text": [
      "Actual class: plane, Predicted class : plane\n"
     ]
    },
    {
     "name": "stderr",
     "output_type": "stream",
     "text": [
      "\r",
      " 70%|██████████████████████████████████████████████████████▉                        | 57/82 [1:01:54<51:38, 123.94s/it]"
     ]
    },
    {
     "name": "stdout",
     "output_type": "stream",
     "text": [
      "Actual class: plane, Predicted class : plane\n"
     ]
    },
    {
     "name": "stderr",
     "output_type": "stream",
     "text": [
      "\r",
      " 71%|███████████████████████████████████████████████████████▉                       | 58/82 [1:03:56<49:13, 123.07s/it]"
     ]
    },
    {
     "name": "stdout",
     "output_type": "stream",
     "text": [
      "Actual class: plane, Predicted class : plane\n"
     ]
    },
    {
     "name": "stderr",
     "output_type": "stream",
     "text": [
      "\r",
      " 72%|████████████████████████████████████████████████████████▊                      | 59/82 [1:06:09<48:23, 126.24s/it]"
     ]
    },
    {
     "name": "stdout",
     "output_type": "stream",
     "text": [
      "Actual class: plane, Predicted class : plane\n"
     ]
    },
    {
     "name": "stderr",
     "output_type": "stream",
     "text": [
      "\r",
      " 73%|█████████████████████████████████████████████████████████▊                     | 60/82 [1:08:09<45:37, 124.45s/it]"
     ]
    },
    {
     "name": "stdout",
     "output_type": "stream",
     "text": [
      "Actual class: plane, Predicted class : plane\n"
     ]
    },
    {
     "name": "stderr",
     "output_type": "stream",
     "text": [
      "\r",
      " 74%|██████████████████████████████████████████████████████████▊                    | 61/82 [1:10:09<43:05, 123.13s/it]"
     ]
    },
    {
     "name": "stdout",
     "output_type": "stream",
     "text": [
      "Actual class: plane, Predicted class : plane\n"
     ]
    },
    {
     "name": "stderr",
     "output_type": "stream",
     "text": [
      "\r",
      " 76%|███████████████████████████████████████████████████████████▋                   | 62/82 [1:12:09<40:42, 122.13s/it]"
     ]
    },
    {
     "name": "stdout",
     "output_type": "stream",
     "text": [
      "Actual class: plane, Predicted class : plane\n"
     ]
    },
    {
     "name": "stderr",
     "output_type": "stream",
     "text": [
      "\r",
      " 77%|████████████████████████████████████████████████████████████▋                  | 63/82 [1:14:10<38:29, 121.56s/it]"
     ]
    },
    {
     "name": "stdout",
     "output_type": "stream",
     "text": [
      "Actual class: plane, Predicted class : plane\n"
     ]
    },
    {
     "name": "stderr",
     "output_type": "stream",
     "text": [
      "\r",
      " 78%|█████████████████████████████████████████████████████████████▋                 | 64/82 [1:16:10<36:19, 121.11s/it]"
     ]
    },
    {
     "name": "stdout",
     "output_type": "stream",
     "text": [
      "Actual class: plane, Predicted class : plane\n"
     ]
    },
    {
     "name": "stderr",
     "output_type": "stream",
     "text": [
      "\r",
      " 79%|██████████████████████████████████████████████████████████████▌                | 65/82 [1:18:10<34:13, 120.77s/it]"
     ]
    },
    {
     "name": "stdout",
     "output_type": "stream",
     "text": [
      "Actual class: plane, Predicted class : plane\n"
     ]
    },
    {
     "name": "stderr",
     "output_type": "stream",
     "text": [
      "\r",
      " 80%|███████████████████████████████████████████████████████████████▌               | 66/82 [1:20:10<32:12, 120.79s/it]"
     ]
    },
    {
     "name": "stdout",
     "output_type": "stream",
     "text": [
      "Actual class: plane, Predicted class : plane\n"
     ]
    },
    {
     "name": "stderr",
     "output_type": "stream",
     "text": [
      "\r",
      " 82%|████████████████████████████████████████████████████████████████▌              | 67/82 [1:22:13<30:18, 121.24s/it]"
     ]
    },
    {
     "name": "stdout",
     "output_type": "stream",
     "text": [
      "Actual class: plane, Predicted class : plane\n"
     ]
    },
    {
     "name": "stderr",
     "output_type": "stream",
     "text": [
      "\r",
      " 83%|█████████████████████████████████████████████████████████████████▌             | 68/82 [1:24:12<28:09, 120.65s/it]"
     ]
    },
    {
     "name": "stdout",
     "output_type": "stream",
     "text": [
      "Actual class: plane, Predicted class : plane\n"
     ]
    },
    {
     "name": "stderr",
     "output_type": "stream",
     "text": [
      "\r",
      " 84%|██████████████████████████████████████████████████████████████████▍            | 69/82 [1:26:09<25:56, 119.71s/it]"
     ]
    },
    {
     "name": "stdout",
     "output_type": "stream",
     "text": [
      "Actual class: plane, Predicted class : both\n"
     ]
    },
    {
     "name": "stderr",
     "output_type": "stream",
     "text": [
      "\r",
      " 85%|███████████████████████████████████████████████████████████████████▍           | 70/82 [1:28:10<23:58, 119.89s/it]"
     ]
    },
    {
     "name": "stdout",
     "output_type": "stream",
     "text": [
      "Actual class: plane, Predicted class : plane\n"
     ]
    },
    {
     "name": "stderr",
     "output_type": "stream",
     "text": [
      "\r",
      " 87%|████████████████████████████████████████████████████████████████████▍          | 71/82 [1:30:17<22:24, 122.20s/it]"
     ]
    },
    {
     "name": "stdout",
     "output_type": "stream",
     "text": [
      "Actual class: plane, Predicted class : plane\n"
     ]
    },
    {
     "name": "stderr",
     "output_type": "stream",
     "text": [
      "\r",
      " 88%|█████████████████████████████████████████████████████████████████████▎         | 72/82 [1:32:22<20:30, 123.01s/it]"
     ]
    },
    {
     "name": "stdout",
     "output_type": "stream",
     "text": [
      "Actual class: plane, Predicted class : plane\n"
     ]
    },
    {
     "name": "stderr",
     "output_type": "stream",
     "text": [
      "\r",
      " 89%|██████████████████████████████████████████████████████████████████████▎        | 73/82 [1:34:28<18:33, 123.74s/it]"
     ]
    },
    {
     "name": "stdout",
     "output_type": "stream",
     "text": [
      "Actual class: plane, Predicted class : plane\n"
     ]
    },
    {
     "name": "stderr",
     "output_type": "stream",
     "text": [
      "\r",
      " 90%|███████████████████████████████████████████████████████████████████████▎       | 74/82 [1:36:30<16:27, 123.45s/it]"
     ]
    },
    {
     "name": "stdout",
     "output_type": "stream",
     "text": [
      "Actual class: plane, Predicted class : plane\n"
     ]
    },
    {
     "name": "stderr",
     "output_type": "stream",
     "text": [
      "\r",
      " 91%|████████████████████████████████████████████████████████████████████████▎      | 75/82 [1:38:32<14:19, 122.84s/it]"
     ]
    },
    {
     "name": "stdout",
     "output_type": "stream",
     "text": [
      "Actual class: plane, Predicted class : plane\n"
     ]
    },
    {
     "name": "stderr",
     "output_type": "stream",
     "text": [
      "\r",
      " 93%|█████████████████████████████████████████████████████████████████████████▏     | 76/82 [1:40:31<12:10, 121.82s/it]"
     ]
    },
    {
     "name": "stdout",
     "output_type": "stream",
     "text": [
      "Actual class: plane, Predicted class : plane\n"
     ]
    },
    {
     "name": "stderr",
     "output_type": "stream",
     "text": [
      "\r",
      " 94%|██████████████████████████████████████████████████████████████████████████▏    | 77/82 [1:42:33<10:09, 121.88s/it]"
     ]
    },
    {
     "name": "stdout",
     "output_type": "stream",
     "text": [
      "Actual class: plane, Predicted class : plane\n"
     ]
    },
    {
     "name": "stderr",
     "output_type": "stream",
     "text": [
      "\r",
      " 95%|███████████████████████████████████████████████████████████████████████████▏   | 78/82 [1:44:32<08:03, 120.88s/it]"
     ]
    },
    {
     "name": "stdout",
     "output_type": "stream",
     "text": [
      "Actual class: plane, Predicted class : plane\n"
     ]
    },
    {
     "name": "stderr",
     "output_type": "stream",
     "text": [
      "\r",
      " 96%|████████████████████████████████████████████████████████████████████████████   | 79/82 [1:46:31<06:00, 120.20s/it]"
     ]
    },
    {
     "name": "stdout",
     "output_type": "stream",
     "text": [
      "Actual class: plane, Predicted class : plane\n"
     ]
    },
    {
     "name": "stderr",
     "output_type": "stream",
     "text": [
      "\r",
      " 98%|█████████████████████████████████████████████████████████████████████████████  | 80/82 [1:48:33<04:02, 121.03s/it]"
     ]
    },
    {
     "name": "stdout",
     "output_type": "stream",
     "text": [
      "Actual class: plane, Predicted class : plane\n"
     ]
    },
    {
     "name": "stderr",
     "output_type": "stream",
     "text": [
      "\r",
      " 99%|██████████████████████████████████████████████████████████████████████████████ | 81/82 [1:50:37<02:01, 121.71s/it]"
     ]
    },
    {
     "name": "stdout",
     "output_type": "stream",
     "text": [
      "Actual class: plane, Predicted class : plane\n"
     ]
    },
    {
     "name": "stderr",
     "output_type": "stream",
     "text": [
      "100%|████████████████████████████████████████████████████████████████████████████████| 82/82 [1:52:52<00:00, 82.60s/it]"
     ]
    },
    {
     "name": "stdout",
     "output_type": "stream",
     "text": [
      "Actual class: plane, Predicted class : plane\n"
     ]
    },
    {
     "name": "stderr",
     "output_type": "stream",
     "text": [
      "\n"
     ]
    }
   ],
   "source": [
    "make_prediction(args)"
   ]
  },
  {
   "cell_type": "code",
   "execution_count": null,
   "id": "934e21da",
   "metadata": {},
   "outputs": [],
   "source": []
  },
  {
   "cell_type": "code",
   "execution_count": null,
   "id": "d88f68c0",
   "metadata": {},
   "outputs": [],
   "source": []
  },
  {
   "cell_type": "code",
   "execution_count": null,
   "id": "6661ac60",
   "metadata": {},
   "outputs": [],
   "source": []
  },
  {
   "cell_type": "code",
   "execution_count": null,
   "id": "d422bc90",
   "metadata": {},
   "outputs": [],
   "source": []
  },
  {
   "cell_type": "code",
   "execution_count": null,
   "id": "619e93f0",
   "metadata": {},
   "outputs": [],
   "source": []
  },
  {
   "cell_type": "code",
   "execution_count": null,
   "id": "5595309a",
   "metadata": {},
   "outputs": [],
   "source": []
  },
  {
   "cell_type": "code",
   "execution_count": null,
   "id": "398e0de1",
   "metadata": {},
   "outputs": [],
   "source": []
  },
  {
   "cell_type": "code",
   "execution_count": null,
   "id": "402bd1ef",
   "metadata": {},
   "outputs": [],
   "source": []
  },
  {
   "cell_type": "code",
   "execution_count": null,
   "id": "2390302c",
   "metadata": {},
   "outputs": [],
   "source": []
  }
 ],
 "metadata": {
  "kernelspec": {
   "display_name": "Python 3",
   "language": "python",
   "name": "python3"
  },
  "language_info": {
   "codemirror_mode": {
    "name": "ipython",
    "version": 3
   },
   "file_extension": ".py",
   "mimetype": "text/x-python",
   "name": "python",
   "nbconvert_exporter": "python",
   "pygments_lexer": "ipython3",
   "version": "3.7.0"
  }
 },
 "nbformat": 4,
 "nbformat_minor": 5
}
