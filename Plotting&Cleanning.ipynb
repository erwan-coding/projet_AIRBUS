{
 "cells": [
  {
   "cell_type": "markdown",
   "id": "5fcc077f",
   "metadata": {
    "scrolled": true
   },
   "source": [
    "# Plotting"
   ]
  },
  {
   "cell_type": "code",
   "execution_count": 12,
   "id": "3d54d1db",
   "metadata": {},
   "outputs": [],
   "source": [
    "import os \n",
    "from tqdm import tqdm \n",
    "import pandas as pd \n",
    "import numpy as np \n",
    "import matplotlib.pyplot as plt \n",
    "from scipy.io import wavfile\n",
    "from python_speech_features import mfcc, logfbank \n",
    "import librosa"
   ]
  },
  {
   "cell_type": "code",
   "execution_count": 47,
   "id": "c55e67af",
   "metadata": {},
   "outputs": [],
   "source": [
    "args={'src_root':'wavfiles_for_cleaning',\n",
    "      'dst_root':'cleanwavs',\n",
    "     'delta_time':1.0,\n",
    "     'sr':16000,\n",
    "     'threshold':'20',\n",
    "      'fn':'3a3d0279'\n",
    "     }"
   ]
  },
  {
   "cell_type": "code",
   "execution_count": 13,
   "id": "ab3e25a7",
   "metadata": {},
   "outputs": [],
   "source": [
    "#signal (Amplitude, time(s))\n",
    "def plot_signals (signals):\n",
    "    fig, axes = plt.subplots(nrows=2, ncols=2, sharex=False, sharey=True, figsize=(20,5))\n",
    "    fig.suptitle('Time Series', size=16)\n",
    "    i=0\n",
    "    for x in range(2):\n",
    "            for y in range(1):\n",
    "                axes[x,y].set_title(list(signals.keys())[i])\n",
    "                axes[x,y].plot(list(signals. values())[i]) \n",
    "                axes [x,y].get_xaxis().set_visible(False)\n",
    "                axes [x,y].get_yaxis().set_visible(False)\n",
    "                i += 1"
   ]
  },
  {
   "cell_type": "code",
   "execution_count": 14,
   "id": "bc8bf648",
   "metadata": {},
   "outputs": [],
   "source": [
    "def plot_mfccs(mfccs): \n",
    "    fig, axes = plt.subplots (nrows=2, ncols=2, sharex=False, sharey=True, figsize=(28,5)) \n",
    "    fig.suptitle('Mel Frequency Cepstrum Coefficients', size=16) \n",
    "    i=0 \n",
    "    for x in range(2): \n",
    "        for y in range(1): \n",
    "            axes[x,y].set_title(list(mfccs.keys())[i]) \n",
    "            axes [x,y].imshow(list (mfccs.values())[i], cmap='hot', interpolation='nearest') \n",
    "            axes[x,y].get_xaxis().set_visible(False) \n",
    "            axes[x,y].get_yaxis().set_visible(False) \n",
    "            i += 1"
   ]
  },
  {
   "cell_type": "code",
   "execution_count": 15,
   "id": "de3d6417",
   "metadata": {},
   "outputs": [],
   "source": [
    "def plot_fft(fft): \n",
    "    fig, axes = plt.subplots (nrows=2, ncols=2, sharex=False, sharey=True, figsize=(20,5)) \n",
    "    fig.suptitle('Fourier Transforms', size=16) \n",
    "    i=0 \n",
    "    for x in range(2): \n",
    "        for y in range(1): \n",
    "            data= list(fft.values())[i] \n",
    "            Y, freq = data[0], data[1] \n",
    "            axes [x,y].set_title(list(fft.keys())[i]) \n",
    "            axes[x,y].plot(freq, Y) \n",
    "            axes[x,y].get_xaxis().set_visible(False) \n",
    "            axes [x,y].get_yaxis().set_visible(False) \n",
    "            i += 1"
   ]
  },
  {
   "cell_type": "code",
   "execution_count": 16,
   "id": "fec72191",
   "metadata": {},
   "outputs": [],
   "source": [
    "def plot_fbank(fbank): \n",
    "    fig, axes = plt.subplots (nrows=2, ncols=2, sharex=False, sharey=True, figsize=(28,5)) \n",
    "    fig.suptitle('Filter Bank Coefficients', size=16) \n",
    "    i=0 \n",
    "    for x in range(2): \n",
    "        for y in range(1): \n",
    "            axes [x,y].set_title(list (fbank.keys())[i]) \n",
    "            axes [x,y].imshow(list(fbank.values())[i], cmap='hot', interpolation=\"nearest\") \n",
    "            axes [x,y].get_xaxis().set_visible(False) \n",
    "            axes [x,y].get_yaxis().set_visible(False) \n",
    "            i += 1"
   ]
  },
  {
   "cell_type": "code",
   "execution_count": 17,
   "id": "89c8116a",
   "metadata": {},
   "outputs": [],
   "source": [
    "from tensorflow.keras.models import load_model\n",
    "from clean2 import downsample_mono, envelope, downsample_mono_v2\n",
    "from kapre.time_frequency import STFT, Magnitude, ApplyFilterbank, MagnitudeToDecibel\n",
    "from sklearn.preprocessing import LabelEncoder\n",
    "import numpy as np\n",
    "from glob import glob\n",
    "import argparse\n",
    "import os\n",
    "import pandas as pd\n",
    "from tqdm import tqdm\n",
    "import tensorflow as tf\n",
    "import tensorflow_io as tfio\n",
    "\n"
   ]
  },
  {
   "cell_type": "code",
   "execution_count": 18,
   "id": "48f275c9",
   "metadata": {},
   "outputs": [],
   "source": [
    "path_to_folder = os.getcwd()\n",
    "path_to_voice = '\\\\samples2\\\\both'\n",
    "path_to_plane = '\\\\samples2\\\\plane'"
   ]
  },
  {
   "cell_type": "markdown",
   "id": "8d8c285c",
   "metadata": {},
   "source": [
    "# Loading Data"
   ]
  },
  {
   "cell_type": "code",
   "execution_count": 19,
   "id": "13548690",
   "metadata": {},
   "outputs": [],
   "source": [
    "import csv\n",
    "\n",
    "prplot=\"C:/Users/HAMZA/Audio-Classification/prplot.csv\"\n",
    "\n",
    "valeurs = []\n",
    "entetes = [\n",
    "     \"fname\",\n",
    "     \"label\"\n",
    "]\n",
    "\n",
    "for i in range(150):\n",
    "    if (i<62):\n",
    "        valeurs.append([u'sample_p_'+str(i)+'.wav',u'Plane'])\n",
    "    elif (i<93 and i>=62):\n",
    "        valeurs.append([u'sample_b_'+str(i%62)+'.wav',u'Both'])\n",
    "\n",
    "with open(prplot, \"w\",newline=\"\") as csv_file:\n",
    "    writer = csv.writer(csv_file, delimiter = \",\")\n",
    "    writer.writerow(entetes)\n",
    "    for i in range (93):\n",
    "        writer.writerow(valeurs[i])\n",
    "        \n",
    "df = pd.read_csv('prplot.csv') \n",
    "df.set_index('fname', inplace=True) \n",
    "\n",
    "\n",
    "\n"
   ]
  },
  {
   "cell_type": "markdown",
   "id": "5fc385a7",
   "metadata": {},
   "source": [
    "# enregistrement des samples"
   ]
  },
  {
   "cell_type": "code",
   "execution_count": 43,
   "id": "2938f43f",
   "metadata": {},
   "outputs": [],
   "source": [
    "def save_spl(sample, rate, target_dir, fn, ix):\n",
    "    fn = fn.split('.wav')[0]\n",
    "    dst_path = os.path.join(target_dir.split(\n",
    "        '.')[0], fn+'_{}.wav'.format(str(ix)))\n",
    "    if os.path.exists(dst_path):\n",
    "        return\n",
    "    wavfile.write(dst_path, rate, sample)"
   ]
  },
  {
   "cell_type": "markdown",
   "id": "ea5d6767",
   "metadata": {},
   "source": [
    "# Decoupage de l'audio"
   ]
  },
  {
   "cell_type": "code",
   "execution_count": 44,
   "id": "e6b17ce4",
   "metadata": {},
   "outputs": [],
   "source": [
    "def split_wavs(args):\n",
    "    src_root = args['src_root']\n",
    "    dst_root = args['dst_root']\n",
    "    dt = args['delta_time']\n",
    "\n",
    "    wav_paths = glob('{}/**'.format(src_root), recursive=True)\n",
    "    wav_paths = [x for x in wav_paths if '.wav' in x]\n",
    "    dirs = os.listdir(src_root)\n",
    "    check_dir(dst_root)\n",
    "    classes = os.listdir(src_root)\n",
    "    for _cls in classes:\n",
    "        target_dir = os.path.join(dst_root, _cls)\n",
    "        check_dir(target_dir)\n",
    "        src_dir = os.path.join(src_root, _cls)\n",
    "        for fn in tqdm(os.listdir(src_dir)):\n",
    "            src_fn = os.path.join(src_dir, fn)\n",
    "            rate, wav = downsample_mono(src_fn, args['sr'])\n",
    "            mask, y_mean = envelope(wav, rate, threshold=args['threshold'])\n",
    "            wav = wav[mask]\n",
    "            delta_sample = int(dt*rate)\n",
    "\n",
    "            # l'audio nettoyé est inférieur à un seul échantillon\n",
    "            # remplir avec des zéros à la taille delta_sample\n",
    "            if wav.shape[0] < delta_sample:\n",
    "                sample = np.zeros(shape=(delta_sample,), dtype=np.int16)\n",
    "                sample[:wav.shape[0]] = wav\n",
    "                save_spl(sample, rate, target_dir, fn, 0)\n",
    "\n",
    "            # parcourir l'audio et enregistrer chaque delta_sample\n",
    "            # enlever la fin des audio si c'est plus court\n",
    "            else:\n",
    "                trunc = wav.shape[0] % delta_sample\n",
    "                for cnt, i in enumerate(np.arange(0, wav.shape[0]-trunc, delta_sample)):\n",
    "                    start = int(i)\n",
    "                    stop = int(i + delta_sample)\n",
    "                    sample = wav[start:stop]\n",
    "                    save_spl(sample, rate, target_dir, fn, cnt)"
   ]
  },
  {
   "cell_type": "code",
   "execution_count": 45,
   "id": "a33b27ae",
   "metadata": {},
   "outputs": [],
   "source": [
    "def check_dir(path):\n",
    "    if os.path.exists(path) is False:\n",
    "        os.mkdir(path)"
   ]
  },
  {
   "cell_type": "markdown",
   "id": "1b4d7472",
   "metadata": {},
   "source": [
    "# fcts of Cleanning and Treatment"
   ]
  },
  {
   "cell_type": "code",
   "execution_count": 20,
   "id": "88e6e12e",
   "metadata": {},
   "outputs": [],
   "source": [
    "def wav_16k_mono(path):\n",
    "    # Load encoded wav file\n",
    "    load_file = tf.io.read_file(path)\n",
    "    # décoder en mono channel\n",
    "    wav, sr = tf.audio.decode_wav(load_file, desired_channels=1)\n",
    "    # Removes trailing axis\n",
    "    wav = tf.squeeze(wav, axis=-1)\n",
    "    sr = tf.cast(sr, dtype=tf.int64)\n",
    "    # en 16KHZ\n",
    "    wav = tfio.audio.resample(wav, rate_in=sr, rate_out=16000)\n",
    "    return wav"
   ]
  },
  {
   "cell_type": "code",
   "execution_count": 40,
   "id": "9645b037",
   "metadata": {},
   "outputs": [],
   "source": [
    "def downsample_mono_v2(path, sr):\n",
    "    wavs = []\n",
    "    obj = wavio.read(path)\n",
    "    wav1 = obj.data.astype(np.float32, order='F')\n",
    "    rate = obj.rate\n",
    "    #print(wav1.shape[0])\n",
    "    # nouveaux audio de 03s\n",
    "    for i in range(0, len(wav1), rate*3):\n",
    "        #print(\"mono_v2 \" + str(i))\n",
    "        wav = []\n",
    "        for j in range(len(wav1)-i):\n",
    "            wav.append(wav1[i+j])\n",
    "        wav = np.array(wav, dtype=np.float32)\n",
    "        try:\n",
    "            channel = wav.shape[1]\n",
    "            if channel == 2:\n",
    "                wav = to_mono(wav.T)\n",
    "            elif channel == 1:\n",
    "                wav = to_mono(wav.reshape(-1))\n",
    "        except IndexError:\n",
    "            wav = to_mono(wav.reshape(-1))\n",
    "            pass\n",
    "        except Exception as exc:\n",
    "            raise exc\n",
    "        wav = resample(wav, rate, sr)\n",
    "        wav = wav.astype(np.int16)\n",
    "        wavs.append(wav)\n",
    "    return sr, wavs"
   ]
  },
  {
   "cell_type": "code",
   "execution_count": 21,
   "id": "62ccacf5",
   "metadata": {},
   "outputs": [],
   "source": [
    "path = path_to_folder + path_to_voice + \"\\\\\" + 'voix+plan).wav'"
   ]
  },
  {
   "cell_type": "code",
   "execution_count": 22,
   "id": "794fd732",
   "metadata": {},
   "outputs": [],
   "source": [
    "load_file = tf.io.read_file(path)"
   ]
  },
  {
   "cell_type": "code",
   "execution_count": 23,
   "id": "90b7df59",
   "metadata": {},
   "outputs": [],
   "source": [
    "wav, sr = tf.audio.decode_wav(load_file, desired_channels=1)"
   ]
  },
  {
   "cell_type": "code",
   "execution_count": 24,
   "id": "377c486e",
   "metadata": {},
   "outputs": [
    {
     "data": {
      "text/plain": [
       "<tf.Tensor: shape=(34427577, 1), dtype=float32, numpy=\n",
       "array([[ 0.0000000e+00],\n",
       "       [ 0.0000000e+00],\n",
       "       [ 0.0000000e+00],\n",
       "       ...,\n",
       "       [-9.1552734e-05],\n",
       "       [ 6.1035156e-05],\n",
       "       [-6.1035156e-05]], dtype=float32)>"
      ]
     },
     "execution_count": 24,
     "metadata": {},
     "output_type": "execute_result"
    }
   ],
   "source": [
    "#1 car mono\n",
    "wav"
   ]
  },
  {
   "cell_type": "code",
   "execution_count": 25,
   "id": "b136b182",
   "metadata": {},
   "outputs": [
    {
     "data": {
      "text/plain": [
       "34427577"
      ]
     },
     "execution_count": 25,
     "metadata": {},
     "output_type": "execute_result"
    }
   ],
   "source": [
    "len(wav)"
   ]
  },
  {
   "cell_type": "code",
   "execution_count": 26,
   "id": "fd41d356",
   "metadata": {},
   "outputs": [],
   "source": [
    "wav = tf.squeeze(wav, axis=-1)\n",
    "sr = tf.cast(sr, dtype=tf.int64)"
   ]
  },
  {
   "cell_type": "code",
   "execution_count": 27,
   "id": "f5962b2f",
   "metadata": {},
   "outputs": [],
   "source": [
    "wav = tfio.audio.resample(wav, rate_in=sr, rate_out=16000)"
   ]
  },
  {
   "cell_type": "code",
   "execution_count": 28,
   "id": "dfc28780",
   "metadata": {},
   "outputs": [
    {
     "data": {
      "text/plain": [
       "11475859"
      ]
     },
     "execution_count": 28,
     "metadata": {},
     "output_type": "execute_result"
    }
   ],
   "source": [
    "len(wav)"
   ]
  },
  {
   "cell_type": "code",
   "execution_count": 29,
   "id": "305e6a6e",
   "metadata": {},
   "outputs": [],
   "source": [
    "def enveloppe_max(y, rate, threshold):\n",
    "    mask = []\n",
    "    y = pd.Series(y).apply(np.abs)\n",
    "    y_mean = y.rolling(window=int(rate/20), min_periods=1,center=True).max()\n",
    "    for mean in y_mean:\n",
    "        if mean > threshold:\n",
    "            mask.append(True)\n",
    "        else:\n",
    "            mask.append(False)\n",
    "    return mask"
   ]
  },
  {
   "cell_type": "code",
   "execution_count": 30,
   "id": "94da9259",
   "metadata": {},
   "outputs": [],
   "source": [
    "def enveloppe_mean(y, rate, threshold):\n",
    "    mask = []\n",
    "    y = pd.Series(y).apply(np.abs)\n",
    "    y_mean = y.rolling(window=int(rate/20), min_periods=1,center=True).mean()\n",
    "    for mean in y_mean:\n",
    "        if mean > threshold:\n",
    "            mask.append(True)\n",
    "        else:\n",
    "            mask.append(False)\n",
    "    return mask"
   ]
  },
  {
   "cell_type": "code",
   "execution_count": 31,
   "id": "07885222",
   "metadata": {},
   "outputs": [],
   "source": [
    "def calc_fft(y, rate): \n",
    "    n = len(y) \n",
    "    freq = np.fft.rfftfreq(n, d=1/rate) # d: distance entre nos samples\n",
    "    Y = abs(np.fft.rfft(y)/n) #MAGNITUDE\n",
    "    return (Y, freq)"
   ]
  },
  {
   "cell_type": "code",
   "execution_count": 32,
   "id": "b46be4e5",
   "metadata": {},
   "outputs": [],
   "source": [
    "signals = {}\n",
    "fft = {}\n",
    "fbank = {}\n",
    "mfccs = {}"
   ]
  },
  {
   "cell_type": "code",
   "execution_count": 33,
   "id": "3bbfb3b9",
   "metadata": {},
   "outputs": [
    {
     "data": {
      "text/html": [
       "<div>\n",
       "<style scoped>\n",
       "    .dataframe tbody tr th:only-of-type {\n",
       "        vertical-align: middle;\n",
       "    }\n",
       "\n",
       "    .dataframe tbody tr th {\n",
       "        vertical-align: top;\n",
       "    }\n",
       "\n",
       "    .dataframe thead th {\n",
       "        text-align: right;\n",
       "    }\n",
       "</style>\n",
       "<table border=\"1\" class=\"dataframe\">\n",
       "  <thead>\n",
       "    <tr style=\"text-align: right;\">\n",
       "      <th></th>\n",
       "      <th>label</th>\n",
       "    </tr>\n",
       "    <tr>\n",
       "      <th>fname</th>\n",
       "      <th></th>\n",
       "    </tr>\n",
       "  </thead>\n",
       "  <tbody>\n",
       "    <tr>\n",
       "      <th>sample_p_0.wav</th>\n",
       "      <td>Plane</td>\n",
       "    </tr>\n",
       "    <tr>\n",
       "      <th>sample_p_1.wav</th>\n",
       "      <td>Plane</td>\n",
       "    </tr>\n",
       "    <tr>\n",
       "      <th>sample_p_2.wav</th>\n",
       "      <td>Plane</td>\n",
       "    </tr>\n",
       "    <tr>\n",
       "      <th>sample_p_3.wav</th>\n",
       "      <td>Plane</td>\n",
       "    </tr>\n",
       "    <tr>\n",
       "      <th>sample_p_4.wav</th>\n",
       "      <td>Plane</td>\n",
       "    </tr>\n",
       "    <tr>\n",
       "      <th>...</th>\n",
       "      <td>...</td>\n",
       "    </tr>\n",
       "    <tr>\n",
       "      <th>sample_b_26.wav</th>\n",
       "      <td>Both</td>\n",
       "    </tr>\n",
       "    <tr>\n",
       "      <th>sample_b_27.wav</th>\n",
       "      <td>Both</td>\n",
       "    </tr>\n",
       "    <tr>\n",
       "      <th>sample_b_28.wav</th>\n",
       "      <td>Both</td>\n",
       "    </tr>\n",
       "    <tr>\n",
       "      <th>sample_b_29.wav</th>\n",
       "      <td>Both</td>\n",
       "    </tr>\n",
       "    <tr>\n",
       "      <th>sample_b_30.wav</th>\n",
       "      <td>Both</td>\n",
       "    </tr>\n",
       "  </tbody>\n",
       "</table>\n",
       "<p>93 rows × 1 columns</p>\n",
       "</div>"
      ],
      "text/plain": [
       "                 label\n",
       "fname                 \n",
       "sample_p_0.wav   Plane\n",
       "sample_p_1.wav   Plane\n",
       "sample_p_2.wav   Plane\n",
       "sample_p_3.wav   Plane\n",
       "sample_p_4.wav   Plane\n",
       "...                ...\n",
       "sample_b_26.wav   Both\n",
       "sample_b_27.wav   Both\n",
       "sample_b_28.wav   Both\n",
       "sample_b_29.wav   Both\n",
       "sample_b_30.wav   Both\n",
       "\n",
       "[93 rows x 1 columns]"
      ]
     },
     "execution_count": 33,
     "metadata": {},
     "output_type": "execute_result"
    }
   ],
   "source": [
    "df"
   ]
  },
  {
   "cell_type": "code",
   "execution_count": 34,
   "id": "95875925",
   "metadata": {},
   "outputs": [],
   "source": [
    "df.reset_index(inplace=True) \n",
    "classes = list(np. unique (df.label))#unicité de chaque classe\n",
    "for c in classes: \n",
    "    rate = 16000\n",
    "    wav_16k_mono(path)\n",
    "    wav_file_plot = df[df.label == c].iloc[0,0]\n",
    "    #signal = wav_16k_mono('wavfiles1/{}/'.format(c.lower())+ wav_file_plot)\n",
    "    signal, rate = librosa.load('wavfiles1/{}/'.format(c.lower())+wav_file_plot, sr=44100)\n",
    "    mask = enveloppe_max(signal, rate, 0.0005)\n",
    "    signal = signal[mask]\n",
    "    signals[c] = signal\n",
    "    fft[c] = calc_fft (signal, rate)\n",
    "    \n",
    "    bank = logfbank (signal[:rate], rate, nfilt=26, nfft=1103).T #nfft: window length\n",
    "    fbank[c] = bank\n",
    "    mel = mfcc(signal[:rate], rate, numcep=13, nfilt=26, nfft=1183).T# numcep: numcep qu on laisse après discret cosine transoform on filter bank energies\n",
    "    mfccs[c] = mel"
   ]
  },
  {
   "cell_type": "code",
   "execution_count": 35,
   "id": "604601fa",
   "metadata": {
    "scrolled": true
   },
   "outputs": [
    {
     "data": {
      "text/html": [
       "<div>\n",
       "<style scoped>\n",
       "    .dataframe tbody tr th:only-of-type {\n",
       "        vertical-align: middle;\n",
       "    }\n",
       "\n",
       "    .dataframe tbody tr th {\n",
       "        vertical-align: top;\n",
       "    }\n",
       "\n",
       "    .dataframe thead th {\n",
       "        text-align: right;\n",
       "    }\n",
       "</style>\n",
       "<table border=\"1\" class=\"dataframe\">\n",
       "  <thead>\n",
       "    <tr style=\"text-align: right;\">\n",
       "      <th></th>\n",
       "      <th>fname</th>\n",
       "      <th>label</th>\n",
       "    </tr>\n",
       "  </thead>\n",
       "  <tbody>\n",
       "    <tr>\n",
       "      <th>0</th>\n",
       "      <td>sample_p_0.wav</td>\n",
       "      <td>Plane</td>\n",
       "    </tr>\n",
       "    <tr>\n",
       "      <th>1</th>\n",
       "      <td>sample_p_1.wav</td>\n",
       "      <td>Plane</td>\n",
       "    </tr>\n",
       "    <tr>\n",
       "      <th>2</th>\n",
       "      <td>sample_p_2.wav</td>\n",
       "      <td>Plane</td>\n",
       "    </tr>\n",
       "    <tr>\n",
       "      <th>3</th>\n",
       "      <td>sample_p_3.wav</td>\n",
       "      <td>Plane</td>\n",
       "    </tr>\n",
       "    <tr>\n",
       "      <th>4</th>\n",
       "      <td>sample_p_4.wav</td>\n",
       "      <td>Plane</td>\n",
       "    </tr>\n",
       "    <tr>\n",
       "      <th>...</th>\n",
       "      <td>...</td>\n",
       "      <td>...</td>\n",
       "    </tr>\n",
       "    <tr>\n",
       "      <th>88</th>\n",
       "      <td>sample_b_26.wav</td>\n",
       "      <td>Both</td>\n",
       "    </tr>\n",
       "    <tr>\n",
       "      <th>89</th>\n",
       "      <td>sample_b_27.wav</td>\n",
       "      <td>Both</td>\n",
       "    </tr>\n",
       "    <tr>\n",
       "      <th>90</th>\n",
       "      <td>sample_b_28.wav</td>\n",
       "      <td>Both</td>\n",
       "    </tr>\n",
       "    <tr>\n",
       "      <th>91</th>\n",
       "      <td>sample_b_29.wav</td>\n",
       "      <td>Both</td>\n",
       "    </tr>\n",
       "    <tr>\n",
       "      <th>92</th>\n",
       "      <td>sample_b_30.wav</td>\n",
       "      <td>Both</td>\n",
       "    </tr>\n",
       "  </tbody>\n",
       "</table>\n",
       "<p>93 rows × 2 columns</p>\n",
       "</div>"
      ],
      "text/plain": [
       "              fname  label\n",
       "0    sample_p_0.wav  Plane\n",
       "1    sample_p_1.wav  Plane\n",
       "2    sample_p_2.wav  Plane\n",
       "3    sample_p_3.wav  Plane\n",
       "4    sample_p_4.wav  Plane\n",
       "..              ...    ...\n",
       "88  sample_b_26.wav   Both\n",
       "89  sample_b_27.wav   Both\n",
       "90  sample_b_28.wav   Both\n",
       "91  sample_b_29.wav   Both\n",
       "92  sample_b_30.wav   Both\n",
       "\n",
       "[93 rows x 2 columns]"
      ]
     },
     "execution_count": 35,
     "metadata": {},
     "output_type": "execute_result"
    }
   ],
   "source": [
    "df"
   ]
  },
  {
   "cell_type": "markdown",
   "id": "97c783f7",
   "metadata": {},
   "source": [
    "# Comparaison Avant et Après ajout de voix au même vocal"
   ]
  },
  {
   "cell_type": "code",
   "execution_count": 36,
   "id": "faafdefa",
   "metadata": {},
   "outputs": [
    {
     "data": {
      "image/png": "[encoded data removed]",
      "text/plain": [
       "<Figure size 1440x360 with 4 Axes>"
      ]
     },
     "metadata": {
      "needs_background": "light"
     },
     "output_type": "display_data"
    }
   ],
   "source": [
    "plot_signals(signals)\n",
    "plt.show()"
   ]
  },
  {
   "cell_type": "code",
   "execution_count": 37,
   "id": "abb3a48f",
   "metadata": {},
   "outputs": [
    {
     "data": {
      "image/png": "[encoded data removed]",
      "text/plain": [
       "<Figure size 1440x360 with 4 Axes>"
      ]
     },
     "metadata": {
      "needs_background": "light"
     },
     "output_type": "display_data"
    }
   ],
   "source": [
    "plot_fft(fft)\n",
    "plt.show()\n"
   ]
  },
  {
   "cell_type": "code",
   "execution_count": 38,
   "id": "4aa5055d",
   "metadata": {},
   "outputs": [
    {
     "data": {
      "image/png": "[encoded data removed]",
      "text/plain": [
       "<Figure size 2016x360 with 4 Axes>"
      ]
     },
     "metadata": {
      "needs_background": "light"
     },
     "output_type": "display_data"
    }
   ],
   "source": [
    "plot_fbank(fbank)\n",
    "plt.show() "
   ]
  },
  {
   "cell_type": "code",
   "execution_count": 39,
   "id": "fe958ad9",
   "metadata": {
    "scrolled": true
   },
   "outputs": [
    {
     "data": {
      "image/png": "[encoded data removed]",
      "text/plain": [
       "<Figure size 2016x360 with 4 Axes>"
      ]
     },
     "metadata": {
      "needs_background": "light"
     },
     "output_type": "display_data"
    }
   ],
   "source": [
    "plot_mfccs(mfccs) \n",
    "plt.show()"
   ]
  },
  {
   "cell_type": "markdown",
   "id": "65ee9d28",
   "metadata": {},
   "source": [
    "# cleanning"
   ]
  },
  {
   "cell_type": "code",
   "execution_count": 48,
   "id": "de1f8a1c",
   "metadata": {},
   "outputs": [
    {
     "name": "stderr",
     "output_type": "stream",
     "text": [
      "100%|██████████████████████████████████████████████████████████████████████████████████| 62/62 [00:03<00:00, 16.25it/s]\n",
      "100%|██████████████████████████████████████████████████████████████████████████████████| 31/31 [00:01<00:00, 16.31it/s]\n"
     ]
    }
   ],
   "source": [
    "split_wavs(args)"
   ]
  },
  {
   "cell_type": "code",
   "execution_count": null,
   "id": "ec5f9e2c",
   "metadata": {},
   "outputs": [],
   "source": []
  },
  {
   "cell_type": "code",
   "execution_count": null,
   "id": "11a08d6a",
   "metadata": {},
   "outputs": [],
   "source": []
  },
  {
   "cell_type": "code",
   "execution_count": null,
   "id": "79d7539a",
   "metadata": {},
   "outputs": [],
   "source": []
  }
 ],
 "metadata": {
  "kernelspec": {
   "display_name": "Python 3",
   "language": "python",
   "name": "python3"
  },
  "language_info": {
   "codemirror_mode": {
    "name": "ipython",
    "version": 3
   },
   "file_extension": ".py",
   "mimetype": "text/x-python",
   "name": "python",
   "nbconvert_exporter": "python",
   "pygments_lexer": "ipython3",
   "version": "3.7.0"
  }
 },
 "nbformat": 4,
 "nbformat_minor": 5
}
