{
 "cells": [
  {
   "cell_type": "code",
   "execution_count": 11,
   "id": "b729850d",
   "metadata": {},
   "outputs": [],
   "source": [
    "import os\n",
    "import random\n",
    "import matplotlib.pyplot as plt\n",
    "import numpy as np\n",
    "import math as m\n",
    "import soundfile as sf\n",
    "\n",
    "path_to_folder = os.getcwd()\n",
    "path_to_voice = '\\\\LibriSpeech\\\\train-clean-100'\n",
    "path_to_plane = '\\\\recordings\\\\'"
   ]
  },
  {
   "cell_type": "code",
   "execution_count": 12,
   "id": "437865e3",
   "metadata": {},
   "outputs": [],
   "source": [
    "def random_voice_file():\n",
    "    path = path_to_folder+'\\\\LibriSpeech\\\\train-clean-100'\n",
    "    dirr = os.listdir(path)\n",
    "    dir1 = random.sample(dirr,1)[0]\n",
    "    path = path + \"\\\\\" + dir1\n",
    "    dir2 = os.listdir(path)\n",
    "    dir2 = random.sample(dir2,1)[0]\n",
    "    path = path + \"\\\\\" + dir2\n",
    "    file = os.listdir(path)\n",
    "    file = random.sample(file,1)[0]\n",
    "    while file[-1] != 'c':\n",
    "        file = os.listdir(path)\n",
    "        file = random.sample(dir2,1)[0]\n",
    "    path = path + \"\\\\\" + file\n",
    "    return(path,file)"
   ]
  },
  {
   "cell_type": "code",
   "execution_count": 13,
   "id": "b5aa245e",
   "metadata": {},
   "outputs": [],
   "source": [
    "def random_plane_file():\n",
    "    n = random.randint(0,24)\n",
    "    return(path_to_folder+path_to_plane+\"record_\"+str(n)+\".wav\")"
   ]
  },
  {
   "cell_type": "code",
   "execution_count": 14,
   "id": "95c84c3e",
   "metadata": {},
   "outputs": [
    {
     "name": "stdout",
     "output_type": "stream",
     "text": [
      "d:\\Utilisateurs\\ENAC\\projet_AIRBUS\\LibriSpeech\\train-clean-100\\1263\\141777\\1263-141777-0034.flac 1263-141777-0034\n",
      "d:\\Utilisateurs\\ENAC\\projet_AIRBUS\\recordings\\record_15.wav\n"
     ]
    }
   ],
   "source": [
    "path,file = random_voice_file()\n",
    "print(path,file[:-5])\n",
    "plane = random_plane_file()\n",
    "print(plane)"
   ]
  },
  {
   "cell_type": "code",
   "execution_count": 15,
   "id": "cae9414d",
   "metadata": {},
   "outputs": [],
   "source": [
    "def get_time_steps(lendata,samplerate):\n",
    "    return(np.linspace(0,int(lendata/samplerate),lendata))"
   ]
  },
  {
   "cell_type": "code",
   "execution_count": 16,
   "id": "1224a69a",
   "metadata": {},
   "outputs": [
    {
     "name": "stdout",
     "output_type": "stream",
     "text": [
      "3932160 232560\n"
     ]
    }
   ],
   "source": [
    "import soundfile as sf\n",
    "datavoice, sampleratevoice = sf.read(path)\n",
    "dataplane, samplerateplane = sf.read(random_plane_file())\n",
    "print(len(dataplane),len(datavoice))"
   ]
  },
  {
   "cell_type": "code",
   "execution_count": 17,
   "id": "49f87334",
   "metadata": {},
   "outputs": [],
   "source": [
    "#Les enregistrements d'avions et de voix n'ont pas le même sample rate. Afin de pouvoir les additionner facilement, on peut\n",
    "#modifier le son avec le sample rate le plus petit, en considérant l'intensité constante entre les points \n",
    "#effectivement enregistrés\n",
    "\n",
    "def same_sample_rate(voice,sr_voice,plane,sr_plane):\n",
    "\n",
    "    if sr_voice>sr_plane:\n",
    "        voice_adjusted = voice\n",
    "        pas = int(sr_voice/sr_plane)\n",
    "        plane_adjusted = []\n",
    "        for t in range(len(plane)):\n",
    "            plane_adjusted += [plane[t] for p in range(pas)]\n",
    "    else:\n",
    "        plane_adjusted = plane\n",
    "        pas = int(sr_plane/sr_voice)\n",
    "        for t in range(len(voice)):\n",
    "            voice_adjusted += [voice[t] for p in range(pas)]\n",
    "    return (np.array(voice_adjusted),np.array(plane_adjusted),max([sr_voice,sr_plane]))"
   ]
  },
  {
   "cell_type": "code",
   "execution_count": 18,
   "id": "4de02a06",
   "metadata": {},
   "outputs": [],
   "source": [
    "def gen_samples(plane,voice,debut): #superpose deux sons de meme samplerate\n",
    "\n",
    "    percent_voice = len(voice)/len(plane) * 100\n",
    "    if percent_voice > 100-debut:\n",
    "        debut_effectif = 99 - debut #on decale si ca fait trop\n",
    "\n",
    "    else:\n",
    "        debut_effectif = debut\n",
    "    plane = np.array(plane)\n",
    "    voice = np.array(voice)\n",
    "\n",
    "    len_duration = len(voice)\n",
    "\n",
    "    t_debut = int(debut/100 * len(plane))\n",
    "    t_fin = t_debut + len_duration\n",
    "    # print(len(res),len_duration)\n",
    "    res = np.add(plane[t_debut : t_fin],voice)\n",
    "    \n",
    "    return voice,plane[t_debut : t_fin],np.add(plane[t_debut : t_fin],voice),debut_effectif"
   ]
  },
  {
   "cell_type": "code",
   "execution_count": 19,
   "id": "9318ab66",
   "metadata": {},
   "outputs": [],
   "source": [
    "def generate_database(nb):\n",
    "    for i in range(nb):\n",
    "        #on selectionne les fichiers\n",
    "        path_voice,file = random_voice_file()\n",
    "        path_plane = random_plane_file()\n",
    "        \n",
    "        #on les ouvre\n",
    "        datavoice, sr_voice = sf.read(path_voice)\n",
    "        dataplane, sr_plane = sf.read(path_plane)\n",
    "\n",
    "        #on les met a la meme frequence d'echantillonage\n",
    "        plane,voice,sr = same_sample_rate(dataplane,sr_plane,datavoice,sr_voice)\n",
    "\n",
    "        percent_voice = int(len(voice)/len(plane) * 100)+1\n",
    "        if percent_voice<100:\n",
    "            debut = random.randint(0,100-percent_voice) # en pourcent de l'extrait\n",
    "            #on les superpose à partir de debut\n",
    "            s_voice,s_plane,s_both,debut_effectif = gen_samples(plane,voice,debut) #il y aura 10% de voix\n",
    "            \n",
    "            name_file_svoice =  \"db\\\\voice\\\\sample_v_{}.wav\".format(i)\n",
    "            sf.write(name_file_svoice, s_voice, sr)\n",
    "\n",
    "            name_file_splane = \"db\\\\plane\\\\sample_p_{}.wav\".format(i)\n",
    "            sf.write(name_file_splane, s_plane, sr)\n",
    "\n",
    "            name_file_sboth = \"db\\\\both\\\\sample_b_{}.wav\".format(i)\n",
    "            sf.write(name_file_sboth, s_both, sr)\n",
    "\n",
    "    return True"
   ]
  },
  {
   "cell_type": "code",
   "execution_count": 20,
   "id": "ca22402c",
   "metadata": {},
   "outputs": [
    {
     "ename": "KeyboardInterrupt",
     "evalue": "",
     "output_type": "error",
     "traceback": [
      "\u001b[1;31m---------------------------------------------------------------------------\u001b[0m",
      "\u001b[1;31mKeyboardInterrupt\u001b[0m                         Traceback (most recent call last)",
      "Cell \u001b[1;32mIn[20], line 1\u001b[0m\n\u001b[1;32m----> 1\u001b[0m generate_database(\u001b[39m50\u001b[39;49m)\n",
      "Cell \u001b[1;32mIn[19], line 4\u001b[0m, in \u001b[0;36mgenerate_database\u001b[1;34m(nb)\u001b[0m\n\u001b[0;32m      1\u001b[0m \u001b[39mdef\u001b[39;00m \u001b[39mgenerate_database\u001b[39m(nb):\n\u001b[0;32m      2\u001b[0m     \u001b[39mfor\u001b[39;00m i \u001b[39min\u001b[39;00m \u001b[39mrange\u001b[39m(nb):\n\u001b[0;32m      3\u001b[0m         \u001b[39m#on selectionne les fichiers\u001b[39;00m\n\u001b[1;32m----> 4\u001b[0m         path_voice,file \u001b[39m=\u001b[39m random_voice_file()\n\u001b[0;32m      5\u001b[0m         path_plane \u001b[39m=\u001b[39m random_plane_file()\n\u001b[0;32m      7\u001b[0m         \u001b[39m#on les ouvre\u001b[39;00m\n",
      "Cell \u001b[1;32mIn[12], line 12\u001b[0m, in \u001b[0;36mrandom_voice_file\u001b[1;34m()\u001b[0m\n\u001b[0;32m     10\u001b[0m file \u001b[39m=\u001b[39m random\u001b[39m.\u001b[39msample(file,\u001b[39m1\u001b[39m)[\u001b[39m0\u001b[39m]\n\u001b[0;32m     11\u001b[0m \u001b[39mwhile\u001b[39;00m file[\u001b[39m-\u001b[39m\u001b[39m1\u001b[39m] \u001b[39m!=\u001b[39m \u001b[39m'\u001b[39m\u001b[39mc\u001b[39m\u001b[39m'\u001b[39m:\n\u001b[1;32m---> 12\u001b[0m     file \u001b[39m=\u001b[39m os\u001b[39m.\u001b[39;49mlistdir(path)\n\u001b[0;32m     13\u001b[0m     file \u001b[39m=\u001b[39m random\u001b[39m.\u001b[39msample(dir2,\u001b[39m1\u001b[39m)[\u001b[39m0\u001b[39m]\n\u001b[0;32m     14\u001b[0m path \u001b[39m=\u001b[39m path \u001b[39m+\u001b[39m \u001b[39m\"\u001b[39m\u001b[39m\\\\\u001b[39;00m\u001b[39m\"\u001b[39m \u001b[39m+\u001b[39m file\n",
      "\u001b[1;31mKeyboardInterrupt\u001b[0m: "
     ]
    }
   ],
   "source": [
    "generate_database(50)"
   ]
  }
 ],
 "metadata": {
  "kernelspec": {
   "display_name": "Python 3.9.0 64-bit",
   "language": "python",
   "name": "python3"
  },
  "language_info": {
   "codemirror_mode": {
    "name": "ipython",
    "version": 3
   },
   "file_extension": ".py",
   "mimetype": "text/x-python",
   "name": "python",
   "nbconvert_exporter": "python",
   "pygments_lexer": "ipython3",
   "version": "3.9.0 (tags/v3.9.0:9cf6752, Oct  5 2020, 15:34:40) [MSC v.1927 64 bit (AMD64)]"
  },
  "vscode": {
   "interpreter": {
    "hash": "f07a9cec850f9104fc95ea0494484df5ee5d9a14128a89aec6d609f0f574ea61"
   }
  }
 },
 "nbformat": 4,
 "nbformat_minor": 5
}
