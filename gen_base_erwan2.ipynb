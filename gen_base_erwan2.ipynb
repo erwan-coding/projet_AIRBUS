{
 "cells": [
  {
   "cell_type": "code",
   "execution_count": 25,
   "id": "b729850d",
   "metadata": {},
   "outputs": [],
   "source": [
    "import os\n",
    "import random\n",
    "import matplotlib.pyplot as plt\n",
    "import numpy as np\n",
    "import math as m\n",
    "import soundfile as sf\n",
    "\n",
    "path_to_folder = os.getcwd()\n",
    "path_to_voice = '\\\\LibriSpeech\\\\train-clean-100'\n",
    "path_to_plane = '\\\\recordings\\\\'"
   ]
  },
  {
   "cell_type": "code",
   "execution_count": 26,
   "id": "437865e3",
   "metadata": {},
   "outputs": [],
   "source": [
    "def random_voice_file():\n",
    "    path = path_to_folder+'\\\\LibriSpeech\\\\train-clean-100'\n",
    "    dirr = os.listdir(path)\n",
    "    dir1 = random.sample(dirr,1)[0]\n",
    "    path = path + \"\\\\\" + dir1\n",
    "    dir2 = os.listdir(path)\n",
    "    dir2 = random.sample(dir2,1)[0]\n",
    "    path = path + \"\\\\\" + dir2\n",
    "    file = os.listdir(path)\n",
    "    file = random.sample(file,1)[0]\n",
    "    while file[-1] != 'c':\n",
    "        file = os.listdir(path)\n",
    "        file = random.sample(dir2,1)[0]\n",
    "    path = path + \"\\\\\" + file\n",
    "    return(path,file)"
   ]
  },
  {
   "cell_type": "code",
   "execution_count": 27,
   "id": "b5aa245e",
   "metadata": {},
   "outputs": [],
   "source": [
    "def random_plane_file():\n",
    "    n = random.randint(0,24)\n",
    "    return(path_to_folder+path_to_plane+\"record_\"+str(n)+\".wav\")"
   ]
  },
  {
   "cell_type": "code",
   "execution_count": 28,
   "id": "95c84c3e",
   "metadata": {},
   "outputs": [
    {
     "name": "stdout",
     "output_type": "stream",
     "text": [
      "d:\\Utilisateurs\\ENAC\\projet_AIRBUS\\LibriSpeech\\train-clean-100\\1263\\141777\\1263-141777-0030.flac 1263-141777-0030\n",
      "d:\\Utilisateurs\\ENAC\\projet_AIRBUS\\recordings\\record_24.wav\n"
     ]
    }
   ],
   "source": [
    "path,file = random_voice_file()\n",
    "print(path,file[:-5])\n",
    "plane = random_plane_file()\n",
    "print(plane)"
   ]
  },
  {
   "cell_type": "code",
   "execution_count": 29,
   "id": "cae9414d",
   "metadata": {},
   "outputs": [],
   "source": [
    "def get_time_steps(lendata,samplerate):\n",
    "    return(np.linspace(0,int(lendata/samplerate),lendata))"
   ]
  },
  {
   "cell_type": "code",
   "execution_count": 30,
   "id": "1224a69a",
   "metadata": {},
   "outputs": [
    {
     "name": "stdout",
     "output_type": "stream",
     "text": [
      "7864320 230480\n"
     ]
    }
   ],
   "source": [
    "import soundfile as sf\n",
    "datavoice, sampleratevoice = sf.read(path)\n",
    "dataplane, samplerateplane = sf.read(random_plane_file())\n",
    "print(len(dataplane),len(datavoice))"
   ]
  },
  {
   "cell_type": "code",
   "execution_count": 31,
   "id": "49f87334",
   "metadata": {},
   "outputs": [],
   "source": [
    "#Les enregistrements d'avions et de voix n'ont pas le même sample rate. Afin de pouvoir les additionner facilement, on peut\n",
    "#modifier le son avec le sample rate le plus petit, en considérant l'intensité constante entre les points \n",
    "#effectivement enregistrés\n",
    "\n",
    "def same_sample_rate(voice,sr_voice,plane,sr_plane):\n",
    "\n",
    "    if sr_voice>sr_plane:\n",
    "        voice_adjusted = voice\n",
    "        pas = int(sr_voice/sr_plane)\n",
    "        plane_adjusted = []\n",
    "        for t in range(len(plane)):\n",
    "            plane_adjusted += [plane[t] for p in range(pas)]\n",
    "    else:\n",
    "        plane_adjusted = plane\n",
    "        pas = int(sr_plane/sr_voice)\n",
    "        for t in range(len(voice)):\n",
    "            voice_adjusted += [voice[t] for p in range(pas)]\n",
    "    return (np.array(voice_adjusted),np.array(plane_adjusted),max([sr_voice,sr_plane]))"
   ]
  },
  {
   "cell_type": "code",
   "execution_count": 32,
   "id": "4de02a06",
   "metadata": {},
   "outputs": [],
   "source": [
    "def gen_samples(plane,voice,debut): #superpose deux sons de meme samplerate\n",
    "\n",
    "    percent_voice = len(voice)/len(plane) * 100\n",
    "    if percent_voice > 100-debut:\n",
    "        debut_effectif = 99 - debut #on decale si ca fait trop\n",
    "\n",
    "    else:\n",
    "        debut_effectif = debut\n",
    "    plane = np.array(plane)\n",
    "    voice = np.array(voice)\n",
    "\n",
    "    len_duration = len(voice)\n",
    "\n",
    "    t_debut = int(debut/100 * len(plane))\n",
    "    t_fin = t_debut + len_duration\n",
    "    # print(len(res),len_duration)\n",
    "    res = np.add(plane[t_debut : t_fin],voice)\n",
    "    \n",
    "    return voice,plane[t_debut : t_fin],np.add(plane[t_debut : t_fin],voice),debut_effectif"
   ]
  },
  {
   "cell_type": "code",
   "execution_count": 36,
   "id": "9318ab66",
   "metadata": {},
   "outputs": [],
   "source": [
    "def generate_database(nb):\n",
    "    for i in range(nb):\n",
    "        #on selectionne les fichiers\n",
    "        path_voice,file = random_voice_file()\n",
    "        path_plane = random_plane_file()\n",
    "        \n",
    "        #on les ouvre\n",
    "        datavoice, sr_voice = sf.read(path_voice)\n",
    "        dataplane, sr_plane = sf.read(path_plane)\n",
    "\n",
    "        #on les met a la meme frequence d'echantillonage\n",
    "        plane,voice,sr = same_sample_rate(dataplane,sr_plane,datavoice,sr_voice)\n",
    "\n",
    "        percent_voice = int(len(voice)/len(plane) * 100)+1\n",
    "\n",
    "        debut = random.randint(0,100-percent_voice) # en pourcent de l'extrait\n",
    "        #on les superpose à partir de debut\n",
    "        s_voice,s_plane,s_both,debut_effectif = gen_samples(plane,voice,debut) #il y aura 10% de voix\n",
    "        \n",
    "        name_file_svoice =  \"db\\\\voice\\\\sample_v_{}.wav\".format(i)\n",
    "        sf.write(name_file_svoice, s_voice, sr)\n",
    "\n",
    "        name_file_splane = \"db\\\\plane\\\\sample_p_{}.wav\".format(i)\n",
    "        sf.write(name_file_splane, s_plane, sr)\n",
    "\n",
    "        name_file_sboth = \"db\\\\both\\\\sample_b_{}.wav\".format(i)\n",
    "        sf.write(name_file_sboth, s_both, sr)\n",
    "\n",
    "    return True"
   ]
  },
  {
   "cell_type": "code",
   "execution_count": 38,
   "id": "ca22402c",
   "metadata": {},
   "outputs": [
    {
     "data": {
      "text/plain": [
       "True"
      ]
     },
     "execution_count": 38,
     "metadata": {},
     "output_type": "execute_result"
    }
   ],
   "source": [
    "generate_database(20)"
   ]
  }
 ],
 "metadata": {
  "kernelspec": {
   "display_name": "Python 3.9.0 64-bit",
   "language": "python",
   "name": "python3"
  },
  "language_info": {
   "codemirror_mode": {
    "name": "ipython",
    "version": 3
   },
   "file_extension": ".py",
   "mimetype": "text/x-python",
   "name": "python",
   "nbconvert_exporter": "python",
   "pygments_lexer": "ipython3",
   "version": "3.9.0"
  },
  "vscode": {
   "interpreter": {
    "hash": "f07a9cec850f9104fc95ea0494484df5ee5d9a14128a89aec6d609f0f574ea61"
   }
  }
 },
 "nbformat": 4,
 "nbformat_minor": 5
}
