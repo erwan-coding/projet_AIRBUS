{
 "cells": [
  {
   "cell_type": "code",
   "execution_count": 13,
   "id": "d16ecee1",
   "metadata": {},
   "outputs": [],
   "source": [
    "import librosa\n",
    "import librosa.display\n",
    "import os\n",
    "import pandas as pd\n",
    "import numpy as np\n",
    "from time import time \n",
    "import random as rd\n",
    "import matplotlib.pyplot as plt\n",
    "from sklearn.preprocessing import StandardScaler\n",
    "from sklearn.decomposition import PCA\n",
    "import numpy as np\n",
    "import threading\n",
    "from sklearn.metrics import confusion_matrix,accuracy_score\n",
    "\n",
    "import matplotlib.pyplot as plt\n",
    "import seaborn as sns\n",
    "\n",
    "import warnings\n",
    "warnings.filterwarnings(\"ignore\")\n",
    "\n",
    "path_to_db_voice = \"C:\\\\Users\\\\antoi\\Desktop\\\\Airbus\\\\projet_AIRBUS\\\\db\\\\voice\\\\\"\n",
    "path_to_db_plane = \"C:\\\\Users\\\\antoi\\Desktop\\\\Airbus\\\\projet_AIRBUS\\\\db\\\\plane\\\\\"\n",
    "path_to_db_both = \"C:\\\\Users\\\\antoi\\Desktop\\\\Airbus\\\\projet_AIRBUS\\\\db\\\\both\\\\\"\n",
    "\n",
    "l_voice_records = os.listdir(path_to_db_voice)\n",
    "l_airplane_records = os.listdir(path_to_db_plane)\n",
    "l_both_records = os.listdir(path_to_db_both)"
   ]
  },
  {
   "cell_type": "code",
   "execution_count": 14,
   "id": "39391b81",
   "metadata": {},
   "outputs": [],
   "source": [
    "def separe_train_test(db_folder_path,n_records,test_size):\n",
    "    l_records = os.listdir(db_folder_path)\n",
    "    sub_l_records = rd.sample(l_records,n_records)\n",
    "    size = len(sub_l_records)\n",
    "    sep = round(test_size*size)\n",
    "    sample = rd.sample(sub_l_records,size)\n",
    "    test = sample[:sep]\n",
    "    train = sample[sep:]\n",
    "    return train,test"
   ]
  },
  {
   "cell_type": "code",
   "execution_count": 15,
   "id": "e0e0c081",
   "metadata": {},
   "outputs": [],
   "source": [
    "def gen_X_train_test(db_folder_path,n_records,test_size):\n",
    "    sp_rec_train = []\n",
    "    sp_rec_test = []\n",
    "    hops_train = []\n",
    "    hops_test = []\n",
    "    records_train,records_test = separe_train_test(db_folder_path,n_records,test_size)\n",
    "    i = 0\n",
    "    for record in records_train:\n",
    "        print('Building train {}/{}'.format(i,len(records_train)),end='\\r')\n",
    "        signal,sample_rate = librosa.load(db_folder_path + record)\n",
    "        spectrum = librosa.stft(y=signal,center=False) \n",
    "        spectrum = spectrum.astype(float)\n",
    "        sp_rec_train.append(np.abs(np.transpose(spectrum)))\n",
    "        hops_train.append(len(signal)//len(spectrum))\n",
    "        i+=1\n",
    "\n",
    "        # plt.hist(np.unique(spectrum),bins=200)\n",
    "        # plt.yscale('log')\n",
    "        # fig = librosa.display.specshow(spectrum, sr=sample_rate, x_axis='time', y_axis='log')\n",
    "        # plt.colorbar(format='%+2.0f dB')\n",
    "        # plt.title('Spectrogram')\n",
    "        # plt.plot()\n",
    "        # plt.show()\n",
    "    i=0\n",
    "    for record in records_test: \n",
    "        print('Building  test {}/{}'.format(i,len(records_test)),end='\\r')\n",
    "        signal,sample_rate = librosa.load(db_folder_path + record)\n",
    "        spectrum = librosa.stft(y=signal,center=False) \n",
    "        spectrum = spectrum.astype(float)\n",
    "        sp_rec_test.append(np.abs(np.transpose(spectrum)))\n",
    "        hops_test.append(len(signal)//len(spectrum))\n",
    "        i+=1\n",
    "\n",
    "    X_train = np.concatenate(sp_rec_train)\n",
    "    X_test = np.concatenate(sp_rec_test)\n",
    "\n",
    "    return X_train,X_test,hops_train,hops_test"
   ]
  },
  {
   "cell_type": "code",
   "execution_count": 16,
   "id": "4a539b21",
   "metadata": {},
   "outputs": [
    {
     "name": "stdout",
     "output_type": "stream",
     "text": [
      "Both done test 52/5325\r"
     ]
    }
   ],
   "source": [
    "n_records = 178\n",
    "\n",
    "X_voice_train,X_voice_test,hops_voice_train,hops_voice_test= gen_X_train_test(path_to_db_voice,n_records,0.3)\n",
    "print('Voice done',end='\\r')\n",
    "X_plane_train,X_plane_test,hops_plane_train,hops_plane_test = gen_X_train_test(path_to_db_plane,n_records,0.3)\n",
    "print('Plane done',end='\\r')\n",
    "X_both_train,X_both_test,hops_both_train,hops_both_test = gen_X_train_test(path_to_db_both,n_records,0.3)\n",
    "print('Both done',end='\\r')"
   ]
  },
  {
   "cell_type": "code",
   "execution_count": 17,
   "id": "18c1d677",
   "metadata": {},
   "outputs": [],
   "source": [
    "from sklearn.ensemble import RandomForestClassifier\n",
    "from sklearn.model_selection import train_test_split\n",
    "\n",
    "threshold = 10\n",
    "\n",
    "\n",
    "import pandas\n",
    "from keras.models import Sequential\n",
    "from keras.layers import Dense\n",
    "from keras.layers import Dropout\n",
    "from keras.wrappers.scikit_learn import KerasClassifier\n",
    "from keras.utils import np_utils\n",
    "from sklearn.model_selection import cross_val_score\n",
    "from sklearn.model_selection import KFold\n",
    "from sklearn.preprocessing import LabelEncoder\n",
    "from sklearn.pipeline import Pipeline\n",
    "\n",
    "y_voice_train = ['Voice' for elt in X_voice_train]\n",
    "y_plane_train = ['Plane' for elt in X_plane_train]\n",
    "y_both_train = ['Voice' for elt in X_both_train]\n",
    "\n",
    "y_voice_test = ['Voice' for elt in X_voice_test]\n",
    "y_plane_test = ['Plane' for elt in X_plane_test]\n",
    "y_both_test = ['Voice' for elt in X_both_test]\n",
    "\n",
    "\n",
    "Y = y_voice_train + y_plane_train + y_both_train + y_plane_test + y_both_test\n",
    "# encode class values as integers\n",
    "encoder = LabelEncoder()\n",
    "encoder.fit(Y)\n",
    "encoded_Y = encoder.transform(Y)\n",
    "\n",
    "# convert integers to dummy variables (i.e. one hot encoded)\n",
    "dummy_y = np_utils.to_categorical(encoded_Y)\n",
    "\n",
    "\n",
    "X_train = np.concatenate([X_voice_train,X_plane_train,X_both_train])\n",
    "X_test = np.concatenate([X_plane_test,X_both_test])\n",
    "\n",
    "y_train = dummy_y[:len(y_voice_train) + len(y_plane_train) + len(y_both_train)]\n",
    "y_test = dummy_y[len(y_voice_train) + len(y_plane_train) + len(y_both_train)::]"
   ]
  },
  {
   "cell_type": "code",
   "execution_count": 66,
   "id": "3ed09f3b",
   "metadata": {
    "scrolled": true
   },
   "outputs": [
    {
     "data": {
      "text/plain": [
       "array([0., 1.], dtype=float32)"
      ]
     },
     "execution_count": 66,
     "metadata": {},
     "output_type": "execute_result"
    }
   ],
   "source": [
    "encoded_Y[0]\n",
    "dummy_y[0]"
   ]
  },
  {
   "cell_type": "code",
   "execution_count": 58,
   "id": "fab2ea4b",
   "metadata": {},
   "outputs": [],
   "source": [
    "def model():\n",
    "    model = Sequential()\n",
    "    model.add(Dense(32,input_dim=1025, activation='relu'))\n",
    "    model.add(Dense(16, input_dim=32, activation = 'sigmoid'))\n",
    "    #model.add(Dropout(0.3))\n",
    "    #model.add(Dense(16, activation = 'sigmoid'))\n",
    "    model.add(Dense(2, activation='softmax'))\n",
    "    model.compile(loss='binary_crossentropy', optimizer='adam', metrics=['accuracy'])\n",
    "    return model"
   ]
  },
  {
   "cell_type": "code",
   "execution_count": 59,
   "id": "c271fad6",
   "metadata": {},
   "outputs": [
    {
     "data": {
      "text/plain": [
       "(57263, 1025)"
      ]
     },
     "execution_count": 59,
     "metadata": {},
     "output_type": "execute_result"
    }
   ],
   "source": [
    "X_test.shape"
   ]
  },
  {
   "cell_type": "code",
   "execution_count": 60,
   "id": "512295e0",
   "metadata": {},
   "outputs": [
    {
     "name": "stdout",
     "output_type": "stream",
     "text": [
      "Epoch 1/20\n",
      "3155/3155 [==============================] - 4s 1ms/step - loss: 0.3535 - accuracy: 0.8267\n",
      "Epoch 2/20\n",
      "3155/3155 [==============================] - 3s 1ms/step - loss: 0.2967 - accuracy: 0.8581\n",
      "Epoch 3/20\n",
      "3155/3155 [==============================] - 3s 1ms/step - loss: 0.2840 - accuracy: 0.8652\n",
      "Epoch 4/20\n",
      "3155/3155 [==============================] - 3s 1ms/step - loss: 0.2753 - accuracy: 0.8699\n",
      "Epoch 5/20\n",
      "3155/3155 [==============================] - 3s 1ms/step - loss: 0.2688 - accuracy: 0.8735\n",
      "Epoch 6/20\n",
      "3155/3155 [==============================] - 3s 1ms/step - loss: 0.2637 - accuracy: 0.8763\n",
      "Epoch 7/20\n",
      "3155/3155 [==============================] - 3s 1ms/step - loss: 0.2604 - accuracy: 0.8788\n",
      "Epoch 8/20\n",
      "3155/3155 [==============================] - 3s 1ms/step - loss: 0.2568 - accuracy: 0.8810\n",
      "Epoch 9/20\n",
      "3155/3155 [==============================] - 3s 1ms/step - loss: 0.2545 - accuracy: 0.8819\n",
      "Epoch 10/20\n",
      "3155/3155 [==============================] - 3s 1ms/step - loss: 0.2521 - accuracy: 0.8839\n",
      "Epoch 11/20\n",
      "3155/3155 [==============================] - 3s 1ms/step - loss: 0.2497 - accuracy: 0.8851\n",
      "Epoch 12/20\n",
      "3155/3155 [==============================] - 3s 1ms/step - loss: 0.2479 - accuracy: 0.8858\n",
      "Epoch 13/20\n",
      "3155/3155 [==============================] - 3s 1ms/step - loss: 0.2461 - accuracy: 0.8870\n",
      "Epoch 14/20\n",
      "3155/3155 [==============================] - 3s 1ms/step - loss: 0.2443 - accuracy: 0.8880\n",
      "Epoch 15/20\n",
      "3155/3155 [==============================] - 3s 1ms/step - loss: 0.2427 - accuracy: 0.8888\n",
      "Epoch 16/20\n",
      "3155/3155 [==============================] - 3s 1ms/step - loss: 0.2417 - accuracy: 0.8893\n",
      "Epoch 17/20\n",
      "3155/3155 [==============================] - 3s 1ms/step - loss: 0.2405 - accuracy: 0.8902\n",
      "Epoch 18/20\n",
      "3155/3155 [==============================] - 3s 1ms/step - loss: 0.2389 - accuracy: 0.8909\n",
      "Epoch 19/20\n",
      "3155/3155 [==============================] - 3s 1ms/step - loss: 0.2376 - accuracy: 0.8913\n",
      "Epoch 20/20\n",
      "3155/3155 [==============================] - 3s 1ms/step - loss: 0.2364 - accuracy: 0.8925\n"
     ]
    },
    {
     "data": {
      "text/plain": [
       "<keras.callbacks.History at 0x1735935d940>"
      ]
     },
     "execution_count": 60,
     "metadata": {},
     "output_type": "execute_result"
    }
   ],
   "source": [
    "nn = model()\n",
    "nn.fit(X_train, y_train, epochs=20, batch_size=64)"
   ]
  },
  {
   "cell_type": "code",
   "execution_count": 61,
   "id": "ff48ac09",
   "metadata": {},
   "outputs": [
    {
     "name": "stdout",
     "output_type": "stream",
     "text": [
      "1790/1790 [==============================] - 1s 584us/step\n",
      "Accuracy is: 77.1248450133594\n"
     ]
    },
    {
     "data": {
      "image/png": "[encoded data removed]",
      "text/plain": [
       "<Figure size 432x288 with 2 Axes>"
      ]
     },
     "metadata": {},
     "output_type": "display_data"
    },
    {
     "data": {
      "image/png": "[encoded data removed]",
      "text/plain": [
       "<Figure size 432x288 with 1 Axes>"
      ]
     },
     "metadata": {},
     "output_type": "display_data"
    },
    {
     "data": {
      "image/png": "[encoded data removed]",
      "text/plain": [
       "<Figure size 432x288 with 1 Axes>"
      ]
     },
     "metadata": {},
     "output_type": "display_data"
    }
   ],
   "source": [
    "char_nn(nn)"
   ]
  },
  {
   "cell_type": "code",
   "execution_count": 8,
   "id": "b482e5cb",
   "metadata": {},
   "outputs": [
    {
     "name": "stdout",
     "output_type": "stream",
     "text": [
      "1774/1774 [==============================] - 1s 535us/step\n"
     ]
    }
   ],
   "source": [
    "y_pred = nn.predict(X_test)\n",
    "y_pred_aux = []\n",
    "for k in y_pred:\n",
    "    if k[0]>k[1]:\n",
    "        y_pred_aux.append([1,0])\n",
    "    else:\n",
    "        y_pred_aux.append([0,1])"
   ]
  },
  {
   "cell_type": "code",
   "execution_count": 64,
   "id": "49da302d",
   "metadata": {},
   "outputs": [
    {
     "data": {
      "text/plain": [
       "'Pas voix'"
      ]
     },
     "execution_count": 64,
     "metadata": {},
     "output_type": "execute_result"
    }
   ],
   "source": [
    "y_test_cm = []\n",
    "for y in y_test:\n",
    "    if y[0]==1:\n",
    "        y_test_cm.append('Pas voix')\n",
    "    else:\n",
    "        y_test_cm.append('Voix')\n",
    "        \n",
    "y_pred_cm = []\n",
    "for y in y_pred_aux:\n",
    "    if y[0]==1:\n",
    "        y_pred_cm.append('Pas voix')\n",
    "    else:\n",
    "        y_pred_cm.append('Voix')\n",
    "\n",
    "y_test_cm[0]"
   ]
  },
  {
   "cell_type": "code",
   "execution_count": 9,
   "id": "6c18dbcf",
   "metadata": {},
   "outputs": [
    {
     "name": "stdout",
     "output_type": "stream",
     "text": [
      "Accuracy is: 76.2047396705136\n"
     ]
    }
   ],
   "source": [
    "from sklearn.metrics import confusion_matrix,accuracy_score\n",
    "\n",
    "a = accuracy_score(y_pred_aux,y_test)\n",
    "print('Accuracy is:', a*100)"
   ]
  },
  {
   "cell_type": "code",
   "execution_count": 27,
   "id": "767ae83c",
   "metadata": {},
   "outputs": [],
   "source": [
    "def char_nn(modele):\n",
    "    y_pred = modele.predict(X_test)\n",
    "    y_pred_aux = []\n",
    "    for k in y_pred:\n",
    "        if k[0]>k[1]:\n",
    "            y_pred_aux.append([1,0])\n",
    "        else:\n",
    "            y_pred_aux.append([0,1])\n",
    "    y_test_cm = []\n",
    "    for y in y_test:\n",
    "        if y[0]==1:\n",
    "            y_test_cm.append('Pas voix')\n",
    "        else:\n",
    "            y_test_cm.append('Voix')\n",
    "\n",
    "    y_pred_cm = []\n",
    "    for y in y_pred_aux:\n",
    "        if y[0]==1:\n",
    "            y_pred_cm.append('Pas voix')\n",
    "        else:\n",
    "            y_pred_cm.append('Voix')\n",
    "            \n",
    "    a = accuracy_score(y_pred_aux,y_test)\n",
    "    print('Accuracy is:', a*100)\n",
    "    \n",
    "    matrix = confusion_matrix(y_pred_cm,y_test_cm)\n",
    "    matrix = matrix.astype('float') / matrix.sum(axis=1)[:, np.newaxis]\n",
    "\n",
    "    # Build the plot\n",
    "    plt.figure(figsize=(6,4))\n",
    "    sns.set(font_scale=1)\n",
    "    sns.heatmap(matrix, annot=True, annot_kws={'size':20},\n",
    "                cmap=plt.cm.Greens, linewidths=0.2)\n",
    "\n",
    "    # Add labels to the plot\n",
    "    class_names = ['Non voix','Voix']\n",
    "    tick_marks = np.arange(len(class_names))\n",
    "    tick_marks2 = tick_marks + 0.5\n",
    "    plt.xticks(tick_marks, class_names, rotation=25)\n",
    "    plt.yticks(tick_marks2, class_names, rotation=0)\n",
    "    plt.xlabel('Predicted label')\n",
    "    plt.ylabel('True label')\n",
    "    plt.title('Confusion Matrix for Simple neural network')\n",
    "    plt.show()\n",
    "    \n",
    "    histProbaV = []\n",
    "\n",
    "\n",
    "    for i in range(len(y_pred)):\n",
    "        probap,probav = y_pred[i][0],y_pred[i][1]\n",
    "        if y_test[i][1]==1:\n",
    "            histProbaV.append(probav)\n",
    "    \n",
    "    plt.hist(histProbaV)\n",
    "    plt.title('Probabilité des sorties pour la classe Voix')\n",
    "    plt.show()\n",
    "    \n",
    "    histProbaP = []\n",
    "    for i in range(len(y_pred)):\n",
    "        probap,probav = y_pred[i][0],y_pred[i][1]\n",
    "        if y_test[i][0]==1:\n",
    "            histProbaP.append(probap)\n",
    "    \n",
    "    plt.hist(histProbaP)\n",
    "    plt.title('Probabilité des sorties pour la classe non-Voix')\n",
    "    plt.show()"
   ]
  },
  {
   "cell_type": "code",
   "execution_count": 36,
   "id": "605193b0",
   "metadata": {},
   "outputs": [],
   "source": [
    "nn.save('nn.h5')"
   ]
  },
  {
   "cell_type": "code",
   "execution_count": 35,
   "id": "7fd31a27",
   "metadata": {},
   "outputs": [
    {
     "name": "stdout",
     "output_type": "stream",
     "text": [
      "Epoch 1/20\n",
      "3155/3155 [==============================] - 3s 938us/step - loss: 0.4185 - accuracy: 0.7876\n",
      "Epoch 2/20\n",
      "3155/3155 [==============================] - 3s 946us/step - loss: 0.3496 - accuracy: 0.8291\n",
      "Epoch 3/20\n",
      "3155/3155 [==============================] - 3s 933us/step - loss: 0.3291 - accuracy: 0.8409\n",
      "Epoch 4/20\n",
      "3155/3155 [==============================] - 3s 957us/step - loss: 0.3190 - accuracy: 0.8473\n",
      "Epoch 5/20\n",
      "3155/3155 [==============================] - 3s 932us/step - loss: 0.3132 - accuracy: 0.8512\n",
      "Epoch 6/20\n",
      "3155/3155 [==============================] - 3s 934us/step - loss: 0.3099 - accuracy: 0.8524\n",
      "Epoch 7/20\n",
      "3155/3155 [==============================] - 3s 934us/step - loss: 0.3076 - accuracy: 0.8541\n",
      "Epoch 8/20\n",
      "3155/3155 [==============================] - 3s 932us/step - loss: 0.3057 - accuracy: 0.8550\n",
      "Epoch 9/20\n",
      "3155/3155 [==============================] - 3s 921us/step - loss: 0.3041 - accuracy: 0.8563\n",
      "Epoch 10/20\n",
      "3155/3155 [==============================] - 3s 934us/step - loss: 0.3027 - accuracy: 0.8568\n",
      "Epoch 11/20\n",
      "3155/3155 [==============================] - 3s 925us/step - loss: 0.3019 - accuracy: 0.8576\n",
      "Epoch 12/20\n",
      "3155/3155 [==============================] - 3s 927us/step - loss: 0.3010 - accuracy: 0.8570\n",
      "Epoch 13/20\n",
      "3155/3155 [==============================] - 3s 920us/step - loss: 0.3003 - accuracy: 0.8579\n",
      "Epoch 14/20\n",
      "3155/3155 [==============================] - 3s 922us/step - loss: 0.2998 - accuracy: 0.8582\n",
      "Epoch 15/20\n",
      "3155/3155 [==============================] - 3s 937us/step - loss: 0.2985 - accuracy: 0.8586\n",
      "Epoch 16/20\n",
      "3155/3155 [==============================] - 3s 939us/step - loss: 0.2981 - accuracy: 0.8591\n",
      "Epoch 17/20\n",
      "3155/3155 [==============================] - 3s 937us/step - loss: 0.2977 - accuracy: 0.8597\n",
      "Epoch 18/20\n",
      "3155/3155 [==============================] - 3s 937us/step - loss: 0.2970 - accuracy: 0.8598\n",
      "Epoch 19/20\n",
      "3155/3155 [==============================] - 3s 956us/step - loss: 0.2963 - accuracy: 0.8599\n",
      "Epoch 20/20\n",
      "3155/3155 [==============================] - 3s 942us/step - loss: 0.2961 - accuracy: 0.8606\n",
      "1790/1790 [==============================] - 1s 525us/step\n",
      "Accuracy is: 76.58872221155022\n"
     ]
    },
    {
     "data": {
      "image/png": "[encoded data removed]",
      "text/plain": [
       "<Figure size 432x288 with 2 Axes>"
      ]
     },
     "metadata": {},
     "output_type": "display_data"
    },
    {
     "data": {
      "image/png": "[encoded data removed]",
      "text/plain": [
       "<Figure size 432x288 with 1 Axes>"
      ]
     },
     "metadata": {},
     "output_type": "display_data"
    },
    {
     "data": {
      "image/png": "[encoded data removed]",
      "text/plain": [
       "<Figure size 432x288 with 1 Axes>"
      ]
     },
     "metadata": {},
     "output_type": "display_data"
    }
   ],
   "source": [
    "def model_simple():\n",
    "    model = Sequential()\n",
    "    model.add(Dense(8,input_dim=1025, activation='sigmoid'))\n",
    "    model.add(Dense(2, activation='softmax'))\n",
    "    model.compile(loss='binary_crossentropy', optimizer='adam', metrics=['accuracy'])\n",
    "    return model\n",
    "nn_simple_sig = model_simple()\n",
    "nn_simple_sig.fit(X_train, y_train, epochs=20, batch_size=64)\n",
    "char_nn(nn_simple_sig)"
   ]
  },
  {
   "cell_type": "code",
   "execution_count": 36,
   "id": "9e226867",
   "metadata": {},
   "outputs": [
    {
     "name": "stdout",
     "output_type": "stream",
     "text": [
      "Model: \"sequential_12\"\n",
      "_________________________________________________________________\n",
      " Layer (type)                Output Shape              Param #   \n",
      "=================================================================\n",
      " dense_24 (Dense)            (None, 8)                 8208      \n",
      "                                                                 \n",
      " dense_25 (Dense)            (None, 2)                 18        \n",
      "                                                                 \n",
      "=================================================================\n",
      "Total params: 8,226\n",
      "Trainable params: 8,226\n",
      "Non-trainable params: 0\n",
      "_________________________________________________________________\n"
     ]
    }
   ],
   "source": [
    "nn_simple_sig.summary()"
   ]
  },
  {
   "cell_type": "code",
   "execution_count": 37,
   "id": "c90ded95",
   "metadata": {},
   "outputs": [
    {
     "name": "stdout",
     "output_type": "stream",
     "text": [
      "1790/1790 [==============================] - 1s 541us/step\n"
     ]
    }
   ],
   "source": [
    "preds = nn_simple_sig.predict(X_test)"
   ]
  },
  {
   "cell_type": "code",
   "execution_count": 40,
   "id": "63269ced",
   "metadata": {},
   "outputs": [],
   "source": [
    "pred_filt = []\n",
    "y_test_filt = []\n",
    "\n",
    "for k in range(len(preds)):\n",
    "    if preds[k][0]<0.1 or preds[k][0]>0.9:\n",
    "        pred_filt.append(preds[k])\n",
    "        y_test_filt.append(y_test[k])"
   ]
  },
  {
   "cell_type": "code",
   "execution_count": 41,
   "id": "870ba271",
   "metadata": {},
   "outputs": [
    {
     "name": "stdout",
     "output_type": "stream",
     "text": [
      "0.606901489618078\n"
     ]
    }
   ],
   "source": [
    "print(len(pred_filt)/len(preds))"
   ]
  },
  {
   "cell_type": "code",
   "execution_count": 43,
   "id": "1be8af2a",
   "metadata": {},
   "outputs": [
    {
     "name": "stdout",
     "output_type": "stream",
     "text": [
      "Accuracy is: 86.39254165108048\n"
     ]
    }
   ],
   "source": [
    "y_pred_aux = []\n",
    "for k in pred_filt:\n",
    "    if k[0]>k[1]:\n",
    "        y_pred_aux.append([1,0])\n",
    "    else:\n",
    "        y_pred_aux.append([0,1])\n",
    "        \n",
    "a = accuracy_score(y_pred_aux,y_test_filt)\n",
    "print('Accuracy is:', a*100)"
   ]
  },
  {
   "cell_type": "code",
   "execution_count": 50,
   "id": "149d0443",
   "metadata": {},
   "outputs": [],
   "source": [
    "def best_filt_aux(proba,preds):\n",
    "    pred_filt = []\n",
    "    y_test_filt = []\n",
    "\n",
    "    for k in range(len(preds)):\n",
    "        if preds[k][0]<(1-proba) or preds[k][0]>proba:\n",
    "            pred_filt.append(preds[k])\n",
    "            y_test_filt.append(y_test[k])\n",
    "    y_pred_aux = []\n",
    "    for k in pred_filt:\n",
    "        if k[0]>k[1]:\n",
    "            y_pred_aux.append([1,0])\n",
    "        else:\n",
    "            y_pred_aux.append([0,1])\n",
    "    a = accuracy_score(y_pred_aux,y_test_filt)\n",
    "    prop_filt = len(pred_filt)/len(preds)\n",
    "    return(a,prop_filt)"
   ]
  },
  {
   "cell_type": "code",
   "execution_count": 57,
   "id": "9464ae8b",
   "metadata": {},
   "outputs": [
    {
     "name": "stdout",
     "output_type": "stream",
     "text": [
      "1790/1790 [==============================] - 1s 520us/step\n"
     ]
    },
    {
     "data": {
      "image/png": "[encoded data removed]",
      "text/plain": [
       "<Figure size 432x288 with 1 Axes>"
      ]
     },
     "metadata": {},
     "output_type": "display_data"
    }
   ],
   "source": [
    "def best_filt():\n",
    "    x = [0.5,0.55,0.6,0.65,0.7,0.75,0.8,0.85,0.9,0.95,0.99]\n",
    "    preds = nn_simple_sig.predict(X_test)\n",
    "    aux = [best_filt_aux(xi,preds) for xi in x]\n",
    "    y = [a[0] for a in aux]\n",
    "    p = [a[1] for a in aux]\n",
    "    #plt.plot(x,y)\n",
    "    #plt.title('Evolution de la précision en fonction du seuil appliqué')\n",
    "    #plt.xlabel(\"Probabilité minimale pour une classe\")\n",
    "    #plt.ylabel('Précision')\n",
    "    #plt.plot(x,p)\n",
    "    #plt.show()\n",
    "    #plt.plot(x,y, label=\"Précision\")\n",
    "    #plt.plot(x,p, label=\"Proportion gardée\")\n",
    "    #plt.legend()\n",
    "    #plt.xlabel(\"Probabilité minimale pour une classe\")\n",
    "    #plt.title(\"Evolution de la précision et de la proportion d'enregistrement conservés en fonction du seuil appliqué\")\n",
    "    #plt.show()\n",
    "    yxp = [y[k]*p[k] for k in range(len(y))]\n",
    "    plt.plot(x,yxp)\n",
    "best_filt()"
   ]
  },
  {
   "cell_type": "code",
   "execution_count": 44,
   "id": "d59eee8e",
   "metadata": {},
   "outputs": [],
   "source": [
    "y_test_cm = []\n",
    "for y in y_test_filt:\n",
    "    if y[0]==1:\n",
    "        y_test_cm.append('Pas voix')\n",
    "    else:\n",
    "        y_test_cm.append('Voix')\n",
    "\n",
    "y_pred_cm = []\n",
    "for y in y_pred_aux:\n",
    "    if y[0]==1:\n",
    "        y_pred_cm.append('Pas voix')\n",
    "    else:\n",
    "        y_pred_cm.append('Voix')"
   ]
  },
  {
   "cell_type": "code",
   "execution_count": 45,
   "id": "f8c76c3d",
   "metadata": {},
   "outputs": [
    {
     "data": {
      "image/png": "[encoded data removed]",
      "text/plain": [
       "<Figure size 432x288 with 2 Axes>"
      ]
     },
     "metadata": {},
     "output_type": "display_data"
    }
   ],
   "source": [
    "matrix = confusion_matrix(y_pred_cm,y_test_cm)\n",
    "matrix = matrix.astype('float') / matrix.sum(axis=1)[:, np.newaxis]\n",
    "\n",
    "    # Build the plot\n",
    "plt.figure(figsize=(6,4))\n",
    "sns.set(font_scale=1)\n",
    "sns.heatmap(matrix, annot=True, annot_kws={'size':20},\n",
    "                cmap=plt.cm.Greens, linewidths=0.2)\n",
    "\n",
    "    # Add labels to the plot\n",
    "class_names = ['Non voix','Voix']\n",
    "tick_marks = np.arange(len(class_names))\n",
    "tick_marks2 = tick_marks + 0.5\n",
    "plt.xticks(tick_marks, class_names, rotation=25)\n",
    "plt.yticks(tick_marks2, class_names, rotation=0)\n",
    "plt.xlabel('Predicted label')\n",
    "plt.ylabel('True label')\n",
    "plt.title('Confusion Matrix for Simple neural network with filtered outputs')\n",
    "plt.show()"
   ]
  },
  {
   "cell_type": "code",
   "execution_count": null,
   "id": "55b717ee",
   "metadata": {},
   "outputs": [],
   "source": [
    "char_nn(nn)"
   ]
  },
  {
   "cell_type": "code",
   "execution_count": null,
   "id": "70934482",
   "metadata": {},
   "outputs": [],
   "source": [
    "nn.summary()"
   ]
  },
  {
   "cell_type": "code",
   "execution_count": 18,
   "id": "7bf4d9ee",
   "metadata": {},
   "outputs": [
    {
     "ename": "NameError",
     "evalue": "name 'y_pred' is not defined",
     "output_type": "error",
     "traceback": [
      "\u001b[1;31m---------------------------------------------------------------------------\u001b[0m",
      "\u001b[1;31mNameError\u001b[0m                                 Traceback (most recent call last)",
      "\u001b[1;32m~\\AppData\\Local\\Temp/ipykernel_14228/1663318194.py\u001b[0m in \u001b[0;36m<module>\u001b[1;34m\u001b[0m\n\u001b[0;32m      7\u001b[0m \u001b[1;33m\u001b[0m\u001b[0m\n\u001b[0;32m      8\u001b[0m \u001b[1;33m\u001b[0m\u001b[0m\n\u001b[1;32m----> 9\u001b[1;33m \u001b[1;32mfor\u001b[0m \u001b[0mi\u001b[0m \u001b[1;32min\u001b[0m \u001b[0mrange\u001b[0m\u001b[1;33m(\u001b[0m\u001b[0mlen\u001b[0m\u001b[1;33m(\u001b[0m\u001b[0my_pred\u001b[0m\u001b[1;33m)\u001b[0m\u001b[1;33m)\u001b[0m\u001b[1;33m:\u001b[0m\u001b[1;33m\u001b[0m\u001b[1;33m\u001b[0m\u001b[0m\n\u001b[0m\u001b[0;32m     10\u001b[0m     \u001b[0mprobap\u001b[0m\u001b[1;33m,\u001b[0m\u001b[0mprobav\u001b[0m \u001b[1;33m=\u001b[0m \u001b[0my_pred\u001b[0m\u001b[1;33m[\u001b[0m\u001b[0mi\u001b[0m\u001b[1;33m]\u001b[0m\u001b[1;33m[\u001b[0m\u001b[1;36m0\u001b[0m\u001b[1;33m]\u001b[0m\u001b[1;33m,\u001b[0m\u001b[0my_pred\u001b[0m\u001b[1;33m[\u001b[0m\u001b[0mi\u001b[0m\u001b[1;33m]\u001b[0m\u001b[1;33m[\u001b[0m\u001b[1;36m1\u001b[0m\u001b[1;33m]\u001b[0m\u001b[1;33m\u001b[0m\u001b[1;33m\u001b[0m\u001b[0m\n\u001b[0;32m     11\u001b[0m     \u001b[1;32mif\u001b[0m \u001b[0my_test\u001b[0m\u001b[1;33m[\u001b[0m\u001b[0mi\u001b[0m\u001b[1;33m]\u001b[0m\u001b[1;33m[\u001b[0m\u001b[1;36m0\u001b[0m\u001b[1;33m]\u001b[0m\u001b[1;33m==\u001b[0m\u001b[1;36m1\u001b[0m\u001b[1;33m:\u001b[0m\u001b[1;33m\u001b[0m\u001b[1;33m\u001b[0m\u001b[0m\n",
      "\u001b[1;31mNameError\u001b[0m: name 'y_pred' is not defined"
     ]
    }
   ],
   "source": [
    "bonnePredV = [] #liste des proba prédites pour la voix quand le modèle à raison\n",
    "bonnePredP = []\n",
    "mauvaisePredV = [] #liste des proba prédites pour la voix quand le modèle à tord\n",
    "mauvaisePredP = []\n",
    "\n",
    "histProbaV = []\n",
    "\n",
    "\n",
    "for i in range(len(y_pred)):\n",
    "    probap,probav = y_pred[i][0],y_pred[i][1]\n",
    "    if y_test[i][1]==1:\n",
    "        histProbaV.append(probav)"
   ]
  },
  {
   "cell_type": "code",
   "execution_count": 33,
   "id": "1c9cb946",
   "metadata": {},
   "outputs": [],
   "source": [
    "import math as m\n",
    "import matplotlib.pyplot as plt\n",
    "\n",
    "def printCar(l):\n",
    "    moyenne = sum(l)/len(l)\n",
    "    print(\"Nombre d'éléments : \" + str(len(l)))\n",
    "    print(\"Moyenne des probas : \" + str(moyenne))\n",
    "    print(\"Max : \" + str(max(l)) + \", Min : \" + str(min(l)))\n",
    "    ecart_type = m.sqrt(sum((k-moyenne)**2 for k in l) / len(l))\n",
    "    print(\"Ecart type : \" + str(ecart_type))\n",
    "    plt.hist(l)"
   ]
  },
  {
   "cell_type": "code",
   "execution_count": 34,
   "id": "abff8b16",
   "metadata": {},
   "outputs": [
    {
     "name": "stdout",
     "output_type": "stream",
     "text": [
      "Nombre d'éléments : 23165\n",
      "Moyenne des probas : 0.892643223041956\n",
      "Max : 0.99864405, Min : 0.5000298\n",
      "Ecart type : 0.1255779655457124\n",
      "Nombre d'éléments : 20812\n",
      "Moyenne des probas : 0.9724308094988872\n",
      "Max : 1.0, Min : 0.5001022\n",
      "Ecart type : 0.08638800159574725\n",
      "Nombre d'éléments : 6688\n",
      "Moyenne des probas : 0.13832400362636868\n",
      "Max : 0.49996978, Min : 1.8889983e-09\n",
      "Ecart type : 0.1584008007874397\n",
      "Nombre d'éléments : 8825\n",
      "Moyenne des probas : 0.13164855255505264\n",
      "Max : 0.49982163, Min : 0.0013567158\n",
      "Ecart type : 0.13789319421292784\n"
     ]
    },
    {
     "data": {
      "image/png": "[encoded data removed]",
      "text/plain": [
       "<Figure size 432x288 with 1 Axes>"
      ]
     },
     "metadata": {
      "needs_background": "light"
     },
     "output_type": "display_data"
    }
   ],
   "source": [
    "printCar(bonnePredV)\n",
    "printCar(bonnePredP)\n",
    "printCar(mauvaisePredV) #on prédit avion alors que c'est voix : histo des proba prédite pour voix par le modèle\n",
    "printCar(mauvaisePredP) #on prédit voix alors que c'est avion : histo des proba prédite pour avion par le modèle"
   ]
  },
  {
   "cell_type": "code",
   "execution_count": 12,
   "id": "c5a0f1b2",
   "metadata": {},
   "outputs": [],
   "source": [
    "def signe(x):\n",
    "    if x>0:\n",
    "        return 1\n",
    "    else:\n",
    "        return -1"
   ]
  },
  {
   "cell_type": "code",
   "execution_count": 13,
   "id": "12ce2512",
   "metadata": {},
   "outputs": [],
   "source": [
    "def has_voice_vote(X_batch,NNmodel):\n",
    "    results = NNmodel.predict(X_batch)\n",
    "    vote = 0\n",
    "    for res in results:\n",
    "        confiance = res[0]-res[1]\n",
    "        if confiance>0.95:\n",
    "            vote += 1\n",
    "    proportion = vote/len(X_batch)\n",
    "    if proportion > 0.5:\n",
    "        return 1\n",
    "    else:\n",
    "        return 0"
   ]
  },
  {
   "cell_type": "code",
   "execution_count": null,
   "id": "be980888",
   "metadata": {},
   "outputs": [],
   "source": []
  }
 ],
 "metadata": {
  "kernelspec": {
   "display_name": "Python 3 (ipykernel)",
   "language": "python",
   "name": "python3"
  },
  "language_info": {
   "codemirror_mode": {
    "name": "ipython",
    "version": 3
   },
   "file_extension": ".py",
   "mimetype": "text/x-python",
   "name": "python",
   "nbconvert_exporter": "python",
   "pygments_lexer": "ipython3",
   "version": "3.9.7"
  }
 },
 "nbformat": 4,
 "nbformat_minor": 5
}
