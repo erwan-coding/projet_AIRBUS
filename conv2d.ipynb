{
 "cells": [
  {
   "cell_type": "code",
   "execution_count": 7,
   "metadata": {},
   "outputs": [],
   "source": [
    "import librosa\n",
    "import tensorflow as tf\n",
    "from tensorflow.keras import Model,Input,Sequential\n",
    "from tensorflow.keras.layers import Conv1D,Conv2D,Conv3D,Flatten,MaxPool2D,Dense,Softmax,BatchNormalization\n",
    "import librosa.display\n",
    "import os\n",
    "import pandas as pd\n",
    "import numpy as np\n",
    "from time import time \n",
    "import random as rd\n",
    "from sklearn.preprocessing import StandardScaler\n",
    "from sklearn.decomposition import PCA\n",
    "import numpy as np\n",
    "import threading\n",
    "from sklearn.metrics import confusion_matrix,accuracy_score\n",
    "\n",
    "import matplotlib.pyplot as plt\n",
    "\n",
    "import warnings\n",
    "warnings.filterwarnings(\"ignore\")\n",
    "\n",
    "path_to_db_voice = \"C:\\\\Users\\\\antoi\\\\Desktop\\\\Airbus\\\\projet_AIRBUS\\\\db\\\\voice\\\\\"\n",
    "path_to_db_plane = \"C:\\\\Users\\\\antoi\\\\Desktop\\\\Airbus\\\\projet_AIRBUS\\\\db\\\\plane\\\\\"\n",
    "path_to_db_both = \"C:\\\\Users\\\\antoi\\\\Desktop\\\\Airbus\\\\projet_AIRBUS\\\\db\\\\both\\\\\"\n",
    "\n",
    "l_voice_records = os.listdir(path_to_db_voice)\n",
    "l_airplane_records = os.listdir(path_to_db_plane)\n",
    "l_both_records = os.listdir(path_to_db_both)"
   ]
  },
  {
   "cell_type": "code",
   "execution_count": 8,
   "metadata": {},
   "outputs": [
    {
     "data": {
      "text/plain": [
       "186"
      ]
     },
     "execution_count": 8,
     "metadata": {},
     "output_type": "execute_result"
    }
   ],
   "source": [
    "def get_threshold_freq(f):\n",
    "    i=0\n",
    "    for elt in librosa.fft_frequencies(22050,2048):\n",
    "        if elt >f:\n",
    "            return i\n",
    "        else:\n",
    "            i+=1\n",
    "\n",
    "get_threshold_freq(2000)"
   ]
  },
  {
   "cell_type": "code",
   "execution_count": 9,
   "metadata": {},
   "outputs": [],
   "source": [
    "def separe_train_test(db_folder_path,n_records,test_size):\n",
    "    l_records = os.listdir(db_folder_path)\n",
    "    sub_l_records = rd.sample(l_records,n_records)\n",
    "    size = len(sub_l_records)\n",
    "    sep = round(test_size*size)\n",
    "    sample = rd.sample(sub_l_records,size)\n",
    "    test = sample[:sep]\n",
    "    train = sample[sep:]\n",
    "    return train,test"
   ]
  },
  {
   "cell_type": "code",
   "execution_count": 10,
   "metadata": {},
   "outputs": [],
   "source": [
    "def gen_X_train_test(db_folder_path,n_records,test_size):\n",
    "    sp_rec_train = []\n",
    "    sp_rec_test = []\n",
    "    records_train,records_test = separe_train_test(db_folder_path,n_records,test_size)\n",
    "    i = 0\n",
    "    for record in records_train:\n",
    "        print('Building train {}/{}'.format(i,len(records_train)),end='\\r')\n",
    "        signal,sample_rate = librosa.load(db_folder_path + record)\n",
    "        spectrum = librosa.stft(y=signal,center=True) \n",
    "        spectrum = spectrum.astype(float)\n",
    "        if spectrum.shape[1]>=100:\n",
    "            n_morceaux = spectrum.shape[1]//100 # pour avoir des pas de 2.3s\n",
    "            sub_spectrums = [librosa.amplitude_to_db(spectrum[:,j*100:(j+1)*100]) for j in range(n_morceaux)]\n",
    "            sp_rec_train += sub_spectrums\n",
    "        i+=1\n",
    "    i=0\n",
    "    for record in records_test: \n",
    "        print('Building  test {}/{}'.format(i,len(records_test)),end='\\r')\n",
    "        signal,sample_rate = librosa.load(db_folder_path + record)\n",
    "        spectrum = librosa.stft(y=signal,center=True) \n",
    "        spectrum = spectrum.astype(float)\n",
    "        if spectrum.shape[1]>=100:\n",
    "            n_morceaux = spectrum.shape[1]//100 # pour avoir des pas de 2.3s\n",
    "            sub_spectrums = [librosa.amplitude_to_db(spectrum[:,j*100:(j+1)*100]) for j in range(n_morceaux)]\n",
    "            sp_rec_test += sub_spectrums\n",
    "            i+=1\n",
    "\n",
    "    # sp_train = np.concatenate(sp_rec_train)\n",
    "    # sp_test = np.concatenate(sp_rec_test)\n",
    "    # print(sp_rec_train[0].shape)\n",
    "    return np.array(sp_rec_train),np.array(sp_rec_test)"
   ]
  },
  {
   "cell_type": "code",
   "execution_count": 11,
   "metadata": {},
   "outputs": [
    {
     "name": "stdout",
     "output_type": "stream",
     "text": [
      "Both done test 35/3642\r"
     ]
    }
   ],
   "source": [
    "n_records = 178\n",
    "\n",
    "X_voice_train,X_voice_test= gen_X_train_test(path_to_db_voice,n_records,0.2)\n",
    "print('Voice done',end='\\r')\n",
    "X_plane_train,X_plane_test = gen_X_train_test(path_to_db_plane,n_records,0.2)\n",
    "print('Plane done',end='\\r')\n",
    "X_both_train,X_both_test = gen_X_train_test(path_to_db_both,n_records,0.2)\n",
    "print('Both done',end='\\r')"
   ]
  },
  {
   "cell_type": "code",
   "execution_count": 12,
   "metadata": {},
   "outputs": [],
   "source": [
    "only_voice = 1\n",
    "only_plane = 0\n",
    "both_classes = 1\n",
    "\n",
    "y_voice_train = np.array([only_voice for elt in X_voice_train])\n",
    "y_plane_train = np.array([only_plane for elt in X_plane_train])\n",
    "y_both_train = np.array([both_classes for elt in X_both_train])\n",
    "\n",
    "y_voice_test = np.array([only_voice for elt in X_voice_test] )\n",
    "y_plane_test = np.array([only_plane for elt in X_plane_test])\n",
    "y_both_test = np.array([both_classes for elt in X_both_test])\n",
    "\n",
    "X_train = np.concatenate([X_voice_train , X_plane_train , X_both_train])\n",
    "X_test = np.concatenate([X_plane_test , X_both_test])\n",
    "\n",
    "y_train = np.concatenate([y_voice_train , y_plane_train , y_both_train])\n",
    "y_test =np.concatenate([y_plane_test , y_both_test])"
   ]
  },
  {
   "cell_type": "code",
   "execution_count": null,
   "metadata": {},
   "outputs": [],
   "source": []
  },
  {
   "cell_type": "code",
   "execution_count": 13,
   "metadata": {},
   "outputs": [],
   "source": [
    "with open('npy/X_train_2.npy','wb') as f:\n",
    "    np.save(f,X_train)\n",
    "\n",
    "with open('npy/X_test_2.npy','wb') as f:\n",
    "    np.save(f,X_test)\n",
    "\n",
    "with open('npy/y_train_2.npy','wb') as f:\n",
    "    np.save(f,y_train)\n",
    "\n",
    "with open('npy/y_test_2.npy','wb') as f:\n",
    "    np.save(f,y_test)"
   ]
  },
  {
   "cell_type": "code",
   "execution_count": 67,
   "metadata": {},
   "outputs": [],
   "source": [
    "# only_voice = [0,1]\n",
    "# only_plane = [1,0]\n",
    "# both_classes = [1,1]\n",
    "\n",
    "# y_voice_train = np.array([only_voice for elt in X_voice_train])\n",
    "# y_plane_train = np.array([only_plane for elt in X_plane_train])\n",
    "# y_both_train = np.array([both_classes for elt in X_both_train])\n",
    "\n",
    "# y_voice_test = np.array([only_voice for elt in X_voice_test] )\n",
    "# y_plane_test = np.array([only_plane for elt in X_plane_test])\n",
    "# y_both_test = np.array([both_classes for elt in X_both_test])\n",
    "\n",
    "# X_train = np.concatenate([X_voice_train , X_plane_train , X_both_train])\n",
    "# X_test = np.concatenate([X_plane_train , X_both_train])\n",
    "\n",
    "# y_train = np.concatenate([y_voice_train , y_plane_train , y_both_train])\n",
    "# y_test =np.concatenate([y_plane_test , y_both_test])\n",
    "\n",
    "\n",
    "# with open('npy/X_train.npy','wb') as f:\n",
    "#     np.save(f,X_train)\n",
    "\n",
    "# with open('npy/X_test.npy','wb') as f:\n",
    "#     np.save(f,X_test)\n",
    "\n",
    "# with open('npy/y_train.npy','wb') as f:\n",
    "#     np.save(f,y_train)\n",
    "\n",
    "# with open('npy/y_test.npy','wb') as f:\n",
    "#     np.save(f,y_test)\n"
   ]
  },
  {
   "cell_type": "code",
   "execution_count": 14,
   "metadata": {},
   "outputs": [],
   "source": [
    "with open('npy/X_train_2.npy','rb') as f:\n",
    "    X_train = np.load(f)\n",
    "\n",
    "with open('npy/X_test_2.npy','rb') as f:\n",
    "    X_test = np.load(f)\n",
    "\n",
    "with open('npy/y_train_2.npy','rb') as f:\n",
    "    y_train = np.load(f)\n",
    "\n",
    "with open('npy/y_test_2.npy','rb') as f:\n",
    "    y_test = np.load(f)"
   ]
  },
  {
   "cell_type": "markdown",
   "metadata": {},
   "source": [
    "PARTIE MODELE - LSTM"
   ]
  },
  {
   "cell_type": "code",
   "execution_count": 11,
   "metadata": {},
   "outputs": [
    {
     "data": {
      "text/plain": [
       "(1025, 100)"
      ]
     },
     "execution_count": 11,
     "metadata": {},
     "output_type": "execute_result"
    }
   ],
   "source": [
    "X_train[0].shape"
   ]
  },
  {
   "cell_type": "code",
   "execution_count": 20,
   "metadata": {},
   "outputs": [
    {
     "data": {
      "text/plain": [
       "(2092, 100, 1025)"
      ]
     },
     "execution_count": 20,
     "metadata": {},
     "output_type": "execute_result"
    }
   ],
   "source": [
    "X_train_t = np.array([k.transpose() for k in X_train])\n",
    "X_train_t.shape"
   ]
  },
  {
   "cell_type": "code",
   "execution_count": 21,
   "metadata": {},
   "outputs": [
    {
     "data": {
      "text/plain": [
       "(343, 100, 1025)"
      ]
     },
     "execution_count": 21,
     "metadata": {},
     "output_type": "execute_result"
    }
   ],
   "source": [
    "X_test_t = np.array([k.transpose() for k in X_test])\n",
    "X_test_t.shape"
   ]
  },
  {
   "cell_type": "code",
   "execution_count": 24,
   "metadata": {},
   "outputs": [
    {
     "name": "stdout",
     "output_type": "stream",
     "text": [
      "Model: \"sequential_1\"\n",
      "_________________________________________________________________\n",
      " Layer (type)                Output Shape              Param #   \n",
      "=================================================================\n",
      " lstm_1 (LSTM)               (None, 32)                135424    \n",
      "                                                                 \n",
      " dense_2 (Dense)             (None, 16)                528       \n",
      "                                                                 \n",
      " dense_3 (Dense)             (None, 1)                 17        \n",
      "                                                                 \n",
      "=================================================================\n",
      "Total params: 135,969\n",
      "Trainable params: 135,969\n",
      "Non-trainable params: 0\n",
      "_________________________________________________________________\n"
     ]
    }
   ],
   "source": [
    "from keras.layers import LSTM\n",
    "\n",
    "\n",
    "model = Sequential()\n",
    "model.add(LSTM(32, input_shape=(100,1025)))\n",
    "model.add(Dense(16))\n",
    "model.add(Dense(1, activation='sigmoid'))\n",
    "\n",
    "model.summary()\n",
    "\n",
    "model.compile(loss='binary_crossentropy', optimizer='adam', metrics=['accuracy'])\n"
   ]
  },
  {
   "cell_type": "code",
   "execution_count": 25,
   "metadata": {},
   "outputs": [
    {
     "name": "stdout",
     "output_type": "stream",
     "text": [
      "Epoch 1/20\n",
      "131/131 [==============================] - 6s 34ms/step - loss: 0.5525 - accuracy: 0.6845\n",
      "Epoch 2/20\n",
      "131/131 [==============================] - 4s 33ms/step - loss: 0.3960 - accuracy: 0.8542\n",
      "Epoch 3/20\n",
      "131/131 [==============================] - 4s 34ms/step - loss: 0.3254 - accuracy: 0.8977\n",
      "Epoch 4/20\n",
      "131/131 [==============================] - 4s 33ms/step - loss: 0.3485 - accuracy: 0.8633\n",
      "Epoch 5/20\n",
      "131/131 [==============================] - 4s 33ms/step - loss: 0.3059 - accuracy: 0.9273\n",
      "Epoch 6/20\n",
      "131/131 [==============================] - 5s 34ms/step - loss: 0.2857 - accuracy: 0.9183\n",
      "Epoch 7/20\n",
      "131/131 [==============================] - 5s 35ms/step - loss: 0.2610 - accuracy: 0.9307\n",
      "Epoch 8/20\n",
      "131/131 [==============================] - 4s 34ms/step - loss: 0.2503 - accuracy: 0.9321\n",
      "Epoch 9/20\n",
      "131/131 [==============================] - 4s 32ms/step - loss: 0.2443 - accuracy: 0.9336\n",
      "Epoch 10/20\n",
      "131/131 [==============================] - 4s 33ms/step - loss: 0.2542 - accuracy: 0.9297\n",
      "Epoch 11/20\n",
      "131/131 [==============================] - 4s 33ms/step - loss: 0.2372 - accuracy: 0.9312\n",
      "Epoch 12/20\n",
      "131/131 [==============================] - 4s 32ms/step - loss: 0.2733 - accuracy: 0.9135\n",
      "Epoch 13/20\n",
      "131/131 [==============================] - 4s 32ms/step - loss: 0.2564 - accuracy: 0.9226\n",
      "Epoch 14/20\n",
      "131/131 [==============================] - 4s 31ms/step - loss: 0.2209 - accuracy: 0.9388\n",
      "Epoch 15/20\n",
      "131/131 [==============================] - 4s 32ms/step - loss: 0.2540 - accuracy: 0.9250\n",
      "Epoch 16/20\n",
      "131/131 [==============================] - 4s 33ms/step - loss: 0.2468 - accuracy: 0.9297\n",
      "Epoch 17/20\n",
      "131/131 [==============================] - 4s 32ms/step - loss: 0.2359 - accuracy: 0.9345\n",
      "Epoch 18/20\n",
      "131/131 [==============================] - 4s 33ms/step - loss: 0.2378 - accuracy: 0.9316\n",
      "Epoch 19/20\n",
      "131/131 [==============================] - 4s 33ms/step - loss: 0.2856 - accuracy: 0.9178\n",
      "Epoch 20/20\n",
      "131/131 [==============================] - 4s 32ms/step - loss: 0.2133 - accuracy: 0.9417\n"
     ]
    },
    {
     "data": {
      "text/plain": [
       "<keras.callbacks.History at 0x1fa48fc2520>"
      ]
     },
     "execution_count": 25,
     "metadata": {},
     "output_type": "execute_result"
    }
   ],
   "source": [
    "model.fit(X_train_t,y_train,batch_size=16,epochs=20,verbose=1)"
   ]
  },
  {
   "cell_type": "code",
   "execution_count": 55,
   "metadata": {},
   "outputs": [],
   "source": [
    "model.save('LSTM.h5')"
   ]
  },
  {
   "cell_type": "code",
   "execution_count": 44,
   "metadata": {},
   "outputs": [
    {
     "name": "stdout",
     "output_type": "stream",
     "text": [
      "11/11 [==============================] - 0s 32ms/step\n",
      "Accuracy : 0.9096209912536443\n"
     ]
    }
   ],
   "source": [
    "pred = model.predict(X_test_t)\n",
    "pred_round = np.around(pred)\n",
    "pred_bin = pred_round.astype(int)\n",
    "\n",
    "print('Accuracy :',accuracy_score(pred_bin,y_test))"
   ]
  },
  {
   "cell_type": "code",
   "execution_count": 45,
   "metadata": {},
   "outputs": [
    {
     "data": {
      "image/png": "[encoded data removed]",
      "text/plain": [
       "<Figure size 432x288 with 2 Axes>"
      ]
     },
     "metadata": {},
     "output_type": "display_data"
    }
   ],
   "source": [
    "import seaborn as sns\n",
    "import matplotlib.pyplot as plt\n",
    "\n",
    "matrix = confusion_matrix(pred_bin,y_test)\n",
    "matrix = matrix.astype('float') / matrix.sum(axis=1)[:, np.newaxis]\n",
    "\n",
    "# Build the plot\n",
    "plt.figure(figsize=(6,4))\n",
    "sns.set(font_scale=1)\n",
    "sns.heatmap(matrix, annot=True, annot_kws={'size':20},\n",
    "            cmap=plt.cm.Greens, linewidths=0.2)\n",
    "\n",
    "# Add labels to the plot\n",
    "class_names = ['No voice', 'Voice']\n",
    "tick_marks = np.arange(len(class_names))\n",
    "tick_marks2 = tick_marks + 0.5\n",
    "plt.xticks(tick_marks, class_names, rotation=25)\n",
    "plt.yticks(tick_marks2, class_names, rotation=0)\n",
    "plt.xlabel('Predicted label')\n",
    "plt.ylabel('True label')\n",
    "plt.title('Confusion Matrix for LS')\n",
    "plt.show()"
   ]
  },
  {
   "cell_type": "code",
   "execution_count": 42,
   "metadata": {},
   "outputs": [
    {
     "name": "stdout",
     "output_type": "stream",
     "text": [
      "6/6 [==============================] - 0s 30ms/step\n",
      "Accuracy for only planes :  0.8362573099415205\n"
     ]
    }
   ],
   "source": [
    "X_plane_test = X_test_t[y_test==0]\n",
    "y_plane_test = y_test[y_test==0]\n",
    "\n",
    "pred = model.predict(X_plane_test)\n",
    "pred_round = np.around(pred)\n",
    "pred_bin = pred_round.astype(int)\n",
    "print('Accuracy for only planes : ',accuracy_score(pred_bin,y_plane_test))"
   ]
  },
  {
   "cell_type": "code",
   "execution_count": 43,
   "metadata": {},
   "outputs": [
    {
     "name": "stdout",
     "output_type": "stream",
     "text": [
      "6/6 [==============================] - 0s 30ms/step\n",
      "Accuracy for voice + plane :  0.9825581395348837\n"
     ]
    }
   ],
   "source": [
    "X_both_test = X_test_t[y_test==1]\n",
    "y_both_test = y_test[y_test==1]\n",
    "\n",
    "pred = model.predict(X_both_test)\n",
    "pred_round = np.around(pred)\n",
    "pred_bin = pred_round.astype(int)\n",
    "print('Accuracy for voice + plane : ',accuracy_score(pred_bin,y_both_test))"
   ]
  },
  {
   "cell_type": "markdown",
   "metadata": {},
   "source": [
    "PARTIE MODELE - CONV2D"
   ]
  },
  {
   "cell_type": "code",
   "execution_count": 46,
   "metadata": {},
   "outputs": [
    {
     "name": "stdout",
     "output_type": "stream",
     "text": [
      "Model: \"model\"\n",
      "_________________________________________________________________\n",
      " Layer (type)                Output Shape              Param #   \n",
      "=================================================================\n",
      " main_input (InputLayer)     [(None, 1025, 100, 1)]    0         \n",
      "                                                                 \n",
      " conv2d (Conv2D)             (None, 1025, 100, 16)     32        \n",
      "                                                                 \n",
      " max_pooling2d (MaxPooling2D  (None, 512, 50, 16)      0         \n",
      " )                                                               \n",
      "                                                                 \n",
      " flatten (Flatten)           (None, 409600)            0         \n",
      "                                                                 \n",
      " dense_4 (Dense)             (None, 16)                6553616   \n",
      "                                                                 \n",
      " dense_5 (Dense)             (None, 1)                 17        \n",
      "                                                                 \n",
      "=================================================================\n",
      "Total params: 6,553,665\n",
      "Trainable params: 6,553,665\n",
      "Non-trainable params: 0\n",
      "_________________________________________________________________\n",
      "Epoch 1/20\n",
      "131/131 [==============================] - 21s 157ms/step - loss: 267.9894 - accuracy: 0.7328\n",
      "Epoch 2/20\n",
      "131/131 [==============================] - 20s 155ms/step - loss: 76.1496 - accuracy: 0.8432\n",
      "Epoch 3/20\n",
      "131/131 [==============================] - 20s 154ms/step - loss: 32.5466 - accuracy: 0.8786\n",
      "Epoch 4/20\n",
      "131/131 [==============================] - 20s 155ms/step - loss: 30.8979 - accuracy: 0.8934\n",
      "Epoch 5/20\n",
      "131/131 [==============================] - 20s 155ms/step - loss: 39.3520 - accuracy: 0.8685\n",
      "Epoch 6/20\n",
      "131/131 [==============================] - 20s 155ms/step - loss: 15.6787 - accuracy: 0.9159\n",
      "Epoch 7/20\n",
      "131/131 [==============================] - 20s 155ms/step - loss: 6.5381 - accuracy: 0.9489\n",
      "Epoch 8/20\n",
      "131/131 [==============================] - 21s 157ms/step - loss: 13.5280 - accuracy: 0.9125\n",
      "Epoch 9/20\n",
      "131/131 [==============================] - 20s 155ms/step - loss: 3.8292 - accuracy: 0.9646\n",
      "Epoch 10/20\n",
      "131/131 [==============================] - 20s 155ms/step - loss: 3.6914 - accuracy: 0.9637\n",
      "Epoch 11/20\n",
      "131/131 [==============================] - 20s 155ms/step - loss: 8.5620 - accuracy: 0.9307\n",
      "Epoch 12/20\n",
      "131/131 [==============================] - 20s 155ms/step - loss: 2.2245 - accuracy: 0.9718\n",
      "Epoch 13/20\n",
      "131/131 [==============================] - 20s 155ms/step - loss: 1.8097 - accuracy: 0.9718\n",
      "Epoch 14/20\n",
      "131/131 [==============================] - 20s 155ms/step - loss: 1.8581 - accuracy: 0.9704\n",
      "Epoch 15/20\n",
      "131/131 [==============================] - 20s 155ms/step - loss: 1.0765 - accuracy: 0.9823\n",
      "Epoch 16/20\n",
      "131/131 [==============================] - 21s 157ms/step - loss: 1.0767 - accuracy: 0.9828\n",
      "Epoch 17/20\n",
      "131/131 [==============================] - 20s 155ms/step - loss: 0.6119 - accuracy: 0.9857\n",
      "Epoch 18/20\n",
      "131/131 [==============================] - 21s 157ms/step - loss: 1.1504 - accuracy: 0.9790\n",
      "Epoch 19/20\n",
      "131/131 [==============================] - 20s 156ms/step - loss: 3.0964 - accuracy: 0.9484\n",
      "Epoch 20/20\n",
      "131/131 [==============================] - 20s 156ms/step - loss: 0.8437 - accuracy: 0.9785\n"
     ]
    },
    {
     "data": {
      "text/plain": [
       "<keras.callbacks.History at 0x1fa983d6610>"
      ]
     },
     "execution_count": 46,
     "metadata": {},
     "output_type": "execute_result"
    }
   ],
   "source": [
    "freq_range,t_range = X_train[0].shape\n",
    "\n",
    "input_shape = (freq_range,t_range,1)\n",
    "inputS = Input(shape=(input_shape),name='main_input')\n",
    "\n",
    "#modele\n",
    "\n",
    "y = BatchNormalization()(inputS)\n",
    "y = Conv2D(16, 1, activation='relu', input_shape=(input_shape))(inputS)\n",
    "y = MaxPool2D()(y)\n",
    "# y = Conv2D(32, 1, activation='relu', input_shape=(input_shape))(inputS)\n",
    "# y = MaxPool2D()(y)\n",
    "y = Flatten()(y)\n",
    "y = Dense(16)(y)\n",
    "y = Dense(1,activation='sigmoid')(y)\n",
    "# y = Softmax()(y)\n",
    "\n",
    "\n",
    "model = Model(inputs=[inputS],outputs =y)\n",
    "\n",
    "model.compile(loss='binary_crossentropy', optimizer='adam', metrics=['accuracy'])\n",
    "\n",
    "model.summary()\n",
    "\n",
    "model.fit(X_train,y_train,batch_size=16,epochs=20,verbose=1)\n"
   ]
  },
  {
   "cell_type": "markdown",
   "metadata": {},
   "source": [
    "TEST DU MODELE "
   ]
  },
  {
   "cell_type": "code",
   "execution_count": 12,
   "metadata": {},
   "outputs": [
    {
     "name": "stdout",
     "output_type": "stream",
     "text": [
      "Accuracy : 0.7551724137931034\n"
     ]
    }
   ],
   "source": [
    "from tensorflow.keras.models import load_model\n",
    "\n",
    "conv = load_model('Conv2D.h5')\n",
    "pred = conv.predict(X_test)\n",
    "pred_round = np.around(pred)\n",
    "pred_bin = pred_round.astype(int)\n",
    "\n",
    "print('Accuracy :',accuracy_score(pred_bin,y_test))"
   ]
  },
  {
   "cell_type": "code",
   "execution_count": 47,
   "metadata": {},
   "outputs": [
    {
     "name": "stdout",
     "output_type": "stream",
     "text": [
      "11/11 [==============================] - 1s 87ms/step\n",
      "Accuracy : 0.8658892128279884\n"
     ]
    }
   ],
   "source": [
    "pred = model.predict(X_test)\n",
    "pred_round = np.around(pred)\n",
    "pred_bin = pred_round.astype(int)\n",
    "\n",
    "print('Accuracy :',accuracy_score(pred_bin,y_test))"
   ]
  },
  {
   "cell_type": "code",
   "execution_count": 49,
   "metadata": {},
   "outputs": [
    {
     "data": {
      "image/png": "[encoded data removed]",
      "text/plain": [
       "<Figure size 432x288 with 2 Axes>"
      ]
     },
     "metadata": {},
     "output_type": "display_data"
    }
   ],
   "source": [
    "matrix = confusion_matrix(pred_bin,y_test)\n",
    "matrix = matrix.astype('float') / matrix.sum(axis=1)[:, np.newaxis]\n",
    "\n",
    "# Build the plot\n",
    "plt.figure(figsize=(6,4))\n",
    "sns.set(font_scale=1)\n",
    "sns.heatmap(matrix, annot=True, annot_kws={'size':20},\n",
    "            cmap=plt.cm.Greens, linewidths=0.2)\n",
    "\n",
    "# Add labels to the plot\n",
    "class_names = ['No voice', 'Voice']\n",
    "tick_marks = np.arange(len(class_names))\n",
    "tick_marks2 = tick_marks + 0.5\n",
    "plt.xticks(tick_marks, class_names, rotation=25)\n",
    "plt.yticks(tick_marks2, class_names, rotation=0)\n",
    "plt.xlabel('Predicted label')\n",
    "plt.ylabel('True label')\n",
    "plt.title('Confusion Matrix for CNN2D')\n",
    "plt.show()"
   ]
  },
  {
   "cell_type": "code",
   "execution_count": 13,
   "metadata": {},
   "outputs": [
    {
     "data": {
      "text/plain": [
       "(290, 1025, 100)"
      ]
     },
     "execution_count": 13,
     "metadata": {},
     "output_type": "execute_result"
    }
   ],
   "source": [
    "X_test.shape"
   ]
  },
  {
   "cell_type": "code",
   "execution_count": 15,
   "metadata": {},
   "outputs": [
    {
     "name": "stdout",
     "output_type": "stream",
     "text": [
      "Accuracy for only planes :  0.8211920529801324\n"
     ]
    }
   ],
   "source": [
    "X_plane_test = X_test[y_test==0]\n",
    "y_plane_test = y_test[y_test==0]\n",
    "\n",
    "pred = model.predict(X_plane_test)\n",
    "pred_round = np.around(pred)\n",
    "pred_bin = pred_round.astype(int)\n",
    "print('Accuracy for only planes : ',accuracy_score(pred_bin,y_plane_test))"
   ]
  },
  {
   "cell_type": "code",
   "execution_count": 16,
   "metadata": {},
   "outputs": [
    {
     "name": "stdout",
     "output_type": "stream",
     "text": [
      "Accuracy for voice + plane :  0.8992805755395683\n"
     ]
    }
   ],
   "source": [
    "X_both_test = X_test[y_test==1]\n",
    "y_both_test = y_test[y_test==1]\n",
    "\n",
    "pred = model.predict(X_both_test)\n",
    "pred_round = np.around(pred)\n",
    "pred_bin = pred_round.astype(int)\n",
    "print('Accuracy for voice + plane : ',accuracy_score(pred_bin,y_both_test))"
   ]
  },
  {
   "cell_type": "code",
   "execution_count": 17,
   "metadata": {},
   "outputs": [],
   "source": [
    "model.save('Conv2D_2.h5')"
   ]
  },
  {
   "cell_type": "code",
   "execution_count": 20,
   "metadata": {},
   "outputs": [
    {
     "data": {
      "text/plain": [
       "array([[1.],\n",
       "       [1.],\n",
       "       [1.],\n",
       "       [1.],\n",
       "       [1.],\n",
       "       [1.],\n",
       "       [1.],\n",
       "       [1.],\n",
       "       [0.],\n",
       "       [1.],\n",
       "       [1.],\n",
       "       [1.],\n",
       "       [1.],\n",
       "       [1.],\n",
       "       [1.],\n",
       "       [1.],\n",
       "       [0.],\n",
       "       [0.],\n",
       "       [1.],\n",
       "       [1.],\n",
       "       [1.],\n",
       "       [1.],\n",
       "       [1.],\n",
       "       [1.],\n",
       "       [1.],\n",
       "       [1.],\n",
       "       [0.],\n",
       "       [1.],\n",
       "       [1.],\n",
       "       [0.],\n",
       "       [1.],\n",
       "       [1.],\n",
       "       [1.],\n",
       "       [1.],\n",
       "       [1.],\n",
       "       [1.],\n",
       "       [1.],\n",
       "       [1.],\n",
       "       [1.],\n",
       "       [0.],\n",
       "       [1.],\n",
       "       [1.],\n",
       "       [0.],\n",
       "       [1.],\n",
       "       [1.],\n",
       "       [1.],\n",
       "       [1.],\n",
       "       [1.],\n",
       "       [1.],\n",
       "       [1.],\n",
       "       [1.],\n",
       "       [1.],\n",
       "       [1.],\n",
       "       [1.],\n",
       "       [1.],\n",
       "       [1.],\n",
       "       [1.],\n",
       "       [0.],\n",
       "       [1.],\n",
       "       [1.],\n",
       "       [1.],\n",
       "       [1.],\n",
       "       [1.],\n",
       "       [1.],\n",
       "       [1.],\n",
       "       [1.],\n",
       "       [1.],\n",
       "       [1.],\n",
       "       [1.],\n",
       "       [1.],\n",
       "       [1.],\n",
       "       [1.],\n",
       "       [1.],\n",
       "       [1.],\n",
       "       [1.],\n",
       "       [1.],\n",
       "       [1.],\n",
       "       [1.],\n",
       "       [1.],\n",
       "       [1.],\n",
       "       [1.],\n",
       "       [1.],\n",
       "       [1.],\n",
       "       [1.],\n",
       "       [1.],\n",
       "       [1.],\n",
       "       [1.],\n",
       "       [1.],\n",
       "       [1.],\n",
       "       [1.],\n",
       "       [1.],\n",
       "       [0.],\n",
       "       [1.],\n",
       "       [1.],\n",
       "       [1.],\n",
       "       [1.],\n",
       "       [1.],\n",
       "       [1.],\n",
       "       [1.],\n",
       "       [1.],\n",
       "       [1.],\n",
       "       [1.],\n",
       "       [1.],\n",
       "       [1.],\n",
       "       [1.],\n",
       "       [1.],\n",
       "       [1.],\n",
       "       [1.],\n",
       "       [1.],\n",
       "       [0.],\n",
       "       [1.],\n",
       "       [0.],\n",
       "       [1.],\n",
       "       [1.],\n",
       "       [1.],\n",
       "       [1.],\n",
       "       [1.],\n",
       "       [1.],\n",
       "       [1.],\n",
       "       [0.],\n",
       "       [1.],\n",
       "       [0.],\n",
       "       [1.],\n",
       "       [1.],\n",
       "       [0.],\n",
       "       [1.],\n",
       "       [1.],\n",
       "       [1.],\n",
       "       [1.],\n",
       "       [1.],\n",
       "       [1.],\n",
       "       [1.],\n",
       "       [1.],\n",
       "       [1.],\n",
       "       [1.],\n",
       "       [1.],\n",
       "       [1.],\n",
       "       [1.],\n",
       "       [1.]], dtype=float32)"
      ]
     },
     "execution_count": 20,
     "metadata": {},
     "output_type": "execute_result"
    }
   ],
   "source": [
    "np.around(model.predict(X_both_test))"
   ]
  }
 ],
 "metadata": {
  "kernelspec": {
   "display_name": "Python 3 (ipykernel)",
   "language": "python",
   "name": "python3"
  },
  "language_info": {
   "codemirror_mode": {
    "name": "ipython",
    "version": 3
   },
   "file_extension": ".py",
   "mimetype": "text/x-python",
   "name": "python",
   "nbconvert_exporter": "python",
   "pygments_lexer": "ipython3",
   "version": "3.9.7"
  },
  "vscode": {
   "interpreter": {
    "hash": "57fc1ca9e7a3b36fb7482b4c918a6cca87efa7be43ecf423d462955f51660388"
   }
  }
 },
 "nbformat": 4,
 "nbformat_minor": 2
}
