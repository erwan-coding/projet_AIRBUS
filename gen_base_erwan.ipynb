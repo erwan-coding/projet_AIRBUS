{
 "cells": [
  {
   "cell_type": "code",
   "execution_count": 925,
   "id": "b729850d",
   "metadata": {},
   "outputs": [],
   "source": [
    "import os\n",
    "import random\n",
    "import matplotlib.pyplot as plt\n",
    "import numpy as np\n",
    "import math as m\n",
    "import soundfile as sf\n",
    "\n",
    "path_to_folder = os.getcwd()\n",
    "path_to_voice = '\\\\LibriSpeech\\\\train-clean-100'\n",
    "path_to_plane = '\\\\recordings\\\\'"
   ]
  },
  {
   "cell_type": "code",
   "execution_count": 926,
   "id": "437865e3",
   "metadata": {},
   "outputs": [],
   "source": [
    "def random_voice_file():\n",
    "    path = path_to_folder+'\\\\LibriSpeech\\\\train-clean-100'\n",
    "    dirr = os.listdir(path)\n",
    "    dir1 = random.sample(dirr,1)[0]\n",
    "    path = path + \"\\\\\" + dir1\n",
    "    dir2 = os.listdir(path)\n",
    "    dir2 = random.sample(dir2,1)[0]\n",
    "    path = path + \"\\\\\" + dir2\n",
    "    file = os.listdir(path)\n",
    "    file = random.sample(file,1)[0]\n",
    "    while file[-1] != 'c':\n",
    "        file = os.listdir(path)\n",
    "        file = random.sample(dir2,1)[0]\n",
    "    path = path + \"\\\\\" + file\n",
    "    return(path,file)"
   ]
  },
  {
   "cell_type": "code",
   "execution_count": 927,
   "id": "b5aa245e",
   "metadata": {},
   "outputs": [],
   "source": [
    "def random_plane_file():\n",
    "    n = random.randint(0,24)\n",
    "    return(path_to_folder+path_to_plane+\"record_\"+str(n)+\".wav\")"
   ]
  },
  {
   "cell_type": "code",
   "execution_count": 928,
   "id": "95c84c3e",
   "metadata": {},
   "outputs": [
    {
     "name": "stdout",
     "output_type": "stream",
     "text": [
      "d:\\Utilisateurs\\ENAC\\projet_AIRBUS\\LibriSpeech\\train-clean-100\\1116\\132847\\1116-132847-0030.flac 1116-132847-0030\n",
      "d:\\Utilisateurs\\ENAC\\projet_AIRBUS\\recordings\\record_24.wav\n"
     ]
    }
   ],
   "source": [
    "path,file = random_file()\n",
    "print(path,file[:-5])\n",
    "plane = random_plane_file()\n",
    "print(plane)"
   ]
  },
  {
   "cell_type": "code",
   "execution_count": 929,
   "id": "cae9414d",
   "metadata": {},
   "outputs": [],
   "source": [
    "def get_time_steps(lendata,samplerate):\n",
    "    return(np.linspace(0,int(lendata/samplerate),lendata))"
   ]
  },
  {
   "cell_type": "code",
   "execution_count": 930,
   "id": "1224a69a",
   "metadata": {},
   "outputs": [
    {
     "name": "stdout",
     "output_type": "stream",
     "text": [
      "5898240 97040\n"
     ]
    }
   ],
   "source": [
    "import soundfile as sf\n",
    "datavoice, sampleratevoice = sf.read(path)\n",
    "dataplane, samplerateplane = sf.read(random_plane_file())\n",
    "print(len(dataplane),len(datavoice))"
   ]
  },
  {
   "cell_type": "code",
   "execution_count": 931,
   "id": "0922dbda",
   "metadata": {},
   "outputs": [],
   "source": [
    "def f_exp(x,sigma):\n",
    "    return m.exp(-1*((x)**2)/(2*(sigma**2)))"
   ]
  },
  {
   "cell_type": "code",
   "execution_count": 932,
   "id": "4c3582a6",
   "metadata": {},
   "outputs": [],
   "source": [
    "def filtre_voix_exp(data,place,sigma,samplerate):\n",
    "    imax = int(len(data)*place)\n",
    "    exp = [m.exp(-1*((x-imax)**2)/(2*(sigma**2))) for x in range(len(data))]\n",
    "    tps = len([0 for k in range(len(data)) if exp[k]>0.001])/samplerate\n",
    "    res = [exp[k] * data[k] for k in range(len(data))]\n",
    "    return(res,tps)"
   ]
  },
  {
   "cell_type": "code",
   "execution_count": 933,
   "id": "f44285d1",
   "metadata": {},
   "outputs": [],
   "source": [
    "def filtre_voix_lin(data,sr,maxi,duration):\n",
    "\n",
    "    debut = maxi - duration//2\n",
    "    fin = maxi + duration //2\n",
    "    imax_int = len(data)*maxi//100\n",
    "    i_deb = imax_int - duration*sr//2\n",
    "    i_fin = imax_int + duration*sr//2\n",
    "    lin = []\n",
    "    for i in range(len(data)):\n",
    "        if i<i_deb:\n",
    "            lin.append(0)\n",
    "        if i>i_deb and i<imax_int:\n",
    "            lin.append((i-i_deb)/(imax_int-i_deb))\n",
    "        if i>imax_int and i<i_fin:\n",
    "            lin.append((i_fin-i)/(i_fin-imax_int))\n",
    "        else:\n",
    "            lin.append(0)\n",
    "    res = [lin[k] * datavoice[k] for k in range(len(data))]\n",
    "    return np.array(res),debut,fin"
   ]
  },
  {
   "cell_type": "code",
   "execution_count": 934,
   "id": "49f87334",
   "metadata": {},
   "outputs": [],
   "source": [
    "#Les enregistrements d'avions et de voix n'ont pas le même sample rate. Afin de pouvoir les additionner facilement, on peut\n",
    "#modifier le son avec le sample rate le plus petit, en considérant l'intensité constante entre les points \n",
    "#effectivement enregistrés\n",
    "\n",
    "def same_sample_rate(voice,sr_voice,plane,sr_plane):\n",
    "\n",
    "    if sr_voice>sr_plane:\n",
    "        voice_adjusted = voice\n",
    "        pas = int(sr_voice/sr_plane)\n",
    "        plane_adjusted = []\n",
    "        for t in range(len(plane)):\n",
    "            plane_adjusted += [plane[t] for p in range(pas)]\n",
    "    else:\n",
    "        plane_adjusted = plane\n",
    "        pas = int(sr_plane/sr_voice)\n",
    "        for t in range(len(voice)):\n",
    "            voice_adjusted += [voice[t] for p in range(pas)]\n",
    "    return (np.array(voice_adjusted),np.array(plane_adjusted),max([sr_voice,sr_plane]))"
   ]
  },
  {
   "cell_type": "code",
   "execution_count": 935,
   "id": "4de02a06",
   "metadata": {},
   "outputs": [],
   "source": [
    "def superpose(plane,voice,debut): #superpose deux sons de meme samplerate\n",
    "\n",
    "    percent_voice = len(voice)/len(plane) * 100\n",
    "    if percent_voice > 100-debut:\n",
    "        debut_effectif = 99 - debut #on decale si ca fait trop\n",
    "\n",
    "    else:\n",
    "        debut_effectif = debut\n",
    "    plane = np.array(plane)\n",
    "    voice = np.array(voice)\n",
    "\n",
    "    len_duration = len(voice)\n",
    "\n",
    "    t_debut = int(debut/100 * len(plane))\n",
    "    print(t_debut)\n",
    "    t_fin = t_debut + len_duration\n",
    "    print(t_fin)\n",
    "    res = plane\n",
    "    # print(len(res),len_duration)\n",
    "    res[t_debut : t_fin] = np.add(plane[t_debut : t_fin],voice)\n",
    "\n",
    "    return res,debut_effectif"
   ]
  },
  {
   "cell_type": "code",
   "execution_count": 936,
   "id": "0f20330e",
   "metadata": {},
   "outputs": [],
   "source": [
    "def get_voice_sec_interval(plane,sr,debut,voice):\n",
    "    signal_duration = len(plane)/sr \n",
    "    sec_debut = debut/100*signal_duration\n",
    "\n",
    "    percent_voice = len(voice)/len(plane) * 100\n",
    "    fin = debut + percent_voice\n",
    "\n",
    "    sec_fin = fin/100*signal_duration\n",
    "    return sec_debut,sec_fin\n",
    "\n",
    "def get_filter_sec_interval(s_debut_voix,s_fin_voix,debut_filtre,fin_filtre):\n",
    "    \n",
    "    voice_duration = s_fin_voix-s_debut_voix\n",
    "    sec_debut_filtre = s_debut_voix+ debut_filtre/100*voice_duration\n",
    "    sec_fin_filtre = s_debut_voix+ fin_filtre/100*voice_duration\n",
    "\n",
    "    return sec_debut_filtre,sec_fin_filtre"
   ]
  },
  {
   "cell_type": "code",
   "execution_count": 937,
   "id": "9318ab66",
   "metadata": {},
   "outputs": [],
   "source": [
    "def generate_database(nb):\n",
    "    db_infos = {}\n",
    "    for i in range(nb):\n",
    "        #on selectionne les fichiers\n",
    "        path_voice,file = random_voice_file()\n",
    "        path_plane = random_plane_file()\n",
    "        \n",
    "        #on les ouvre\n",
    "        datavoice, sr_voice = sf.read(path_voice)\n",
    "        dataplane, sr_plane = sf.read(path_plane)\n",
    "\n",
    "        voice_duration = len(datavoice)/sampleratevoice\n",
    "\n",
    "        #on applique un filtre sur la voix ou pas\n",
    "        # maxi_filtre = random.randint(0,100) #intensite max du filtre\n",
    "        # duration_filtre = random.randint(0,25)\n",
    "        # voice_filtered,debut_filtre,fin_filtre = filtre_voix_lin(datavoice,sr_voice,maxi_filtre,duration_filtre)\n",
    "\n",
    "        #on les met a la meme frequence d'echantillonage\n",
    "        plane,voice,sr = same_sample_rate(dataplane,sr_plane,datavoice,sr_voice)\n",
    "\n",
    "        debut = random.randint(0,100) # en pourcent de l'extrait\n",
    "        print(debut)\n",
    "        #on les superpose à partir de debut\n",
    "        sum_sounds,debut_effectif = superpose(plane,voice,debut) #il y aura 10% de voix\n",
    "        \n",
    "        name =  \"db\\\\sample_{}.wav\".format(i)\n",
    "\n",
    "        sec_voice_debut,sec_voice_fin = get_voice_sec_interval(sum_sounds,sr,debut_effectif,voice)\n",
    "        # sec_filter_debut,sec_filter_fin = get_filter_sec_interval(sec_voice_debut,sec_voice_fin,debut_filtre,fin_filtre)\n",
    "        db_infos[i] = {\n",
    "            'debut_voix':sec_voice_debut,\n",
    "            'fin_voix':sec_voice_fin,\n",
    "            # 'filtre':{\n",
    "            #     'debut':sec_filter_debut,\n",
    "            #     'max':(sec_filter_debut+sec_filter_fin)//2,\n",
    "            #     'fin':sec_filter_fin\n",
    "            # }\n",
    "        }\n",
    "\n",
    "        sf.write(name, sum_sounds, sr)\n",
    "\n",
    "    return db_infos"
   ]
  },
  {
   "cell_type": "code",
   "execution_count": 938,
   "id": "ca22402c",
   "metadata": {},
   "outputs": [
    {
     "name": "stdout",
     "output_type": "stream",
     "text": [
      "21\n",
      "1651507\n",
      "2122867\n"
     ]
    }
   ],
   "source": [
    "db_infos = generate_database(1)"
   ]
  },
  {
   "cell_type": "code",
   "execution_count": 939,
   "id": "7b6bdb60",
   "metadata": {},
   "outputs": [
    {
     "name": "stdout",
     "output_type": "stream",
     "text": [
      "{0: {'debut_voix': 50.4, 'fin_voix': 64.784765625}}\n"
     ]
    }
   ],
   "source": [
    "print(db_infos)"
   ]
  }
 ],
 "metadata": {
  "kernelspec": {
   "display_name": "Python 3.9.0 64-bit",
   "language": "python",
   "name": "python3"
  },
  "language_info": {
   "codemirror_mode": {
    "name": "ipython",
    "version": 3
   },
   "file_extension": ".py",
   "mimetype": "text/x-python",
   "name": "python",
   "nbconvert_exporter": "python",
   "pygments_lexer": "ipython3",
   "version": "3.9.0"
  },
  "vscode": {
   "interpreter": {
    "hash": "f07a9cec850f9104fc95ea0494484df5ee5d9a14128a89aec6d609f0f574ea61"
   }
  }
 },
 "nbformat": 4,
 "nbformat_minor": 5
}
