{
 "cells": [
  {
   "cell_type": "code",
   "execution_count": 3,
   "metadata": {},
   "outputs": [],
   "source": [
    "import librosa\n",
    "import librosa.display\n",
    "import os\n",
    "\n",
    "import warnings\n",
    "warnings.filterwarnings(\"ignore\")\n",
    "\n",
    "path_to_voice_records = \"D:\\\\Utilisateurs\\\\ENAC\\\\projet_AIRBUS\\\\voice\\\\84\\\\121123\\\\\"\n",
    "path_to_airplane_records = \"D:\\\\Utilisateurs\\\\ENAC\\\\projet_AIRBUS\\\\recordings\\\\\"\n",
    "path_to_created_samples = \"D:\\\\Utilisateurs\\\\ENAC\\\\projet_AIRBUS\\\\created\\\\\"\n",
    "\n",
    "l_voice_records = os.listdir(path_to_voice_records)\n",
    "l_airplane_records = os.listdir(path_to_airplane_records)\n",
    "l_rec = l_voice_records + l_airplane_records"
   ]
  },
  {
   "cell_type": "code",
   "execution_count": 27,
   "metadata": {},
   "outputs": [],
   "source": [
    "def mat_to_list(mat):\n",
    "    out = []\n",
    "    for x in mat:\n",
    "        l_x = []\n",
    "        for i in range(len(x)):\n",
    "            l_x.append(x[i])\n",
    "        out.append(l_x)\n",
    "    return out"
   ]
  },
  {
   "cell_type": "code",
   "execution_count": 29,
   "metadata": {},
   "outputs": [],
   "source": [
    "import random as rd\n",
    "from sklearn.preprocessing import StandardScaler\n",
    "from sklearn.decomposition import PCA\n",
    "import matplotlib.pyplot as plt\n",
    "n_train = 2\n",
    "\n",
    "sp_voice = [] #spectres \n",
    "sp_plane = []\n",
    "pca = PCA(0.99)\n",
    "\n",
    "for i in range(n_train): \n",
    "    picked = rd.choice(l_voice_records) #pour l'instant que sur les voix\n",
    "    signal,sample_rate = librosa.load(path_to_voice_records+picked)\n",
    "    spectrum = librosa.stft(y=signal[:10000],center=False) #tronqué car les voix n'ont pas le meme temps d'enregistrement\n",
    "    # print(len(spectrum),len(spectrum[0]))\n",
    "\n",
    "    spectrum = spectrum.astype(float)\n",
    "    pca.fit(spectrum)\n",
    "    sp_voice.append(spectrum)\n",
    "\n",
    "for i in range(n_train): \n",
    "    picked = rd.choice(l_airplane_records) \n",
    "    signal,sample_rate = librosa.load(path_to_airplane_records+picked)\n",
    "    spectrum = librosa.stft(y=signal[:10000],center=False) #tronqué car les voix n'ont pas le meme temps d'enregistrement\n",
    "    # print(len(spectrum),len(spectrum[0]))\n",
    "\n",
    "    #On rescale la data\n",
    "    spectrum = spectrum.astype(float)\n",
    "    pca.fit(spectrum)\n",
    "    sp_plane.append(spectrum)\n",
    "\n"
   ]
  },
  {
   "cell_type": "code",
   "execution_count": 34,
   "metadata": {},
   "outputs": [
    {
     "data": {
      "text/plain": [
       "11"
      ]
     },
     "execution_count": 34,
     "metadata": {},
     "output_type": "execute_result"
    }
   ],
   "source": [
    "len(pca.components_)"
   ]
  },
  {
   "cell_type": "code",
   "execution_count": 30,
   "metadata": {},
   "outputs": [],
   "source": [
    "# len(sp_plane)\n",
    "\n",
    "for i in range(n_train):\n",
    "    sp_voice[i] = pca.transform(sp_voice[i])\n",
    "    sp_plane[i] = pca.transform(sp_plane[i])"
   ]
  },
  {
   "cell_type": "code",
   "execution_count": 35,
   "metadata": {},
   "outputs": [],
   "source": [
    "X_voice=[]\n",
    "X_plane = []\n",
    "for i in range(n_train):\n",
    "    X_voice += mat_to_list(sp_voice[i])\n",
    "    X_plane += mat_to_list(sp_plane[i])"
   ]
  },
  {
   "cell_type": "code",
   "execution_count": 32,
   "metadata": {},
   "outputs": [
    {
     "data": {
      "text/plain": [
       "(2050, 11)"
      ]
     },
     "execution_count": 32,
     "metadata": {},
     "output_type": "execute_result"
    }
   ],
   "source": [
    "len(X_voice),len(X_voice[0])"
   ]
  },
  {
   "cell_type": "code",
   "execution_count": 36,
   "metadata": {},
   "outputs": [
    {
     "data": {
      "text/plain": [
       "RandomForestClassifier()"
      ]
     },
     "execution_count": 36,
     "metadata": {},
     "output_type": "execute_result"
    }
   ],
   "source": [
    "from sklearn.ensemble import RandomForestClassifier\n",
    "from sklearn.model_selection import train_test_split\n",
    "\n",
    "y_voice = [1 for elt in X_plane]\n",
    "y_plane = [0 for elt in X_plane]\n",
    "\n",
    "X = X_voice + X_plane\n",
    "y = y_voice + y_plane\n",
    "\n",
    "\n",
    "X_train, X_test, y_train, y_test = train_test_split( X, y, test_size=0.33, random_state=42)\n",
    "\n",
    "rf = RandomForestClassifier()\n",
    "rf.fit(X_train,y_train)"
   ]
  },
  {
   "cell_type": "code",
   "execution_count": 37,
   "metadata": {},
   "outputs": [
    {
     "data": {
      "text/plain": [
       "0.8632668144863267"
      ]
     },
     "execution_count": 37,
     "metadata": {},
     "output_type": "execute_result"
    }
   ],
   "source": [
    "from sklearn.metrics import accuracy_score\n",
    "\n",
    "pred = rf.predict(X_test)\n",
    "accuracy_score(pred,y_test)"
   ]
  }
 ],
 "metadata": {
  "kernelspec": {
   "display_name": "Python 3.7.3 64-bit",
   "language": "python",
   "name": "python3"
  },
  "language_info": {
   "codemirror_mode": {
    "name": "ipython",
    "version": 3
   },
   "file_extension": ".py",
   "mimetype": "text/x-python",
   "name": "python",
   "nbconvert_exporter": "python",
   "pygments_lexer": "ipython3",
   "version": "3.7.3"
  },
  "orig_nbformat": 4,
  "vscode": {
   "interpreter": {
    "hash": "3fed0bbd5495796534d572169a57e75d8875d8562251a330156def74428f8b55"
   }
  }
 },
 "nbformat": 4,
 "nbformat_minor": 2
}
