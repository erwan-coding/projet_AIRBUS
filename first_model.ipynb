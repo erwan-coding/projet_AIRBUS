{
 "cells": [
  {
   "cell_type": "code",
   "execution_count": 1,
   "metadata": {},
   "outputs": [],
   "source": [
    "import librosa\n",
    "import librosa.display\n",
    "import os\n",
    "\n",
    "import warnings\n",
    "warnings.filterwarnings(\"ignore\")\n",
    "\n",
    "path_to_voice_records = \"D:\\\\Utilisateurs\\\\ENAC\\\\projet_AIRBUS\\\\voice\\\\84\\\\121123\\\\\"\n",
    "path_to_airplane_records = \"D:\\\\Utilisateurs\\\\ENAC\\\\projet_AIRBUS\\\\recordings\\\\\"\n",
    "path_to_created_samples = \"D:\\\\Utilisateurs\\\\ENAC\\\\projet_AIRBUS\\\\created\\\\\"\n",
    "\n",
    "l_voice_records = os.listdir(path_to_voice_records)\n",
    "l_airplane_records = os.listdir(path_to_airplane_records)\n",
    "l_rec = l_voice_records + l_airplane_records"
   ]
  },
  {
   "cell_type": "code",
   "execution_count": 2,
   "metadata": {},
   "outputs": [],
   "source": [
    "def mat_to_list(mat):\n",
    "    out = []\n",
    "    for x in mat:\n",
    "        l_x = []\n",
    "        for i in range(len(x)):\n",
    "            l_x.append(x[i])\n",
    "        out.append(l_x)\n",
    "    return out"
   ]
  },
  {
   "cell_type": "code",
   "execution_count": 21,
   "metadata": {},
   "outputs": [],
   "source": [
    "import random as rd\n",
    "from sklearn.preprocessing import StandardScaler\n",
    "from sklearn.decomposition import PCA\n",
    "import numpy as np\n",
    "n_train = 2\n",
    "\n",
    "sp_voice = [] #spectres \n",
    "sp_plane = []\n",
    "pca = PCA(0.99)\n",
    "pca_xtrain = None\n",
    "\n",
    "for i in range(100): \n",
    "    picked = rd.choice(l_voice_records) #pour l'instant que sur les voix\n",
    "    signal,sample_rate = librosa.load(path_to_voice_records+picked)\n",
    "    spectrum = librosa.stft(y=signal,center=False) #tronqué car les voix n'ont pas le meme temps d'enregistrement\n",
    "    spectrum = spectrum.astype(float)\n",
    "    sp_voice.append(spectrum)\n",
    "\n",
    "for i in range(4): \n",
    "    picked = rd.choice(l_airplane_records) \n",
    "    signal,sample_rate = librosa.load(path_to_airplane_records+picked)\n",
    "    spectrum = librosa.stft(y=signal,center=False) #tronqué car les voix n'ont pas le meme temps d'enregistrement\n",
    "\n",
    "    #On rescale la data\n",
    "    spectrum = spectrum.astype(float)\n",
    "    sp_plane.append(spectrum)\n",
    "\n"
   ]
  },
  {
   "cell_type": "code",
   "execution_count": 22,
   "metadata": {},
   "outputs": [],
   "source": [
    "X_voice= np.transpose(np.concatenate(sp_voice,axis=1))\n",
    "X_plane = np.transpose(np.concatenate(sp_plane,axis=1))"
   ]
  },
  {
   "cell_type": "code",
   "execution_count": 23,
   "metadata": {},
   "outputs": [
    {
     "data": {
      "text/plain": [
       "(23596, 1025)"
      ]
     },
     "execution_count": 23,
     "metadata": {},
     "output_type": "execute_result"
    }
   ],
   "source": [
    "len(X_voice),len(X_voice[0])"
   ]
  },
  {
   "cell_type": "code",
   "execution_count": 24,
   "metadata": {},
   "outputs": [],
   "source": [
    "# len(sp_plane)\n",
    "\n",
    "# for i in range(n_train):\n",
    "#     sp_voice[i] = pca.transform(sp_voice[i])\n",
    "#     sp_plane[i] = pca.transform(sp_plane[i])"
   ]
  },
  {
   "cell_type": "code",
   "execution_count": 25,
   "metadata": {},
   "outputs": [
    {
     "data": {
      "text/plain": [
       "RandomForestClassifier(n_jobs=-1)"
      ]
     },
     "execution_count": 25,
     "metadata": {},
     "output_type": "execute_result"
    }
   ],
   "source": [
    "from sklearn.ensemble import RandomForestClassifier\n",
    "from sklearn.model_selection import train_test_split\n",
    "\n",
    "y_voice = [1 if max(elt)>1 else -1 for elt in X_voice]\n",
    "y_plane = [0 if max(elt)>1 else -1 for elt in X_plane]\n",
    "\n",
    "X = np.concatenate([X_voice,X_plane])\n",
    "# X = PCA(0.999).fit_transform(X)\n",
    "y = y_voice + y_plane\n",
    "\n",
    "X_train, X_test, y_train, y_test = train_test_split( X, y, test_size=0.33, random_state=42)\n",
    "\n",
    "rf = RandomForestClassifier(n_jobs=-1)\n",
    "rf.fit(X_train,y_train)"
   ]
  },
  {
   "cell_type": "code",
   "execution_count": 26,
   "metadata": {},
   "outputs": [
    {
     "data": {
      "text/plain": [
       "0.9888164520061483"
      ]
     },
     "execution_count": 26,
     "metadata": {},
     "output_type": "execute_result"
    }
   ],
   "source": [
    "from sklearn.metrics import accuracy_score\n",
    "\n",
    "pred = rf.predict(X_test)\n",
    "accuracy_score(pred,y_test)"
   ]
  }
 ],
 "metadata": {
  "kernelspec": {
   "display_name": "Python 3.7.3 64-bit",
   "language": "python",
   "name": "python3"
  },
  "language_info": {
   "codemirror_mode": {
    "name": "ipython",
    "version": 3
   },
   "file_extension": ".py",
   "mimetype": "text/x-python",
   "name": "python",
   "nbconvert_exporter": "python",
   "pygments_lexer": "ipython3",
   "version": "3.7.3"
  },
  "orig_nbformat": 4,
  "vscode": {
   "interpreter": {
    "hash": "3fed0bbd5495796534d572169a57e75d8875d8562251a330156def74428f8b55"
   }
  }
 },
 "nbformat": 4,
 "nbformat_minor": 2
}
