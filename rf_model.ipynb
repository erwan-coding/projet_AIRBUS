{
 "cells": [
  {
   "cell_type": "code",
   "execution_count": 2,
   "metadata": {},
   "outputs": [],
   "source": [
    "import librosa\n",
    "import librosa.display\n",
    "import os\n",
    "import pandas as pd\n",
    "import numpy as np\n",
    "from time import time \n",
    "import random as rd\n",
    "import matplotlib.pyplot as plt\n",
    "from sklearn.preprocessing import StandardScaler\n",
    "from sklearn.decomposition import PCA\n",
    "import numpy as np\n",
    "import threading\n",
    "from sklearn.metrics import confusion_matrix,accuracy_score\n",
    "\n",
    "import matplotlib.pyplot as plt\n",
    "import seaborn as sns\n",
    "\n",
    "import warnings\n",
    "warnings.filterwarnings(\"ignore\")\n",
    "\n",
    "path_to_db_voice = \"C:\\\\Users\\\\antoi\\Desktop\\\\Airbus\\\\projet_AIRBUS\\\\db\\\\voice\\\\\"\n",
    "path_to_db_plane = \"C:\\\\Users\\\\antoi\\Desktop\\\\Airbus\\\\projet_AIRBUS\\\\db\\\\plane\\\\\"\n",
    "path_to_db_both = \"C:\\\\Users\\\\antoi\\Desktop\\\\Airbus\\\\projet_AIRBUS\\\\db\\\\both\\\\\"\n",
    "\n",
    "l_voice_records = os.listdir(path_to_db_voice)\n",
    "l_airplane_records = os.listdir(path_to_db_plane)\n",
    "l_both_records = os.listdir(path_to_db_both)"
   ]
  },
  {
   "cell_type": "code",
   "execution_count": 3,
   "metadata": {},
   "outputs": [],
   "source": [
    "def separe_train_test(db_folder_path,n_records,test_size):\n",
    "    l_records = os.listdir(db_folder_path)\n",
    "    sub_l_records = rd.sample(l_records,n_records)\n",
    "    size = len(sub_l_records)\n",
    "    sep = round(test_size*size)\n",
    "    sample = rd.sample(sub_l_records,size)\n",
    "    test = sample[:sep]\n",
    "    train = sample[sep:]\n",
    "    return train,test"
   ]
  },
  {
   "cell_type": "code",
   "execution_count": 4,
   "metadata": {},
   "outputs": [],
   "source": [
    "def gen_X_train_test(db_folder_path,n_records,test_size):\n",
    "    sp_rec_train = []\n",
    "    sp_rec_test = []\n",
    "    hops_train = []\n",
    "    hops_test = []\n",
    "    records_train,records_test = separe_train_test(db_folder_path,n_records,test_size)\n",
    "    i = 0\n",
    "    for record in records_train:\n",
    "        print('Building train {}/{}'.format(i,len(records_train)),end='\\r')\n",
    "        signal,sample_rate = librosa.load(db_folder_path + record)\n",
    "        spectrum = librosa.stft(y=signal,center=False) \n",
    "        spectrum = spectrum.astype(float)\n",
    "        sp_rec_train.append(np.abs(np.transpose(spectrum)))\n",
    "        hops_train.append(len(signal)//len(spectrum))\n",
    "        i+=1\n",
    "\n",
    "        # plt.hist(np.unique(spectrum),bins=200)\n",
    "        # plt.yscale('log')\n",
    "        # fig = librosa.display.specshow(spectrum, sr=sample_rate, x_axis='time', y_axis='log')\n",
    "        # plt.colorbar(format='%+2.0f dB')\n",
    "        # plt.title('Spectrogram')\n",
    "        # plt.plot()\n",
    "        # plt.show()\n",
    "    i=0\n",
    "    for record in records_test: \n",
    "        print('Building  test {}/{}'.format(i,len(records_test)),end='\\r')\n",
    "        signal,sample_rate = librosa.load(db_folder_path + record)\n",
    "        spectrum = librosa.stft(y=signal,center=False) \n",
    "        spectrum = spectrum.astype(float)\n",
    "        sp_rec_test.append(np.abs(np.transpose(spectrum)))\n",
    "        hops_test.append(len(signal)//len(spectrum))\n",
    "        i+=1\n",
    "\n",
    "    X_train = np.concatenate(sp_rec_train)\n",
    "    X_test = np.concatenate(sp_rec_test)\n",
    "\n",
    "    return X_train,X_test,hops_train,hops_test"
   ]
  },
  {
   "cell_type": "code",
   "execution_count": 59,
   "metadata": {},
   "outputs": [
    {
     "name": "stdout",
     "output_type": "stream",
     "text": [
      "Both done test 52/5325\r"
     ]
    }
   ],
   "source": [
    "\n",
    "\n",
    "\n",
    "n_records = 178\n",
    "\n",
    "X_voice_train,X_voice_test,hops_voice_train,hops_voice_test= gen_X_train_test(path_to_db_voice,n_records,0.3)\n",
    "print('Voice done',end='\\r')\n",
    "X_plane_train,X_plane_test,hops_plane_train,hops_plane_test = gen_X_train_test(path_to_db_plane,n_records,0.3)\n",
    "print('Plane done',end='\\r')\n",
    "X_both_train,X_both_test,hops_both_train,hops_both_test = gen_X_train_test(path_to_db_both,n_records,0.3)\n",
    "print('Both done',end='\\r')"
   ]
  },
  {
   "cell_type": "code",
   "execution_count": 6,
   "metadata": {},
   "outputs": [
    {
     "data": {
      "text/plain": [
       "[287, 253, 161, 292, 212]"
      ]
     },
     "execution_count": 6,
     "metadata": {},
     "output_type": "execute_result"
    }
   ],
   "source": [
    "hops_voice_train"
   ]
  },
  {
   "cell_type": "code",
   "execution_count": 60,
   "metadata": {},
   "outputs": [
    {
     "name": "stdout",
     "output_type": "stream",
     "text": [
      "200951\n",
      "1025\n"
     ]
    }
   ],
   "source": [
    "print(len(X_voice_train) + len(X_plane_train) + len(X_both_train))\n",
    "print(len(X_plane_train[0]))"
   ]
  },
  {
   "cell_type": "code",
   "execution_count": 61,
   "metadata": {},
   "outputs": [
    {
     "data": {
      "text/plain": [
       "(2,)"
      ]
     },
     "execution_count": 61,
     "metadata": {},
     "output_type": "execute_result"
    }
   ],
   "source": [
    "from sklearn.ensemble import RandomForestClassifier\n",
    "from sklearn.model_selection import train_test_split\n",
    "\n",
    "threshold = 10\n",
    "\n",
    "\n",
    "import pandas\n",
    "from keras.models import Sequential\n",
    "from keras.layers import Dense\n",
    "from keras.wrappers.scikit_learn import KerasClassifier\n",
    "from keras.utils import np_utils\n",
    "from sklearn.model_selection import cross_val_score\n",
    "from sklearn.model_selection import KFold\n",
    "from sklearn.preprocessing import LabelEncoder\n",
    "from sklearn.pipeline import Pipeline\n",
    "\n",
    "y_voice_train = ['Voice' for elt in X_voice_train]\n",
    "y_plane_train = ['Plane' for elt in X_plane_train]\n",
    "y_both_train = ['Voice' for elt in X_both_train]\n",
    "\n",
    "y_voice_test = ['Voice' for elt in X_voice_test]\n",
    "y_plane_test = ['Plane' for elt in X_plane_test]\n",
    "y_both_test = ['Voice' for elt in X_both_test]\n",
    "\n",
    "\n",
    "Y = y_voice_train + y_plane_train + y_both_train + y_plane_test + y_both_test\n",
    "# encode class values as integers\n",
    "encoder = LabelEncoder()\n",
    "encoder.fit(Y)\n",
    "encoded_Y = encoder.transform(Y)\n",
    "# convert integers to dummy variables (i.e. one hot encoded)\n",
    "dummy_y = np_utils.to_categorical(encoded_Y)\n",
    "\n",
    "X_train = np.concatenate([X_voice_train,X_plane_train,X_both_train])\n",
    "X_test = np.concatenate([X_plane_test,X_both_test])\n",
    "\n",
    "y_train = dummy_y[:len(y_voice_train) + len(y_plane_train) + len(y_both_train)]\n",
    "y_test = dummy_y[len(y_voice_train) + len(y_plane_train) + len(y_both_train)::]\n",
    "\n",
    "\n",
    "\n",
    "\n",
    "y_train[0].shape\n",
    "\n"
   ]
  },
  {
   "cell_type": "code",
   "execution_count": 66,
   "metadata": {},
   "outputs": [
    {
     "data": {
      "text/plain": [
       "56221"
      ]
     },
     "execution_count": 66,
     "metadata": {},
     "output_type": "execute_result"
    }
   ],
   "source": [
    "len(y_test)"
   ]
  },
  {
   "cell_type": "code",
   "execution_count": 51,
   "metadata": {},
   "outputs": [],
   "source": [
    "for k in y_train:\n",
    "    if k.shape != (2,):\n",
    "        print(k)\n"
   ]
  },
  {
   "cell_type": "code",
   "execution_count": 67,
   "metadata": {},
   "outputs": [],
   "source": [
    "def model():\n",
    "    model = Sequential()\n",
    "    model.add(Dense(8, input_dim=1025, activation='relu'))\n",
    "    model.add(Dense(2, activation='softmax'))\n",
    "    model.compile(loss='categorical_crossentropy', optimizer='adam', metrics=['accuracy'])\n",
    "    return model"
   ]
  },
  {
   "cell_type": "code",
   "execution_count": 68,
   "metadata": {},
   "outputs": [
    {
     "name": "stdout",
     "output_type": "stream",
     "text": [
      "Epoch 1/100\n",
      "3140/3140 [==============================] - 3s 856us/step - loss: 0.3872 - accuracy: 0.8182\n",
      "Epoch 2/100\n",
      "3140/3140 [==============================] - 3s 862us/step - loss: 0.3272 - accuracy: 0.8462\n",
      "Epoch 3/100\n",
      "3140/3140 [==============================] - 3s 845us/step - loss: 0.3153 - accuracy: 0.8521\n",
      "Epoch 4/100\n",
      "3140/3140 [==============================] - 3s 846us/step - loss: 0.3100 - accuracy: 0.8542\n",
      "Epoch 5/100\n",
      "3140/3140 [==============================] - 3s 864us/step - loss: 0.3064 - accuracy: 0.8556\n",
      "Epoch 6/100\n",
      "3140/3140 [==============================] - 3s 856us/step - loss: 0.3039 - accuracy: 0.8573\n",
      "Epoch 7/100\n",
      "3140/3140 [==============================] - 3s 851us/step - loss: 0.3015 - accuracy: 0.8578\n",
      "Epoch 8/100\n",
      "3140/3140 [==============================] - 3s 872us/step - loss: 0.2993 - accuracy: 0.8590\n",
      "Epoch 9/100\n",
      "3140/3140 [==============================] - 3s 854us/step - loss: 0.2987 - accuracy: 0.8595\n",
      "Epoch 10/100\n",
      "3140/3140 [==============================] - 3s 850us/step - loss: 0.2972 - accuracy: 0.8600\n",
      "Epoch 11/100\n",
      "3140/3140 [==============================] - 3s 850us/step - loss: 0.2966 - accuracy: 0.8611\n",
      "Epoch 12/100\n",
      "3140/3140 [==============================] - 3s 844us/step - loss: 0.2948 - accuracy: 0.8608\n",
      "Epoch 13/100\n",
      "3140/3140 [==============================] - 3s 840us/step - loss: 0.2945 - accuracy: 0.8612\n",
      "Epoch 14/100\n",
      "3140/3140 [==============================] - 3s 888us/step - loss: 0.2937 - accuracy: 0.8623\n",
      "Epoch 15/100\n",
      "3140/3140 [==============================] - 3s 924us/step - loss: 0.2926 - accuracy: 0.8623\n",
      "Epoch 16/100\n",
      "3140/3140 [==============================] - 3s 985us/step - loss: 0.2923 - accuracy: 0.8632\n",
      "Epoch 17/100\n",
      "3140/3140 [==============================] - 3s 900us/step - loss: 0.2920 - accuracy: 0.8637\n",
      "Epoch 18/100\n",
      "3140/3140 [==============================] - 3s 927us/step - loss: 0.2909 - accuracy: 0.8640\n",
      "Epoch 19/100\n",
      "3140/3140 [==============================] - 3s 905us/step - loss: 0.2904 - accuracy: 0.8640\n",
      "Epoch 20/100\n",
      "3140/3140 [==============================] - 3s 898us/step - loss: 0.2900 - accuracy: 0.8640\n",
      "Epoch 21/100\n",
      "3140/3140 [==============================] - 3s 897us/step - loss: 0.2893 - accuracy: 0.8651\n",
      "Epoch 22/100\n",
      "3140/3140 [==============================] - 3s 880us/step - loss: 0.2891 - accuracy: 0.8646\n",
      "Epoch 23/100\n",
      "3140/3140 [==============================] - 3s 893us/step - loss: 0.2885 - accuracy: 0.8651\n",
      "Epoch 24/100\n",
      "3140/3140 [==============================] - 3s 883us/step - loss: 0.2878 - accuracy: 0.8655\n",
      "Epoch 25/100\n",
      "3140/3140 [==============================] - 3s 889us/step - loss: 0.2875 - accuracy: 0.8657\n",
      "Epoch 26/100\n",
      "3140/3140 [==============================] - 3s 857us/step - loss: 0.2874 - accuracy: 0.8657\n",
      "Epoch 27/100\n",
      "3140/3140 [==============================] - 3s 890us/step - loss: 0.2873 - accuracy: 0.8665\n",
      "Epoch 28/100\n",
      "3140/3140 [==============================] - 3s 886us/step - loss: 0.2867 - accuracy: 0.8666\n",
      "Epoch 29/100\n",
      "3140/3140 [==============================] - 3s 884us/step - loss: 0.2861 - accuracy: 0.8663\n",
      "Epoch 30/100\n",
      "3140/3140 [==============================] - 3s 879us/step - loss: 0.2856 - accuracy: 0.8665\n",
      "Epoch 31/100\n",
      "3140/3140 [==============================] - 3s 891us/step - loss: 0.2856 - accuracy: 0.8667\n",
      "Epoch 32/100\n",
      "3140/3140 [==============================] - 3s 870us/step - loss: 0.2850 - accuracy: 0.8673\n",
      "Epoch 33/100\n",
      "3140/3140 [==============================] - 3s 875us/step - loss: 0.2851 - accuracy: 0.8661\n",
      "Epoch 34/100\n",
      "3140/3140 [==============================] - 3s 887us/step - loss: 0.2848 - accuracy: 0.8670\n",
      "Epoch 35/100\n",
      "3140/3140 [==============================] - 3s 885us/step - loss: 0.2846 - accuracy: 0.8675\n",
      "Epoch 36/100\n",
      "3140/3140 [==============================] - 3s 858us/step - loss: 0.2843 - accuracy: 0.8680\n",
      "Epoch 37/100\n",
      "3140/3140 [==============================] - 3s 838us/step - loss: 0.2839 - accuracy: 0.8678\n",
      "Epoch 38/100\n",
      "3140/3140 [==============================] - 3s 817us/step - loss: 0.2837 - accuracy: 0.8685\n",
      "Epoch 39/100\n",
      "3140/3140 [==============================] - 3s 807us/step - loss: 0.2830 - accuracy: 0.8679\n",
      "Epoch 40/100\n",
      "3140/3140 [==============================] - 3s 804us/step - loss: 0.2828 - accuracy: 0.8686\n",
      "Epoch 41/100\n",
      "3140/3140 [==============================] - 3s 805us/step - loss: 0.2828 - accuracy: 0.8678\n",
      "Epoch 42/100\n",
      "3140/3140 [==============================] - 3s 806us/step - loss: 0.2826 - accuracy: 0.8687\n",
      "Epoch 43/100\n",
      "3140/3140 [==============================] - 3s 825us/step - loss: 0.2828 - accuracy: 0.8686\n",
      "Epoch 44/100\n",
      "3140/3140 [==============================] - 3s 808us/step - loss: 0.2820 - accuracy: 0.8686\n",
      "Epoch 45/100\n",
      "3140/3140 [==============================] - 3s 863us/step - loss: 0.2821 - accuracy: 0.8687\n",
      "Epoch 46/100\n",
      "3140/3140 [==============================] - 3s 838us/step - loss: 0.2821 - accuracy: 0.8697\n",
      "Epoch 47/100\n",
      "3140/3140 [==============================] - 3s 841us/step - loss: 0.2818 - accuracy: 0.8683\n",
      "Epoch 48/100\n",
      "3140/3140 [==============================] - 3s 841us/step - loss: 0.2814 - accuracy: 0.8690\n",
      "Epoch 49/100\n",
      "3140/3140 [==============================] - 3s 822us/step - loss: 0.2812 - accuracy: 0.8689\n",
      "Epoch 50/100\n",
      "3140/3140 [==============================] - 3s 812us/step - loss: 0.2811 - accuracy: 0.8694\n",
      "Epoch 51/100\n",
      "3140/3140 [==============================] - 3s 866us/step - loss: 0.2812 - accuracy: 0.8694\n",
      "Epoch 52/100\n",
      "3140/3140 [==============================] - 3s 949us/step - loss: 0.2802 - accuracy: 0.8700\n",
      "Epoch 53/100\n",
      "3140/3140 [==============================] - 3s 906us/step - loss: 0.2808 - accuracy: 0.8695\n",
      "Epoch 54/100\n",
      "3140/3140 [==============================] - 3s 859us/step - loss: 0.2805 - accuracy: 0.8698\n",
      "Epoch 55/100\n",
      "3140/3140 [==============================] - 3s 862us/step - loss: 0.2801 - accuracy: 0.8698\n",
      "Epoch 56/100\n",
      "3140/3140 [==============================] - 3s 848us/step - loss: 0.2800 - accuracy: 0.8705\n",
      "Epoch 57/100\n",
      "3140/3140 [==============================] - 3s 883us/step - loss: 0.2796 - accuracy: 0.8698\n",
      "Epoch 58/100\n",
      "3140/3140 [==============================] - 3s 889us/step - loss: 0.2797 - accuracy: 0.8699\n",
      "Epoch 59/100\n",
      "3140/3140 [==============================] - 3s 839us/step - loss: 0.2800 - accuracy: 0.8698\n",
      "Epoch 60/100\n",
      "3140/3140 [==============================] - 3s 836us/step - loss: 0.2797 - accuracy: 0.8704\n",
      "Epoch 61/100\n",
      "3140/3140 [==============================] - 3s 853us/step - loss: 0.2791 - accuracy: 0.8700\n",
      "Epoch 62/100\n",
      "3140/3140 [==============================] - 3s 834us/step - loss: 0.2790 - accuracy: 0.8705\n",
      "Epoch 63/100\n",
      "3140/3140 [==============================] - 3s 856us/step - loss: 0.2788 - accuracy: 0.8706\n",
      "Epoch 64/100\n",
      "3140/3140 [==============================] - 3s 857us/step - loss: 0.2788 - accuracy: 0.8710\n",
      "Epoch 65/100\n",
      "3140/3140 [==============================] - 3s 853us/step - loss: 0.2791 - accuracy: 0.8705\n",
      "Epoch 66/100\n",
      "3140/3140 [==============================] - 3s 874us/step - loss: 0.2785 - accuracy: 0.8712\n",
      "Epoch 67/100\n",
      "3140/3140 [==============================] - 3s 885us/step - loss: 0.2785 - accuracy: 0.8706\n",
      "Epoch 68/100\n",
      "3140/3140 [==============================] - 3s 844us/step - loss: 0.2783 - accuracy: 0.8712\n",
      "Epoch 69/100\n",
      "3140/3140 [==============================] - 3s 847us/step - loss: 0.2780 - accuracy: 0.8709\n",
      "Epoch 70/100\n",
      "3140/3140 [==============================] - 3s 848us/step - loss: 0.2785 - accuracy: 0.8710\n",
      "Epoch 71/100\n",
      "3140/3140 [==============================] - 3s 841us/step - loss: 0.2784 - accuracy: 0.8713\n",
      "Epoch 72/100\n",
      "3140/3140 [==============================] - 3s 845us/step - loss: 0.2776 - accuracy: 0.8713\n",
      "Epoch 73/100\n",
      "3140/3140 [==============================] - 3s 862us/step - loss: 0.2773 - accuracy: 0.8714\n",
      "Epoch 74/100\n",
      "3140/3140 [==============================] - 3s 839us/step - loss: 0.2779 - accuracy: 0.8709\n",
      "Epoch 75/100\n",
      "3140/3140 [==============================] - 3s 870us/step - loss: 0.2779 - accuracy: 0.8708\n",
      "Epoch 76/100\n",
      "3140/3140 [==============================] - 3s 884us/step - loss: 0.2772 - accuracy: 0.8717\n",
      "Epoch 77/100\n",
      "3140/3140 [==============================] - 3s 880us/step - loss: 0.2777 - accuracy: 0.8717\n",
      "Epoch 78/100\n"
     ]
    },
    {
     "name": "stdout",
     "output_type": "stream",
     "text": [
      "3140/3140 [==============================] - 3s 863us/step - loss: 0.2775 - accuracy: 0.8713\n",
      "Epoch 79/100\n",
      "3140/3140 [==============================] - 3s 875us/step - loss: 0.2769 - accuracy: 0.8714\n",
      "Epoch 80/100\n",
      "3140/3140 [==============================] - 3s 870us/step - loss: 0.2770 - accuracy: 0.8717\n",
      "Epoch 81/100\n",
      "3140/3140 [==============================] - 3s 869us/step - loss: 0.2773 - accuracy: 0.8721\n",
      "Epoch 82/100\n",
      "3140/3140 [==============================] - 3s 857us/step - loss: 0.2764 - accuracy: 0.8720\n",
      "Epoch 83/100\n",
      "3140/3140 [==============================] - 3s 828us/step - loss: 0.2764 - accuracy: 0.8719\n",
      "Epoch 84/100\n",
      "3140/3140 [==============================] - 3s 832us/step - loss: 0.2767 - accuracy: 0.8723\n",
      "Epoch 85/100\n",
      "3140/3140 [==============================] - 3s 841us/step - loss: 0.2762 - accuracy: 0.8720\n",
      "Epoch 86/100\n",
      "3140/3140 [==============================] - 3s 836us/step - loss: 0.2761 - accuracy: 0.8722\n",
      "Epoch 87/100\n",
      "3140/3140 [==============================] - 3s 849us/step - loss: 0.2761 - accuracy: 0.8720\n",
      "Epoch 88/100\n",
      "3140/3140 [==============================] - 3s 849us/step - loss: 0.2765 - accuracy: 0.8716\n",
      "Epoch 89/100\n",
      "3140/3140 [==============================] - 3s 844us/step - loss: 0.2760 - accuracy: 0.8721\n",
      "Epoch 90/100\n",
      "3140/3140 [==============================] - 3s 892us/step - loss: 0.2760 - accuracy: 0.8722\n",
      "Epoch 91/100\n",
      "3140/3140 [==============================] - 3s 844us/step - loss: 0.2758 - accuracy: 0.8722\n",
      "Epoch 92/100\n",
      "3140/3140 [==============================] - 3s 827us/step - loss: 0.2759 - accuracy: 0.8721\n",
      "Epoch 93/100\n",
      "3140/3140 [==============================] - 3s 861us/step - loss: 0.2754 - accuracy: 0.8723\n",
      "Epoch 94/100\n",
      "3140/3140 [==============================] - 3s 919us/step - loss: 0.2762 - accuracy: 0.8722\n",
      "Epoch 95/100\n",
      "3140/3140 [==============================] - 3s 850us/step - loss: 0.2753 - accuracy: 0.8728\n",
      "Epoch 96/100\n",
      "3140/3140 [==============================] - 3s 830us/step - loss: 0.2758 - accuracy: 0.8725\n",
      "Epoch 97/100\n",
      "3140/3140 [==============================] - 3s 831us/step - loss: 0.2756 - accuracy: 0.8721\n",
      "Epoch 98/100\n",
      "3140/3140 [==============================] - 3s 820us/step - loss: 0.2752 - accuracy: 0.8725\n",
      "Epoch 99/100\n",
      "3140/3140 [==============================] - 3s 822us/step - loss: 0.2752 - accuracy: 0.8723\n",
      "Epoch 100/100\n",
      "3140/3140 [==============================] - 3s 811us/step - loss: 0.2751 - accuracy: 0.8729\n"
     ]
    },
    {
     "data": {
      "text/plain": [
       "<keras.callbacks.History at 0x1c3b6741670>"
      ]
     },
     "execution_count": 68,
     "metadata": {},
     "output_type": "execute_result"
    }
   ],
   "source": [
    "model = model()\n",
    "model.fit(X_train, y_train, epochs=100, batch_size=64)"
   ]
  },
  {
   "cell_type": "code",
   "execution_count": 69,
   "metadata": {},
   "outputs": [
    {
     "name": "stdout",
     "output_type": "stream",
     "text": [
      "1757/1757 [==============================] - 1s 531us/step\n"
     ]
    }
   ],
   "source": [
    "y_pred = model.predict(X_test)\n",
    "y_pred_aux = []\n",
    "for k in y_pred:\n",
    "    if k[0]>k[1]:\n",
    "        y_pred_aux.append([1,0])\n",
    "    else:\n",
    "        y_pred_aux.append([0,1])"
   ]
  },
  {
   "cell_type": "code",
   "execution_count": 70,
   "metadata": {},
   "outputs": [
    {
     "data": {
      "text/plain": [
       "(array([0.8360205 , 0.16397953], dtype=float32),\n",
       " array([1., 0.], dtype=float32))"
      ]
     },
     "execution_count": 70,
     "metadata": {},
     "output_type": "execute_result"
    }
   ],
   "source": [
    "y_pred[0],y_test[0]"
   ]
  },
  {
   "cell_type": "code",
   "execution_count": 71,
   "metadata": {},
   "outputs": [
    {
     "name": "stdout",
     "output_type": "stream",
     "text": [
      "Accuracy is: 74.18402376336245\n"
     ]
    }
   ],
   "source": [
    "from sklearn.metrics import accuracy_score\n",
    "a = accuracy_score(y_pred_aux,y_test)\n",
    "print('Accuracy is:', a*100)"
   ]
  },
  {
   "cell_type": "code",
   "execution_count": null,
   "metadata": {},
   "outputs": [],
   "source": [
    "def has_voice2(x,hop,duration_sec_threshold,error_threshold):\n",
    "    ratio = np.count_nonzero(x=='Voice')/len(x)\n",
    "    duration_discrete_threshold = round(duration_sec_threshold * 22050 / hop)\n",
    "    binary_pred = [0 if elt=='Plane' else 1 for elt in x]\n",
    "    df_x = pd.DataFrame(binary_pred)\n",
    "    df_sum = df_x.rolling(duration_discrete_threshold).mean()\n",
    "    x_plot = [elt*hop/22050 for elt in range(len(x))] #x en seconds\n",
    "    # plt.plot(x_plot,df_sum[0])\n",
    "    # plt.show()\n",
    "    return len(df_sum[df_sum[0]>error_threshold])>0"
   ]
  },
  {
   "cell_type": "code",
   "execution_count": 72,
   "metadata": {},
   "outputs": [],
   "source": [
    "def has_voice_vote(y,hop,duration_sec_threshold):\n",
    "    duration_discrete_threshold = round(duration_sec_threshold * 22050 / hop)\n",
    "    votes = []\n",
    "    for i in range(len(y)-duration_discrete_threshold):\n",
    "        #window = y[i:i+duration_discrete_threshold]\n",
    "        vote_window = 0\n",
    "        for k in range(i,i+duration_discrete_threshold):\n",
    "            confiance = y[i][0]-y[i][1]\n",
    "            vote_window += confiance\n",
    "        votes.append(vote_window/duration_discrete_threshold)\n",
    "    return votes\n",
    "    \n",
    "                "
   ]
  },
  {
   "cell_type": "markdown",
   "metadata": {},
   "source": [
    "PARTIE MODELE"
   ]
  },
  {
   "cell_type": "code",
   "execution_count": 39,
   "metadata": {},
   "outputs": [
    {
     "data": {
      "text/html": [
       "<style>#sk-container-id-1 {color: black;background-color: white;}#sk-container-id-1 pre{padding: 0;}#sk-container-id-1 div.sk-toggleable {background-color: white;}#sk-container-id-1 label.sk-toggleable__label {cursor: pointer;display: block;width: 100%;margin-bottom: 0;padding: 0.3em;box-sizing: border-box;text-align: center;}#sk-container-id-1 label.sk-toggleable__label-arrow:before {content: \"▸\";float: left;margin-right: 0.25em;color: #696969;}#sk-container-id-1 label.sk-toggleable__label-arrow:hover:before {color: black;}#sk-container-id-1 div.sk-estimator:hover label.sk-toggleable__label-arrow:before {color: black;}#sk-container-id-1 div.sk-toggleable__content {max-height: 0;max-width: 0;overflow: hidden;text-align: left;background-color: #f0f8ff;}#sk-container-id-1 div.sk-toggleable__content pre {margin: 0.2em;color: black;border-radius: 0.25em;background-color: #f0f8ff;}#sk-container-id-1 input.sk-toggleable__control:checked~div.sk-toggleable__content {max-height: 200px;max-width: 100%;overflow: auto;}#sk-container-id-1 input.sk-toggleable__control:checked~label.sk-toggleable__label-arrow:before {content: \"▾\";}#sk-container-id-1 div.sk-estimator input.sk-toggleable__control:checked~label.sk-toggleable__label {background-color: #d4ebff;}#sk-container-id-1 div.sk-label input.sk-toggleable__control:checked~label.sk-toggleable__label {background-color: #d4ebff;}#sk-container-id-1 input.sk-hidden--visually {border: 0;clip: rect(1px 1px 1px 1px);clip: rect(1px, 1px, 1px, 1px);height: 1px;margin: -1px;overflow: hidden;padding: 0;position: absolute;width: 1px;}#sk-container-id-1 div.sk-estimator {font-family: monospace;background-color: #f0f8ff;border: 1px dotted black;border-radius: 0.25em;box-sizing: border-box;margin-bottom: 0.5em;}#sk-container-id-1 div.sk-estimator:hover {background-color: #d4ebff;}#sk-container-id-1 div.sk-parallel-item::after {content: \"\";width: 100%;border-bottom: 1px solid gray;flex-grow: 1;}#sk-container-id-1 div.sk-label:hover label.sk-toggleable__label {background-color: #d4ebff;}#sk-container-id-1 div.sk-serial::before {content: \"\";position: absolute;border-left: 1px solid gray;box-sizing: border-box;top: 0;bottom: 0;left: 50%;z-index: 0;}#sk-container-id-1 div.sk-serial {display: flex;flex-direction: column;align-items: center;background-color: white;padding-right: 0.2em;padding-left: 0.2em;position: relative;}#sk-container-id-1 div.sk-item {position: relative;z-index: 1;}#sk-container-id-1 div.sk-parallel {display: flex;align-items: stretch;justify-content: center;background-color: white;position: relative;}#sk-container-id-1 div.sk-item::before, #sk-container-id-1 div.sk-parallel-item::before {content: \"\";position: absolute;border-left: 1px solid gray;box-sizing: border-box;top: 0;bottom: 0;left: 50%;z-index: -1;}#sk-container-id-1 div.sk-parallel-item {display: flex;flex-direction: column;z-index: 1;position: relative;background-color: white;}#sk-container-id-1 div.sk-parallel-item:first-child::after {align-self: flex-end;width: 50%;}#sk-container-id-1 div.sk-parallel-item:last-child::after {align-self: flex-start;width: 50%;}#sk-container-id-1 div.sk-parallel-item:only-child::after {width: 0;}#sk-container-id-1 div.sk-dashed-wrapped {border: 1px dashed gray;margin: 0 0.4em 0.5em 0.4em;box-sizing: border-box;padding-bottom: 0.4em;background-color: white;}#sk-container-id-1 div.sk-label label {font-family: monospace;font-weight: bold;display: inline-block;line-height: 1.2em;}#sk-container-id-1 div.sk-label-container {text-align: center;}#sk-container-id-1 div.sk-container {/* jupyter's `normalize.less` sets `[hidden] { display: none; }` but bootstrap.min.css set `[hidden] { display: none !important; }` so we also need the `!important` here to be able to override the default hidden behavior on the sphinx rendered scikit-learn.org. See: https://github.com/scikit-learn/scikit-learn/issues/21755 */display: inline-block !important;position: relative;}#sk-container-id-1 div.sk-text-repr-fallback {display: none;}</style><div id=\"sk-container-id-1\" class=\"sk-top-container\"><div class=\"sk-text-repr-fallback\"><pre>RandomForestClassifier(n_jobs=-1)</pre><b>In a Jupyter environment, please rerun this cell to show the HTML representation or trust the notebook. <br />On GitHub, the HTML representation is unable to render, please try loading this page with nbviewer.org.</b></div><div class=\"sk-container\" hidden><div class=\"sk-item\"><div class=\"sk-estimator sk-toggleable\"><input class=\"sk-toggleable__control sk-hidden--visually\" id=\"sk-estimator-id-1\" type=\"checkbox\" checked><label for=\"sk-estimator-id-1\" class=\"sk-toggleable__label sk-toggleable__label-arrow\">RandomForestClassifier</label><div class=\"sk-toggleable__content\"><pre>RandomForestClassifier(n_jobs=-1)</pre></div></div></div></div></div>"
      ],
      "text/plain": [
       "RandomForestClassifier(n_jobs=-1)"
      ]
     },
     "execution_count": 39,
     "metadata": {},
     "output_type": "execute_result"
    }
   ],
   "source": [
    "# pca = PCA(0.99).fit(X_train)\n",
    "# X_train = pca.transform(X_train)\n",
    "# X_test = pca.transform(X_test)\n",
    "rf = RandomForestClassifier(n_jobs=-1)\n",
    "rf.fit(X_train,y_train)"
   ]
  },
  {
   "cell_type": "code",
   "execution_count": 40,
   "metadata": {},
   "outputs": [
    {
     "data": {
      "text/plain": [
       "0.4558223833257816"
      ]
     },
     "execution_count": 40,
     "metadata": {},
     "output_type": "execute_result"
    }
   ],
   "source": [
    "from sklearn.metrics import accuracy_score\n",
    "\n",
    "pred = rf.predict(X_test)\n",
    "accuracy_score(pred,y_test)"
   ]
  },
  {
   "cell_type": "code",
   "execution_count": 145,
   "metadata": {},
   "outputs": [
    {
     "data": {
      "image/png": "[encoded data removed]",
      "text/plain": [
       "<Figure size 600x400 with 2 Axes>"
      ]
     },
     "metadata": {},
     "output_type": "display_data"
    }
   ],
   "source": [
    "\n",
    "\n",
    "pred = rf.predict(X_test)\n",
    "matrix = confusion_matrix(pred,y_test)\n",
    "matrix = matrix.astype('float') / matrix.sum(axis=1)[:, np.newaxis]\n",
    "\n",
    "# Build the plot\n",
    "plt.figure(figsize=(6,4))\n",
    "sns.set(font_scale=1)\n",
    "sns.heatmap(matrix, annot=True, annot_kws={'size':20},\n",
    "            cmap=plt.cm.Greens, linewidths=0.2)\n",
    "\n",
    "# Add labels to the plot\n",
    "class_names = ['Plane','Voice']\n",
    "tick_marks = np.arange(len(class_names))\n",
    "tick_marks2 = tick_marks + 0.5\n",
    "plt.xticks(tick_marks, class_names, rotation=25)\n",
    "plt.yticks(tick_marks2, class_names, rotation=0)\n",
    "plt.xlabel('Predicted label')\n",
    "plt.ylabel('True label')\n",
    "plt.title('Confusion Matrix for Random Forest Model')\n",
    "plt.show()"
   ]
  },
  {
   "cell_type": "markdown",
   "metadata": {},
   "source": [
    "TEST DE LA RF SAUVEGARDEE"
   ]
  },
  {
   "cell_type": "code",
   "execution_count": 71,
   "metadata": {},
   "outputs": [],
   "source": [
    "import joblib \n",
    "\n",
    "rf = joblib.load(\"random_forest.joblib\")\n",
    "# joblib.dump(rf, \"random_forest.joblib\")\n"
   ]
  },
  {
   "cell_type": "code",
   "execution_count": 78,
   "metadata": {},
   "outputs": [
    {
     "data": {
      "image/png": "[encoded data removed]",
      "text/plain": [
       "<Figure size 600x400 with 2 Axes>"
      ]
     },
     "metadata": {},
     "output_type": "display_data"
    }
   ],
   "source": [
    "from sklearn.metrics import confusion_matrix,accuracy_score\n",
    "\n",
    "import matplotlib.pyplot as plt\n",
    "import seaborn as sns\n",
    "\n",
    "\n",
    "pred = rf.predict(X_test)\n",
    "matrix = confusion_matrix(pred,y_test)\n",
    "# pred = rf.predict(X_test)\n",
    "# matrix = confusion_matrix(pred,y_test)\n",
    "matrix = matrix.astype('float') / matrix.sum(axis=1)[:, np.newaxis]\n",
    "\n",
    "# Build the plot\n",
    "plt.figure(figsize=(6,4))\n",
    "sns.set(font_scale=1)\n",
    "sns.heatmap(matrix, annot=True, annot_kws={'size':20},\n",
    "            cmap=plt.cm.Greens, linewidths=0.2)\n",
    "\n",
    "# Add labels to the plot\n",
    "class_names = rf.classes_\n",
    "tick_marks = np.arange(len(class_names))\n",
    "tick_marks2 = tick_marks + 0.5\n",
    "plt.xticks(tick_marks, class_names, rotation=25)\n",
    "plt.yticks(tick_marks2, class_names, rotation=0)\n",
    "plt.xlabel('Predicted label')\n",
    "plt.ylabel('True label')\n",
    "plt.title('Confusion Matrix for Random Forest Model')\n",
    "plt.show()"
   ]
  },
  {
   "cell_type": "code",
   "execution_count": 179,
   "metadata": {},
   "outputs": [],
   "source": [
    "def has_voice(x,hop,duration_sec_threshold,error_threshold):\n",
    "    ratio = np.count_nonzero(x=='Voice')/len(x)\n",
    "    duration_discrete_threshold = duration_sec_threshold * 22050 / hop\n",
    "    if len(x) >duration_discrete_threshold and ratio > error_threshold:\n",
    "        print('Durée de la voix: ',len(x)*hop/22050,'seconds')\n",
    "        return True\n",
    "    elif len(x)<duration_discrete_threshold:\n",
    "        return False\n",
    "    else:\n",
    "        half = len(x)//2\n",
    "        return has_voice(x[:half],hop,duration_sec_threshold,error_threshold) or has_voice(x[half:],hop,duration_sec_threshold,error_threshold)\n",
    "\n",
    "def has_voice2(x,hop,duration_sec_threshold,error_threshold):\n",
    "    ratio = np.count_nonzero(x=='Voice')/len(x)\n",
    "    duration_discrete_threshold = round(duration_sec_threshold * 22050 / hop)\n",
    "    binary_pred = [0 if elt=='Plane' else 1 for elt in x]\n",
    "    df_x = pd.DataFrame(binary_pred)\n",
    "    df_sum = df_x.rolling(duration_discrete_threshold).mean()\n",
    "    x_plot = [elt*hop/22050 for elt in range(len(x))] #x en seconds\n",
    "    # plt.plot(x_plot,df_sum[0])\n",
    "    # plt.show()\n",
    "    return len(df_sum[df_sum[0]>error_threshold])>0\n",
    "\n",
    "def gen_valid_test(db_folder_path,n_records):\n",
    "\n",
    "    l_records = os.listdir(db_folder_path)\n",
    "    sub_l_records = rd.sample(l_records,n_records)\n",
    "    sample = rd.sample(sub_l_records,n_records)\n",
    "    sp_valid = []\n",
    "    hops_valid = []\n",
    "    for i in range(n_records):\n",
    "        print('Building validation set {}/{}'.format(i,n_records),end='\\r')\n",
    "        signal,sample_rate = librosa.load(db_folder_path + sample[i])\n",
    "        spectrum = librosa.stft(y=signal,center=False) \n",
    "        spectrum = spectrum.astype(float)\n",
    "        # fig = librosa.display.specshow(spectrum, sr=sample_rate, x_axis='time', y_axis='log')\n",
    "        # plt.colorbar(format='%+2.0f dB')\n",
    "        # plt.title('Spectrogram')\n",
    "        # plt.plot()\n",
    "        # plt.show()\n",
    "        good_shape_spectrum = np.abs(np.transpose(spectrum))\n",
    "        sp_valid.append(good_shape_spectrum)\n",
    "        hops_valid.append(len(signal)//len(good_shape_spectrum))\n",
    "\n",
    "    return sp_valid,hops_valid\n",
    "\n",
    "def valid_model(model,duration_threshold,error_threshold,n_records):\n",
    "    plane_valid,hops_plane = gen_valid_test(path_to_db_plane,n_records)\n",
    "    both_valid,hops_both = gen_valid_test(path_to_db_both,n_records)\n",
    "\n",
    "    target_plane = [False for elt in plane_valid]\n",
    "    target_both = [True for elt in both_valid]\n",
    "    \n",
    "    records_valid = plane_valid + both_valid\n",
    "    target_valid =  target_plane + target_both\n",
    "    hops_valid = hops_plane + hops_both\n",
    "\n",
    "    # records_valid = both_valid\n",
    "    # target_valid =  target_both\n",
    "    # hops_valid = hops_both\n",
    "\n",
    "    # records_valid = plane_valid\n",
    "    # target_valid =  target_plane\n",
    "    # hops_valid = hops_plane\n",
    "\n",
    "    # print(hops_valid)\n",
    "\n",
    "    prediction_for_records = []\n",
    "    for i  in range(len(records_valid)):\n",
    "        pred = model.predict(records_valid[i])\n",
    "        prediction_for_records.append(has_voice2(pred,hops_valid[i],duration_threshold,error_threshold))\n",
    "\n",
    "    return accuracy_score(target_valid,prediction_for_records)"
   ]
  },
  {
   "cell_type": "code",
   "execution_count": null,
   "metadata": {},
   "outputs": [],
   "source": [
    "valid_model(rf,2,0.63,4)"
   ]
  },
  {
   "cell_type": "code",
   "execution_count": 185,
   "metadata": {},
   "outputs": [],
   "source": [
    "def hyper_tune_valid(model,n_records,n_iter):\n",
    "    \n",
    "    dur_range = np.linspace(1,5,6)\n",
    "    thresh_range = np.linspace(0.5,1,20)\n",
    "\n",
    "    best_dur,best_thresh,best_valid = 0,0,0\n",
    "\n",
    "    for i in range(n_iter):\n",
    "        \n",
    "        if best_valid ==1:\n",
    "            return best_dur,best_thresh,best_valid\n",
    "\n",
    "        dur = rd.choice(dur_range)\n",
    "        thresh = rd.choice(thresh_range)\n",
    "        val = valid_model(model,dur,thresh,n_records)\n",
    "\n",
    "        if val > best_valid:\n",
    "            best_valid = val\n",
    "            best_dur = dur\n",
    "            best_thresh = thresh\n",
    "\n",
    "    return best_dur,best_thresh,best_valid\n",
    "\n"
   ]
  },
  {
   "cell_type": "code",
   "execution_count": 186,
   "metadata": {},
   "outputs": [
    {
     "name": "stdout",
     "output_type": "stream",
     "text": [
      "Building validation set 9/10\r"
     ]
    },
    {
     "data": {
      "text/plain": [
       "(1.8, 0.7894736842105263, 0.95)"
      ]
     },
     "execution_count": 186,
     "metadata": {},
     "output_type": "execute_result"
    }
   ],
   "source": [
    "hyper_tune_valid(rf,10,70)"
   ]
  }
 ],
 "metadata": {
  "kernelspec": {
   "display_name": "Python 3 (ipykernel)",
   "language": "python",
   "name": "python3"
  },
  "language_info": {
   "codemirror_mode": {
    "name": "ipython",
    "version": 3
   },
   "file_extension": ".py",
   "mimetype": "text/x-python",
   "name": "python",
   "nbconvert_exporter": "python",
   "pygments_lexer": "ipython3",
   "version": "3.9.7"
  },
  "vscode": {
   "interpreter": {
    "hash": "f07a9cec850f9104fc95ea0494484df5ee5d9a14128a89aec6d609f0f574ea61"
   }
  }
 },
 "nbformat": 4,
 "nbformat_minor": 2
}
