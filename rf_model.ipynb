{
 "cells": [
  {
   "cell_type": "code",
   "execution_count": 1,
   "metadata": {},
   "outputs": [],
   "source": [
    "import librosa\n",
    "import librosa.display\n",
    "import os\n",
    "import pandas as pd\n",
    "import numpy as np\n",
    "from time import time \n",
    "import random as rd\n",
    "import matplotlib.pyplot as plt\n",
    "from sklearn.preprocessing import StandardScaler\n",
    "from sklearn.decomposition import PCA\n",
    "import numpy as np\n",
    "import threading\n",
    "from sklearn.metrics import confusion_matrix,accuracy_score\n",
    "\n",
    "import matplotlib.pyplot as plt\n",
    "import seaborn as sns\n",
    "\n",
    "import warnings\n",
    "warnings.filterwarnings(\"ignore\")\n",
    "\n",
    "path_to_db_voice = \"C:\\\\Users\\\\antoi\\Desktop\\\\Airbus\\\\projet_AIRBUS\\\\db\\\\voice\\\\\"\n",
    "path_to_db_plane = \"C:\\\\Users\\\\antoi\\Desktop\\\\Airbus\\\\projet_AIRBUS\\\\db\\\\plane\\\\\"\n",
    "path_to_db_both = \"C:\\\\Users\\\\antoi\\Desktop\\\\Airbus\\\\projet_AIRBUS\\\\db\\\\both\\\\\"\n",
    "\n",
    "l_voice_records = os.listdir(path_to_db_voice)\n",
    "l_airplane_records = os.listdir(path_to_db_plane)\n",
    "l_both_records = os.listdir(path_to_db_both)"
   ]
  },
  {
   "cell_type": "code",
   "execution_count": 2,
   "metadata": {},
   "outputs": [],
   "source": [
    "def separe_train_test(db_folder_path,n_records,test_size):\n",
    "    l_records = os.listdir(db_folder_path)\n",
    "    sub_l_records = rd.sample(l_records,n_records)\n",
    "    size = len(sub_l_records)\n",
    "    sep = round(test_size*size)\n",
    "    sample = rd.sample(sub_l_records,size)\n",
    "    test = sample[:sep]\n",
    "    train = sample[sep:]\n",
    "    return train,test"
   ]
  },
  {
   "cell_type": "code",
   "execution_count": 3,
   "metadata": {},
   "outputs": [],
   "source": [
    "def gen_X_train_test(db_folder_path,n_records,test_size):\n",
    "    sp_rec_train = []\n",
    "    sp_rec_test = []\n",
    "    hops_train = []\n",
    "    hops_test = []\n",
    "    records_train,records_test = separe_train_test(db_folder_path,n_records,test_size)\n",
    "    i = 0\n",
    "    for record in records_train:\n",
    "        print('Building train {}/{}'.format(i,len(records_train)),end='\\r')\n",
    "        signal,sample_rate = librosa.load(db_folder_path + record)\n",
    "        spectrum = librosa.stft(y=signal,center=False) \n",
    "        spectrum = spectrum.astype(float)\n",
    "        sp_rec_train.append(np.abs(np.transpose(spectrum)))\n",
    "        hops_train.append(len(signal)//len(spectrum))\n",
    "        i+=1\n",
    "\n",
    "        # plt.hist(np.unique(spectrum),bins=200)\n",
    "        # plt.yscale('log')\n",
    "        # fig = librosa.display.specshow(spectrum, sr=sample_rate, x_axis='time', y_axis='log')\n",
    "        # plt.colorbar(format='%+2.0f dB')\n",
    "        # plt.title('Spectrogram')\n",
    "        # plt.plot()\n",
    "        # plt.show()\n",
    "    i=0\n",
    "    for record in records_test: \n",
    "        print('Building  test {}/{}'.format(i,len(records_test)),end='\\r')\n",
    "        signal,sample_rate = librosa.load(db_folder_path + record)\n",
    "        spectrum = librosa.stft(y=signal,center=False) \n",
    "        spectrum = spectrum.astype(float)\n",
    "        sp_rec_test.append(np.abs(np.transpose(spectrum)))\n",
    "        hops_test.append(len(signal)//len(spectrum))\n",
    "        i+=1\n",
    "\n",
    "    X_train = np.concatenate(sp_rec_train)\n",
    "    X_test = np.concatenate(sp_rec_test)\n",
    "\n",
    "    return X_train,X_test,hops_train,hops_test"
   ]
  },
  {
   "cell_type": "code",
   "execution_count": 4,
   "metadata": {},
   "outputs": [
    {
     "name": "stdout",
     "output_type": "stream",
     "text": [
      "Both done test 52/5325\r"
     ]
    }
   ],
   "source": [
    "\n",
    "\n",
    "\n",
    "n_records = 178\n",
    "\n",
    "X_voice_train,X_voice_test,hops_voice_train,hops_voice_test= gen_X_train_test(path_to_db_voice,n_records,0.3)\n",
    "print('Voice done',end='\\r')\n",
    "X_plane_train,X_plane_test,hops_plane_train,hops_plane_test = gen_X_train_test(path_to_db_plane,n_records,0.3)\n",
    "print('Plane done',end='\\r')\n",
    "X_both_train,X_both_test,hops_both_train,hops_both_test = gen_X_train_test(path_to_db_both,n_records,0.3)\n",
    "print('Both done',end='\\r')"
   ]
  },
  {
   "cell_type": "code",
   "execution_count": 5,
   "metadata": {},
   "outputs": [
    {
     "data": {
      "text/plain": [
       "[279,\n",
       " 157,\n",
       " 222,\n",
       " 346,\n",
       " 278,\n",
       " 262,\n",
       " 241,\n",
       " 304,\n",
       " 323,\n",
       " 331,\n",
       " 324,\n",
       " 142,\n",
       " 330,\n",
       " 340,\n",
       " 319,\n",
       " 305,\n",
       " 331,\n",
       " 306,\n",
       " 267,\n",
       " 344,\n",
       " 313,\n",
       " 243,\n",
       " 58,\n",
       " 217,\n",
       " 333,\n",
       " 317,\n",
       " 346,\n",
       " 286,\n",
       " 315,\n",
       " 189,\n",
       " 270,\n",
       " 333,\n",
       " 308,\n",
       " 281,\n",
       " 339,\n",
       " 312,\n",
       " 319,\n",
       " 329,\n",
       " 333,\n",
       " 292,\n",
       " 313,\n",
       " 162,\n",
       " 342,\n",
       " 260,\n",
       " 262,\n",
       " 336,\n",
       " 325,\n",
       " 302,\n",
       " 256,\n",
       " 134,\n",
       " 295,\n",
       " 297,\n",
       " 59,\n",
       " 292,\n",
       " 251,\n",
       " 85,\n",
       " 316,\n",
       " 300,\n",
       " 280,\n",
       " 299,\n",
       " 313,\n",
       " 201,\n",
       " 126,\n",
       " 58,\n",
       " 324,\n",
       " 334,\n",
       " 277,\n",
       " 247,\n",
       " 143,\n",
       " 309,\n",
       " 331,\n",
       " 317,\n",
       " 113,\n",
       " 332,\n",
       " 342,\n",
       " 324,\n",
       " 307,\n",
       " 275,\n",
       " 136,\n",
       " 311,\n",
       " 297,\n",
       " 303,\n",
       " 315,\n",
       " 170,\n",
       " 232,\n",
       " 334,\n",
       " 277,\n",
       " 330,\n",
       " 129,\n",
       " 150,\n",
       " 339,\n",
       " 263,\n",
       " 97,\n",
       " 289,\n",
       " 223,\n",
       " 148,\n",
       " 320,\n",
       " 327,\n",
       " 212,\n",
       " 321,\n",
       " 310,\n",
       " 133,\n",
       " 326,\n",
       " 322,\n",
       " 297,\n",
       " 338,\n",
       " 43,\n",
       " 230,\n",
       " 328,\n",
       " 122,\n",
       " 321,\n",
       " 210,\n",
       " 338,\n",
       " 327,\n",
       " 327,\n",
       " 297,\n",
       " 312,\n",
       " 250,\n",
       " 194,\n",
       " 327,\n",
       " 316,\n",
       " 314,\n",
       " 276,\n",
       " 303,\n",
       " 339]"
      ]
     },
     "execution_count": 5,
     "metadata": {},
     "output_type": "execute_result"
    }
   ],
   "source": [
    "hops_voice_train"
   ]
  },
  {
   "cell_type": "code",
   "execution_count": 6,
   "metadata": {},
   "outputs": [
    {
     "name": "stdout",
     "output_type": "stream",
     "text": [
      "202433\n",
      "1025\n"
     ]
    }
   ],
   "source": [
    "print(len(X_voice_train) + len(X_plane_train) + len(X_both_train))\n",
    "print(len(X_plane_train[0]))"
   ]
  },
  {
   "cell_type": "code",
   "execution_count": 7,
   "metadata": {},
   "outputs": [
    {
     "data": {
      "text/plain": [
       "(2,)"
      ]
     },
     "execution_count": 7,
     "metadata": {},
     "output_type": "execute_result"
    }
   ],
   "source": [
    "from sklearn.ensemble import RandomForestClassifier\n",
    "from sklearn.model_selection import train_test_split\n",
    "\n",
    "threshold = 10\n",
    "\n",
    "\n",
    "import pandas\n",
    "from keras.models import Sequential\n",
    "from keras.layers import Dense\n",
    "from keras.layers import Dropout\n",
    "from keras.wrappers.scikit_learn import KerasClassifier\n",
    "from keras.utils import np_utils\n",
    "from sklearn.model_selection import cross_val_score\n",
    "from sklearn.model_selection import KFold\n",
    "from sklearn.preprocessing import LabelEncoder\n",
    "from sklearn.pipeline import Pipeline\n",
    "\n",
    "y_voice_train = ['Voice' for elt in X_voice_train]\n",
    "y_plane_train = ['Plane' for elt in X_plane_train]\n",
    "y_both_train = ['Voice' for elt in X_both_train]\n",
    "\n",
    "y_voice_test = ['Voice' for elt in X_voice_test]\n",
    "y_plane_test = ['Plane' for elt in X_plane_test]\n",
    "y_both_test = ['Voice' for elt in X_both_test]\n",
    "\n",
    "\n",
    "Y = y_voice_train + y_plane_train + y_both_train + y_plane_test + y_both_test\n",
    "# encode class values as integers\n",
    "encoder = LabelEncoder()\n",
    "encoder.fit(Y)\n",
    "encoded_Y = encoder.transform(Y)\n",
    "# convert integers to dummy variables (i.e. one hot encoded)\n",
    "dummy_y = np_utils.to_categorical(encoded_Y)\n",
    "\n",
    "X_train = np.concatenate([X_voice_train,X_plane_train,X_both_train])\n",
    "X_test = np.concatenate([X_plane_test,X_both_test])\n",
    "\n",
    "y_train = dummy_y[:len(y_voice_train) + len(y_plane_train) + len(y_both_train)]\n",
    "y_test = dummy_y[len(y_voice_train) + len(y_plane_train) + len(y_both_train)::]\n",
    "\n",
    "\n",
    "\n",
    "\n",
    "y_train[0].shape\n",
    "\n"
   ]
  },
  {
   "cell_type": "code",
   "execution_count": 21,
   "metadata": {},
   "outputs": [
    {
     "name": "stdout",
     "output_type": "stream",
     "text": [
      "[[1. 0.]\n",
      " [1. 0.]\n",
      " [1. 0.]\n",
      " ...\n",
      " [0. 1.]\n",
      " [0. 1.]\n",
      " [0. 1.]]\n"
     ]
    }
   ],
   "source": [
    "print(y_test)\n"
   ]
  },
  {
   "cell_type": "code",
   "execution_count": 66,
   "metadata": {},
   "outputs": [
    {
     "data": {
      "text/plain": [
       "56221"
      ]
     },
     "execution_count": 66,
     "metadata": {},
     "output_type": "execute_result"
    }
   ],
   "source": [
    "len(y_test)"
   ]
  },
  {
   "cell_type": "code",
   "execution_count": 51,
   "metadata": {},
   "outputs": [],
   "source": [
    "for k in y_train:\n",
    "    if k.shape != (2,):\n",
    "        print(k)\n"
   ]
  },
  {
   "cell_type": "code",
   "execution_count": 21,
   "metadata": {},
   "outputs": [
    {
     "name": "stdout",
     "output_type": "stream",
     "text": [
      "Num GPUs Available:  0\n"
     ]
    }
   ],
   "source": [
    "import tensorflow as tf\n",
    "print(\"Num GPUs Available: \", len(tf.config.list_physical_devices('GPU')))"
   ]
  },
  {
   "cell_type": "code",
   "execution_count": 22,
   "metadata": {},
   "outputs": [],
   "source": [
    "def model():\n",
    "    model = Sequential()\n",
    "    model.add(Dense(1025, activation='relu'))\n",
    "    model.add(Dense(512, input_dim=1025, activation = 'sigmoid'))\n",
    "    model.add(Dropout(0.3))\n",
    "    model.add(Dense(150, input_dim=512, activation = 'sigmoid'))\n",
    "    model.add(Dense(2, activation='softmax'))\n",
    "    model.compile(loss='categorical_crossentropy', optimizer='adam', metrics=['accuracy'])\n",
    "    return model"
   ]
  },
  {
   "cell_type": "code",
   "execution_count": 23,
   "metadata": {},
   "outputs": [
    {
     "name": "stdout",
     "output_type": "stream",
     "text": [
      "Epoch 1/100\n",
      "3164/3164 [==============================] - 30s 9ms/step - loss: 0.3084 - accuracy: 0.8508\n",
      "Epoch 2/100\n",
      "3164/3164 [==============================] - 29s 9ms/step - loss: 0.2694 - accuracy: 0.8732\n",
      "Epoch 3/100\n",
      "3164/3164 [==============================] - 30s 9ms/step - loss: 0.2556 - accuracy: 0.8801\n",
      "Epoch 4/100\n",
      "3164/3164 [==============================] - 30s 9ms/step - loss: 0.2455 - accuracy: 0.8862\n",
      "Epoch 5/100\n",
      "3164/3164 [==============================] - 30s 9ms/step - loss: 0.2378 - accuracy: 0.8902\n",
      "Epoch 6/100\n",
      "3164/3164 [==============================] - 30s 9ms/step - loss: 0.2313 - accuracy: 0.8938\n",
      "Epoch 7/100\n",
      "3164/3164 [==============================] - 30s 9ms/step - loss: 0.2252 - accuracy: 0.8970\n",
      "Epoch 8/100\n",
      "3164/3164 [==============================] - 30s 9ms/step - loss: 0.2196 - accuracy: 0.8998\n",
      "Epoch 9/100\n",
      "3164/3164 [==============================] - 29s 9ms/step - loss: 0.2139 - accuracy: 0.9027\n",
      "Epoch 10/100\n",
      "3164/3164 [==============================] - 29s 9ms/step - loss: 0.2089 - accuracy: 0.9052\n",
      "Epoch 11/100\n",
      "3164/3164 [==============================] - 30s 9ms/step - loss: 0.2039 - accuracy: 0.9079\n",
      "Epoch 12/100\n",
      "3164/3164 [==============================] - 30s 9ms/step - loss: 0.1988 - accuracy: 0.9103\n",
      "Epoch 13/100\n",
      "3164/3164 [==============================] - 29s 9ms/step - loss: 0.1950 - accuracy: 0.9122\n",
      "Epoch 14/100\n",
      "3164/3164 [==============================] - 30s 9ms/step - loss: 0.1908 - accuracy: 0.9134\n",
      "Epoch 15/100\n",
      "3164/3164 [==============================] - 30s 9ms/step - loss: 0.1869 - accuracy: 0.9160\n",
      "Epoch 16/100\n",
      "3164/3164 [==============================] - 30s 9ms/step - loss: 0.1829 - accuracy: 0.9177\n",
      "Epoch 17/100\n",
      "3164/3164 [==============================] - 29s 9ms/step - loss: 0.1796 - accuracy: 0.9193\n",
      "Epoch 18/100\n",
      "3164/3164 [==============================] - 30s 9ms/step - loss: 0.1755 - accuracy: 0.9200\n",
      "Epoch 19/100\n",
      "3164/3164 [==============================] - 30s 9ms/step - loss: 0.1722 - accuracy: 0.9223\n",
      "Epoch 20/100\n",
      "3164/3164 [==============================] - 30s 9ms/step - loss: 0.1678 - accuracy: 0.9240\n",
      "Epoch 21/100\n",
      "3164/3164 [==============================] - 30s 9ms/step - loss: 0.1645 - accuracy: 0.9251\n",
      "Epoch 22/100\n",
      "3164/3164 [==============================] - 30s 9ms/step - loss: 0.1619 - accuracy: 0.9266\n",
      "Epoch 23/100\n",
      "3164/3164 [==============================] - 29s 9ms/step - loss: 0.1585 - accuracy: 0.9279\n",
      "Epoch 24/100\n",
      "3164/3164 [==============================] - 29s 9ms/step - loss: 0.1553 - accuracy: 0.9284\n",
      "Epoch 25/100\n",
      "3164/3164 [==============================] - 29s 9ms/step - loss: 0.1515 - accuracy: 0.9307\n",
      "Epoch 26/100\n",
      "3164/3164 [==============================] - 29s 9ms/step - loss: 0.1504 - accuracy: 0.9305\n",
      "Epoch 27/100\n",
      "3164/3164 [==============================] - 30s 9ms/step - loss: 0.1469 - accuracy: 0.9322\n",
      "Epoch 28/100\n",
      "3164/3164 [==============================] - 30s 9ms/step - loss: 0.1444 - accuracy: 0.9330\n",
      "Epoch 29/100\n",
      "3164/3164 [==============================] - 30s 9ms/step - loss: 0.1420 - accuracy: 0.9343\n",
      "Epoch 30/100\n",
      "3164/3164 [==============================] - 30s 9ms/step - loss: 0.1397 - accuracy: 0.9346\n",
      "Epoch 31/100\n",
      "3164/3164 [==============================] - 30s 9ms/step - loss: 0.1380 - accuracy: 0.9359\n",
      "Epoch 32/100\n",
      "3164/3164 [==============================] - 29s 9ms/step - loss: 0.1361 - accuracy: 0.9362\n",
      "Epoch 33/100\n",
      "3164/3164 [==============================] - 29s 9ms/step - loss: 0.1339 - accuracy: 0.9374\n",
      "Epoch 34/100\n",
      "3164/3164 [==============================] - 29s 9ms/step - loss: 0.1321 - accuracy: 0.9384\n",
      "Epoch 35/100\n",
      "3164/3164 [==============================] - 29s 9ms/step - loss: 0.1293 - accuracy: 0.9392\n",
      "Epoch 36/100\n",
      "3164/3164 [==============================] - 29s 9ms/step - loss: 0.1277 - accuracy: 0.9395\n",
      "Epoch 37/100\n",
      "3164/3164 [==============================] - 29s 9ms/step - loss: 0.1261 - accuracy: 0.9402\n",
      "Epoch 38/100\n",
      "3164/3164 [==============================] - 30s 9ms/step - loss: 0.1254 - accuracy: 0.9408\n",
      "Epoch 39/100\n",
      "3164/3164 [==============================] - 29s 9ms/step - loss: 0.1227 - accuracy: 0.9416\n",
      "Epoch 40/100\n",
      "3164/3164 [==============================] - 29s 9ms/step - loss: 0.1223 - accuracy: 0.9415\n",
      "Epoch 41/100\n",
      "3164/3164 [==============================] - 29s 9ms/step - loss: 0.1201 - accuracy: 0.9431\n",
      "Epoch 42/100\n",
      "3164/3164 [==============================] - 30s 9ms/step - loss: 0.1184 - accuracy: 0.9436\n",
      "Epoch 43/100\n",
      "3164/3164 [==============================] - 30s 9ms/step - loss: 0.1175 - accuracy: 0.9438\n",
      "Epoch 44/100\n",
      "3164/3164 [==============================] - 30s 9ms/step - loss: 0.1159 - accuracy: 0.9444\n",
      "Epoch 45/100\n",
      "3164/3164 [==============================] - 30s 9ms/step - loss: 0.1153 - accuracy: 0.9449\n",
      "Epoch 46/100\n",
      "3164/3164 [==============================] - 30s 9ms/step - loss: 0.1137 - accuracy: 0.9453\n",
      "Epoch 47/100\n",
      "3164/3164 [==============================] - 29s 9ms/step - loss: 0.1125 - accuracy: 0.9459\n",
      "Epoch 48/100\n",
      "3164/3164 [==============================] - 30s 9ms/step - loss: 0.1121 - accuracy: 0.9455\n",
      "Epoch 49/100\n",
      "3164/3164 [==============================] - 30s 9ms/step - loss: 0.1105 - accuracy: 0.9468\n",
      "Epoch 50/100\n",
      "3164/3164 [==============================] - 29s 9ms/step - loss: 0.1093 - accuracy: 0.9477\n",
      "Epoch 51/100\n",
      "3164/3164 [==============================] - 29s 9ms/step - loss: 0.1085 - accuracy: 0.9474\n",
      "Epoch 52/100\n",
      "3164/3164 [==============================] - 29s 9ms/step - loss: 0.1082 - accuracy: 0.9474\n",
      "Epoch 53/100\n",
      "3164/3164 [==============================] - 29s 9ms/step - loss: 0.1065 - accuracy: 0.9484\n",
      "Epoch 54/100\n",
      "3164/3164 [==============================] - 29s 9ms/step - loss: 0.1054 - accuracy: 0.9490\n",
      "Epoch 55/100\n",
      "3164/3164 [==============================] - 29s 9ms/step - loss: 0.1047 - accuracy: 0.9491\n",
      "Epoch 56/100\n",
      "3164/3164 [==============================] - 29s 9ms/step - loss: 0.1045 - accuracy: 0.9492\n",
      "Epoch 57/100\n",
      "3164/3164 [==============================] - 29s 9ms/step - loss: 0.1036 - accuracy: 0.9493\n",
      "Epoch 58/100\n",
      "3164/3164 [==============================] - 29s 9ms/step - loss: 0.1023 - accuracy: 0.9503\n",
      "Epoch 59/100\n",
      "3164/3164 [==============================] - 29s 9ms/step - loss: 0.1020 - accuracy: 0.9500\n",
      "Epoch 60/100\n",
      "3164/3164 [==============================] - 29s 9ms/step - loss: 0.1008 - accuracy: 0.9507\n",
      "Epoch 61/100\n",
      "3164/3164 [==============================] - 29s 9ms/step - loss: 0.1005 - accuracy: 0.9508\n",
      "Epoch 62/100\n",
      "3164/3164 [==============================] - 29s 9ms/step - loss: 0.0994 - accuracy: 0.9511\n",
      "Epoch 63/100\n",
      "3164/3164 [==============================] - 29s 9ms/step - loss: 0.0992 - accuracy: 0.9513\n",
      "Epoch 64/100\n",
      "3164/3164 [==============================] - 30s 9ms/step - loss: 0.0980 - accuracy: 0.9519\n",
      "Epoch 65/100\n",
      "3164/3164 [==============================] - 30s 9ms/step - loss: 0.0973 - accuracy: 0.9524\n",
      "Epoch 66/100\n",
      "3164/3164 [==============================] - 30s 9ms/step - loss: 0.0966 - accuracy: 0.9528\n",
      "Epoch 67/100\n",
      "3164/3164 [==============================] - 30s 9ms/step - loss: 0.0960 - accuracy: 0.9528\n",
      "Epoch 68/100\n",
      "3164/3164 [==============================] - 29s 9ms/step - loss: 0.0946 - accuracy: 0.9532\n",
      "Epoch 69/100\n",
      "3164/3164 [==============================] - 30s 9ms/step - loss: 0.0957 - accuracy: 0.9531\n",
      "Epoch 70/100\n",
      "3164/3164 [==============================] - 30s 9ms/step - loss: 0.0946 - accuracy: 0.9529\n",
      "Epoch 71/100\n",
      "3164/3164 [==============================] - 30s 10ms/step - loss: 0.0941 - accuracy: 0.9535\n",
      "Epoch 72/100\n",
      "3164/3164 [==============================] - 30s 10ms/step - loss: 0.0940 - accuracy: 0.9540\n",
      "Epoch 73/100\n",
      "3164/3164 [==============================] - 30s 9ms/step - loss: 0.0931 - accuracy: 0.9542\n",
      "Epoch 74/100\n",
      "3164/3164 [==============================] - 30s 9ms/step - loss: 0.0926 - accuracy: 0.9544\n",
      "Epoch 75/100\n",
      "3164/3164 [==============================] - 30s 10ms/step - loss: 0.0918 - accuracy: 0.9543\n",
      "Epoch 76/100\n",
      "3164/3164 [==============================] - 30s 9ms/step - loss: 0.0917 - accuracy: 0.9547\n",
      "Epoch 77/100\n",
      "3164/3164 [==============================] - 30s 9ms/step - loss: 0.0910 - accuracy: 0.9555\n",
      "Epoch 78/100\n",
      "3164/3164 [==============================] - 30s 9ms/step - loss: 0.0902 - accuracy: 0.9552\n",
      "Epoch 79/100\n"
     ]
    },
    {
     "name": "stdout",
     "output_type": "stream",
     "text": [
      "3164/3164 [==============================] - 30s 9ms/step - loss: 0.0906 - accuracy: 0.9551\n",
      "Epoch 80/100\n",
      "3164/3164 [==============================] - 30s 9ms/step - loss: 0.0899 - accuracy: 0.9553\n",
      "Epoch 81/100\n",
      "3164/3164 [==============================] - 30s 9ms/step - loss: 0.0894 - accuracy: 0.9555\n",
      "Epoch 82/100\n",
      "3164/3164 [==============================] - 30s 9ms/step - loss: 0.0894 - accuracy: 0.9561\n",
      "Epoch 83/100\n",
      "3164/3164 [==============================] - 30s 9ms/step - loss: 0.0888 - accuracy: 0.9560\n",
      "Epoch 84/100\n",
      "3164/3164 [==============================] - 30s 9ms/step - loss: 0.0897 - accuracy: 0.9555\n",
      "Epoch 85/100\n",
      "3164/3164 [==============================] - 30s 9ms/step - loss: 0.0879 - accuracy: 0.9558\n",
      "Epoch 86/100\n",
      "3164/3164 [==============================] - 30s 10ms/step - loss: 0.0872 - accuracy: 0.9566\n",
      "Epoch 87/100\n",
      "3164/3164 [==============================] - 30s 9ms/step - loss: 0.0871 - accuracy: 0.9569\n",
      "Epoch 88/100\n",
      "3164/3164 [==============================] - 30s 9ms/step - loss: 0.0867 - accuracy: 0.9566\n",
      "Epoch 89/100\n",
      "3164/3164 [==============================] - 30s 9ms/step - loss: 0.0869 - accuracy: 0.9566\n",
      "Epoch 90/100\n",
      "3164/3164 [==============================] - 30s 9ms/step - loss: 0.0858 - accuracy: 0.9569\n",
      "Epoch 91/100\n",
      "3164/3164 [==============================] - 30s 9ms/step - loss: 0.0856 - accuracy: 0.9569\n",
      "Epoch 92/100\n",
      "3164/3164 [==============================] - 30s 9ms/step - loss: 0.0854 - accuracy: 0.9571\n",
      "Epoch 93/100\n",
      "3164/3164 [==============================] - 30s 9ms/step - loss: 0.0846 - accuracy: 0.9574\n",
      "Epoch 94/100\n",
      "3164/3164 [==============================] - 30s 9ms/step - loss: 0.0853 - accuracy: 0.9574\n",
      "Epoch 95/100\n",
      "3164/3164 [==============================] - 30s 9ms/step - loss: 0.0840 - accuracy: 0.9582\n",
      "Epoch 96/100\n",
      "3164/3164 [==============================] - 30s 9ms/step - loss: 0.0835 - accuracy: 0.9579\n",
      "Epoch 97/100\n",
      "3164/3164 [==============================] - 29s 9ms/step - loss: 0.0834 - accuracy: 0.9585\n",
      "Epoch 98/100\n",
      "3164/3164 [==============================] - 30s 9ms/step - loss: 0.0829 - accuracy: 0.9577\n",
      "Epoch 99/100\n",
      "3164/3164 [==============================] - 29s 9ms/step - loss: 0.0830 - accuracy: 0.9580\n",
      "Epoch 100/100\n",
      "3164/3164 [==============================] - 30s 9ms/step - loss: 0.0815 - accuracy: 0.9588\n"
     ]
    },
    {
     "data": {
      "text/plain": [
       "<keras.callbacks.History at 0x29a103d5a90>"
      ]
     },
     "execution_count": 23,
     "metadata": {},
     "output_type": "execute_result"
    }
   ],
   "source": [
    "model = model()\n",
    "model.fit(X_train, y_train, epochs=100, batch_size=64)"
   ]
  },
  {
   "cell_type": "code",
   "execution_count": 24,
   "metadata": {},
   "outputs": [
    {
     "name": "stdout",
     "output_type": "stream",
     "text": [
      "1741/1741 [==============================] - 4s 3ms/step\n"
     ]
    }
   ],
   "source": [
    "y_pred = model.predict(X_test)\n",
    "y_pred_aux = []\n",
    "for k in y_pred:\n",
    "    if k[0]>k[1]:\n",
    "        y_pred_aux.append([1,0])\n",
    "    else:\n",
    "        y_pred_aux.append([0,1])"
   ]
  },
  {
   "cell_type": "code",
   "execution_count": 25,
   "metadata": {},
   "outputs": [
    {
     "data": {
      "text/plain": [
       "(array([0.1759036, 0.8240964], dtype=float32), array([1., 0.], dtype=float32))"
      ]
     },
     "execution_count": 25,
     "metadata": {},
     "output_type": "execute_result"
    }
   ],
   "source": [
    "y_pred[0],y_test[0]"
   ]
  },
  {
   "cell_type": "code",
   "execution_count": 26,
   "metadata": {},
   "outputs": [],
   "source": [
    "bonnePredV = [] #liste des proba prédites pour la voix quand le modèle à raison\n",
    "bonnePredP = []\n",
    "mauvaisePredV = [] #liste des proba prédites pour la voix quand le modèle à tord\n",
    "mauvaisePredP = []\n",
    "\n",
    "\n",
    "for i in range(len(y_pred)):\n",
    "    probav,probap = y_pred[i][0],y_pred[i][1]\n",
    "    if y_test[i][0]==1:\n",
    "        if probav>probap:\n",
    "            bonnePredV.append(probav)\n",
    "        else:\n",
    "            mauvaisePredV.append(probav)\n",
    "    else:\n",
    "        if probap>probav:\n",
    "            bonnePredP.append(probap)\n",
    "        else:\n",
    "            mauvaisePredP.append(probap)\n"
   ]
  },
  {
   "cell_type": "code",
   "execution_count": 27,
   "metadata": {},
   "outputs": [],
   "source": [
    "import math as m\n",
    "import matplotlib.pyplot as plt\n",
    "\n",
    "def printCar(l):\n",
    "    moyenne = sum(l)/len(l)\n",
    "    print(\"Nombre d'éléments : \" + str(len(l)))\n",
    "    print(\"Moyenne des probas : \" + str(moyenne))\n",
    "    print(\"Max : \" + str(max(l)) + \", Min : \" + str(min(l)))\n",
    "    ecart_type = m.sqrt(sum((k-moyenne)**2 for k in l) / len(l))\n",
    "    print(\"Ecart type : \" + str(ecart_type))\n",
    "    plt.hist(l)"
   ]
  },
  {
   "cell_type": "code",
   "execution_count": 28,
   "metadata": {},
   "outputs": [
    {
     "name": "stdout",
     "output_type": "stream",
     "text": [
      "Nombre d'éléments : 17256\n",
      "Moyenne des probas : 0.9263392039676148\n",
      "Max : 0.9999987, Min : 0.50033695\n",
      "Ecart type : 0.1309992926717333\n"
     ]
    },
    {
     "data": {
      "image/png": "[encoded data removed]",
      "text/plain": [
       "<Figure size 432x288 with 1 Axes>"
      ]
     },
     "metadata": {
      "needs_background": "light"
     },
     "output_type": "display_data"
    }
   ],
   "source": [
    "printCar(bonnePredV)"
   ]
  },
  {
   "cell_type": "code",
   "execution_count": 29,
   "metadata": {},
   "outputs": [
    {
     "name": "stdout",
     "output_type": "stream",
     "text": [
      "Nombre d'éléments : 19345\n",
      "Moyenne des probas : 0.9778477054167299\n",
      "Max : 1.0, Min : 0.50051033\n",
      "Ecart type : 0.08218961003704903\n"
     ]
    },
    {
     "data": {
      "image/png": "[encoded data removed]",
      "text/plain": [
       "<Figure size 432x288 with 1 Axes>"
      ]
     },
     "metadata": {
      "needs_background": "light"
     },
     "output_type": "display_data"
    }
   ],
   "source": [
    "printCar(bonnePredP)"
   ]
  },
  {
   "cell_type": "code",
   "execution_count": 30,
   "metadata": {},
   "outputs": [
    {
     "name": "stdout",
     "output_type": "stream",
     "text": [
      "Nombre d'éléments : 11013\n",
      "Moyenne des probas : 0.12798930147261095\n",
      "Max : 0.49986875, Min : 5.612551e-09\n",
      "Ecart type : 0.1617428133997507\n"
     ]
    },
    {
     "data": {
      "image/png": "[encoded data removed]",
      "text/plain": [
       "<Figure size 432x288 with 1 Axes>"
      ]
     },
     "metadata": {
      "needs_background": "light"
     },
     "output_type": "display_data"
    }
   ],
   "source": [
    "printCar(mauvaisePredV) #on prédit avion alors que c'est voix : histo des proba prédite pour voix par le modèle"
   ]
  },
  {
   "cell_type": "code",
   "execution_count": 31,
   "metadata": {},
   "outputs": [
    {
     "name": "stdout",
     "output_type": "stream",
     "text": [
      "Nombre d'éléments : 8092\n",
      "Moyenne des probas : 0.06325052253587765\n",
      "Max : 0.49989504, Min : 1.2625154e-06\n",
      "Ecart type : 0.11926503468197626\n"
     ]
    },
    {
     "data": {
      "image/png": "[encoded data removed]",
      "text/plain": [
       "<Figure size 432x288 with 1 Axes>"
      ]
     },
     "metadata": {
      "needs_background": "light"
     },
     "output_type": "display_data"
    }
   ],
   "source": [
    "printCar(mauvaisePredP) #on prédit voix alors que c'est avion : histo des proba prédite pour avion par le modèle"
   ]
  },
  {
   "cell_type": "code",
   "execution_count": 32,
   "metadata": {},
   "outputs": [
    {
     "data": {
      "text/plain": [
       "(array([6006.,  740.,  555.,  515.,  461.,  463.,  473.,  551.,  631.,\n",
       "         618.]),\n",
       " array([5.6125509e-09, 4.9986880e-02, 9.9973753e-02, 1.4996062e-01,\n",
       "        1.9994751e-01, 2.4993438e-01, 2.9992124e-01, 3.4990811e-01,\n",
       "        3.9989501e-01, 4.4988188e-01, 4.9986875e-01], dtype=float32),\n",
       " <BarContainer object of 10 artists>)"
      ]
     },
     "execution_count": 32,
     "metadata": {},
     "output_type": "execute_result"
    },
    {
     "data": {
      "image/png": "[encoded data removed]",
      "text/plain": [
       "<Figure size 432x288 with 1 Axes>"
      ]
     },
     "metadata": {
      "needs_background": "light"
     },
     "output_type": "display_data"
    }
   ],
   "source": [
    "#Histogramme des probabilités prédites pour la voix \n",
    "\n",
    "plt.hist(bonnePredV)\n",
    "plt.hist(mauvaisePredV)"
   ]
  },
  {
   "cell_type": "code",
   "execution_count": 33,
   "metadata": {},
   "outputs": [
    {
     "data": {
      "text/plain": [
       "(array([6005.,  494.,  326.,  249.,  189.,  181.,  156.,  142.,  169.,\n",
       "         181.]),\n",
       " array([1.2625154e-06, 4.9990639e-02, 9.9980019e-02, 1.4996940e-01,\n",
       "        1.9995877e-01, 2.4994814e-01, 2.9993752e-01, 3.4992692e-01,\n",
       "        3.9991629e-01, 4.4990566e-01, 4.9989504e-01], dtype=float32),\n",
       " <BarContainer object of 10 artists>)"
      ]
     },
     "execution_count": 33,
     "metadata": {},
     "output_type": "execute_result"
    },
    {
     "data": {
      "image/png": "[encoded data removed]",
      "text/plain": [
       "<Figure size 432x288 with 1 Axes>"
      ]
     },
     "metadata": {
      "needs_background": "light"
     },
     "output_type": "display_data"
    }
   ],
   "source": [
    "#Histogramme des probabilités prédites pour avion\n",
    "\n",
    "plt.hist(bonnePredP)\n",
    "plt.hist(mauvaisePredP)"
   ]
  },
  {
   "cell_type": "code",
   "execution_count": 34,
   "metadata": {},
   "outputs": [
    {
     "name": "stdout",
     "output_type": "stream",
     "text": [
      "Accuracy is: 65.70387390945321\n"
     ]
    }
   ],
   "source": [
    "from sklearn.metrics import accuracy_score\n",
    "a = accuracy_score(y_pred_aux,y_test)\n",
    "print('Accuracy is:', a*100)"
   ]
  },
  {
   "cell_type": "code",
   "execution_count": 65,
   "metadata": {},
   "outputs": [],
   "source": [
    "def has_voice2(x,hop,duration_sec_threshold,error_threshold):\n",
    "    ratio = np.count_nonzero(x=='Voice')/len(x)\n",
    "    duration_discrete_threshold = round(duration_sec_threshold * 22050 / hop)\n",
    "    binary_pred = [0 if elt=='Plane' else 1 for elt in x]\n",
    "    df_x = pd.DataFrame(binary_pred)\n",
    "    df_sum = df_x.rolling(duration_discrete_threshold).mean()\n",
    "    x_plot = [elt*hop/22050 for elt in range(len(x))] #x en seconds\n",
    "    # plt.plot(x_plot,df_sum[0])\n",
    "    # plt.show()\n",
    "    return len(df_sum[df_sum[0]>error_threshold])>0"
   ]
  },
  {
   "cell_type": "code",
   "execution_count": 72,
   "metadata": {},
   "outputs": [],
   "source": [
    "def has_voice_vote(y,hop,duration_sec_threshold):\n",
    "    duration_discrete_threshold = round(duration_sec_threshold * 22050 / hop)\n",
    "    votes = []\n",
    "    for i in range(len(y)-duration_discrete_threshold):\n",
    "        #window = y[i:i+duration_discrete_threshold]\n",
    "        vote_window = 0\n",
    "        for k in range(i,i+duration_discrete_threshold):\n",
    "            confiance = y[i][0]-y[i][1]\n",
    "            vote_window += confiance\n",
    "        votes.append(vote_window/duration_discrete_threshold)\n",
    "    return votes\n",
    "    \n",
    "                "
   ]
  },
  {
   "cell_type": "markdown",
   "metadata": {},
   "source": [
    "PARTIE MODELE"
   ]
  },
  {
   "cell_type": "code",
   "execution_count": 39,
   "metadata": {},
   "outputs": [
    {
     "data": {
      "text/html": [
       "<style>#sk-container-id-1 {color: black;background-color: white;}#sk-container-id-1 pre{padding: 0;}#sk-container-id-1 div.sk-toggleable {background-color: white;}#sk-container-id-1 label.sk-toggleable__label {cursor: pointer;display: block;width: 100%;margin-bottom: 0;padding: 0.3em;box-sizing: border-box;text-align: center;}#sk-container-id-1 label.sk-toggleable__label-arrow:before {content: \"▸\";float: left;margin-right: 0.25em;color: #696969;}#sk-container-id-1 label.sk-toggleable__label-arrow:hover:before {color: black;}#sk-container-id-1 div.sk-estimator:hover label.sk-toggleable__label-arrow:before {color: black;}#sk-container-id-1 div.sk-toggleable__content {max-height: 0;max-width: 0;overflow: hidden;text-align: left;background-color: #f0f8ff;}#sk-container-id-1 div.sk-toggleable__content pre {margin: 0.2em;color: black;border-radius: 0.25em;background-color: #f0f8ff;}#sk-container-id-1 input.sk-toggleable__control:checked~div.sk-toggleable__content {max-height: 200px;max-width: 100%;overflow: auto;}#sk-container-id-1 input.sk-toggleable__control:checked~label.sk-toggleable__label-arrow:before {content: \"▾\";}#sk-container-id-1 div.sk-estimator input.sk-toggleable__control:checked~label.sk-toggleable__label {background-color: #d4ebff;}#sk-container-id-1 div.sk-label input.sk-toggleable__control:checked~label.sk-toggleable__label {background-color: #d4ebff;}#sk-container-id-1 input.sk-hidden--visually {border: 0;clip: rect(1px 1px 1px 1px);clip: rect(1px, 1px, 1px, 1px);height: 1px;margin: -1px;overflow: hidden;padding: 0;position: absolute;width: 1px;}#sk-container-id-1 div.sk-estimator {font-family: monospace;background-color: #f0f8ff;border: 1px dotted black;border-radius: 0.25em;box-sizing: border-box;margin-bottom: 0.5em;}#sk-container-id-1 div.sk-estimator:hover {background-color: #d4ebff;}#sk-container-id-1 div.sk-parallel-item::after {content: \"\";width: 100%;border-bottom: 1px solid gray;flex-grow: 1;}#sk-container-id-1 div.sk-label:hover label.sk-toggleable__label {background-color: #d4ebff;}#sk-container-id-1 div.sk-serial::before {content: \"\";position: absolute;border-left: 1px solid gray;box-sizing: border-box;top: 0;bottom: 0;left: 50%;z-index: 0;}#sk-container-id-1 div.sk-serial {display: flex;flex-direction: column;align-items: center;background-color: white;padding-right: 0.2em;padding-left: 0.2em;position: relative;}#sk-container-id-1 div.sk-item {position: relative;z-index: 1;}#sk-container-id-1 div.sk-parallel {display: flex;align-items: stretch;justify-content: center;background-color: white;position: relative;}#sk-container-id-1 div.sk-item::before, #sk-container-id-1 div.sk-parallel-item::before {content: \"\";position: absolute;border-left: 1px solid gray;box-sizing: border-box;top: 0;bottom: 0;left: 50%;z-index: -1;}#sk-container-id-1 div.sk-parallel-item {display: flex;flex-direction: column;z-index: 1;position: relative;background-color: white;}#sk-container-id-1 div.sk-parallel-item:first-child::after {align-self: flex-end;width: 50%;}#sk-container-id-1 div.sk-parallel-item:last-child::after {align-self: flex-start;width: 50%;}#sk-container-id-1 div.sk-parallel-item:only-child::after {width: 0;}#sk-container-id-1 div.sk-dashed-wrapped {border: 1px dashed gray;margin: 0 0.4em 0.5em 0.4em;box-sizing: border-box;padding-bottom: 0.4em;background-color: white;}#sk-container-id-1 div.sk-label label {font-family: monospace;font-weight: bold;display: inline-block;line-height: 1.2em;}#sk-container-id-1 div.sk-label-container {text-align: center;}#sk-container-id-1 div.sk-container {/* jupyter's `normalize.less` sets `[hidden] { display: none; }` but bootstrap.min.css set `[hidden] { display: none !important; }` so we also need the `!important` here to be able to override the default hidden behavior on the sphinx rendered scikit-learn.org. See: https://github.com/scikit-learn/scikit-learn/issues/21755 */display: inline-block !important;position: relative;}#sk-container-id-1 div.sk-text-repr-fallback {display: none;}</style><div id=\"sk-container-id-1\" class=\"sk-top-container\"><div class=\"sk-text-repr-fallback\"><pre>RandomForestClassifier(n_jobs=-1)</pre><b>In a Jupyter environment, please rerun this cell to show the HTML representation or trust the notebook. <br />On GitHub, the HTML representation is unable to render, please try loading this page with nbviewer.org.</b></div><div class=\"sk-container\" hidden><div class=\"sk-item\"><div class=\"sk-estimator sk-toggleable\"><input class=\"sk-toggleable__control sk-hidden--visually\" id=\"sk-estimator-id-1\" type=\"checkbox\" checked><label for=\"sk-estimator-id-1\" class=\"sk-toggleable__label sk-toggleable__label-arrow\">RandomForestClassifier</label><div class=\"sk-toggleable__content\"><pre>RandomForestClassifier(n_jobs=-1)</pre></div></div></div></div></div>"
      ],
      "text/plain": [
       "RandomForestClassifier(n_jobs=-1)"
      ]
     },
     "execution_count": 39,
     "metadata": {},
     "output_type": "execute_result"
    }
   ],
   "source": [
    "# pca = PCA(0.99).fit(X_train)\n",
    "# X_train = pca.transform(X_train)\n",
    "# X_test = pca.transform(X_test)\n",
    "rf = RandomForestClassifier(n_jobs=-1)\n",
    "rf.fit(X_train,y_train)"
   ]
  },
  {
   "cell_type": "code",
   "execution_count": 40,
   "metadata": {},
   "outputs": [
    {
     "data": {
      "text/plain": [
       "0.4558223833257816"
      ]
     },
     "execution_count": 40,
     "metadata": {},
     "output_type": "execute_result"
    }
   ],
   "source": [
    "from sklearn.metrics import accuracy_score\n",
    "\n",
    "pred = rf.predict(X_test)\n",
    "accuracy_score(pred,y_test)"
   ]
  },
  {
   "cell_type": "code",
   "execution_count": 145,
   "metadata": {},
   "outputs": [
    {
     "data": {
      "image/png": "[encoded data removed]",
      "text/plain": [
       "<Figure size 600x400 with 2 Axes>"
      ]
     },
     "metadata": {},
     "output_type": "display_data"
    }
   ],
   "source": [
    "\n",
    "\n",
    "pred = rf.predict(X_test)\n",
    "matrix = confusion_matrix(pred,y_test)\n",
    "matrix = matrix.astype('float') / matrix.sum(axis=1)[:, np.newaxis]\n",
    "\n",
    "# Build the plot\n",
    "plt.figure(figsize=(6,4))\n",
    "sns.set(font_scale=1)\n",
    "sns.heatmap(matrix, annot=True, annot_kws={'size':20},\n",
    "            cmap=plt.cm.Greens, linewidths=0.2)\n",
    "\n",
    "# Add labels to the plot\n",
    "class_names = ['Plane','Voice']\n",
    "tick_marks = np.arange(len(class_names))\n",
    "tick_marks2 = tick_marks + 0.5\n",
    "plt.xticks(tick_marks, class_names, rotation=25)\n",
    "plt.yticks(tick_marks2, class_names, rotation=0)\n",
    "plt.xlabel('Predicted label')\n",
    "plt.ylabel('True label')\n",
    "plt.title('Confusion Matrix for Random Forest Model')\n",
    "plt.show()"
   ]
  },
  {
   "cell_type": "markdown",
   "metadata": {},
   "source": [
    "TEST DE LA RF SAUVEGARDEE"
   ]
  },
  {
   "cell_type": "code",
   "execution_count": 71,
   "metadata": {},
   "outputs": [],
   "source": [
    "import joblib \n",
    "\n",
    "rf = joblib.load(\"random_forest.joblib\")\n",
    "# joblib.dump(rf, \"random_forest.joblib\")\n"
   ]
  },
  {
   "cell_type": "code",
   "execution_count": 78,
   "metadata": {},
   "outputs": [
    {
     "data": {
      "image/png": "[encoded data removed]",
      "text/plain": [
       "<Figure size 600x400 with 2 Axes>"
      ]
     },
     "metadata": {},
     "output_type": "display_data"
    }
   ],
   "source": [
    "from sklearn.metrics import confusion_matrix,accuracy_score\n",
    "\n",
    "import matplotlib.pyplot as plt\n",
    "import seaborn as sns\n",
    "\n",
    "\n",
    "pred = rf.predict(X_test)\n",
    "matrix = confusion_matrix(pred,y_test)\n",
    "# pred = rf.predict(X_test)\n",
    "# matrix = confusion_matrix(pred,y_test)\n",
    "matrix = matrix.astype('float') / matrix.sum(axis=1)[:, np.newaxis]\n",
    "\n",
    "# Build the plot\n",
    "plt.figure(figsize=(6,4))\n",
    "sns.set(font_scale=1)\n",
    "sns.heatmap(matrix, annot=True, annot_kws={'size':20},\n",
    "            cmap=plt.cm.Greens, linewidths=0.2)\n",
    "\n",
    "# Add labels to the plot\n",
    "class_names = rf.classes_\n",
    "tick_marks = np.arange(len(class_names))\n",
    "tick_marks2 = tick_marks + 0.5\n",
    "plt.xticks(tick_marks, class_names, rotation=25)\n",
    "plt.yticks(tick_marks2, class_names, rotation=0)\n",
    "plt.xlabel('Predicted label')\n",
    "plt.ylabel('True label')\n",
    "plt.title('Confusion Matrix for Random Forest Model')\n",
    "plt.show()"
   ]
  },
  {
   "cell_type": "code",
   "execution_count": 179,
   "metadata": {},
   "outputs": [],
   "source": [
    "def has_voice(x,hop,duration_sec_threshold,error_threshold):\n",
    "    ratio = np.count_nonzero(x=='Voice')/len(x)\n",
    "    duration_discrete_threshold = duration_sec_threshold * 22050 / hop\n",
    "    if len(x) >duration_discrete_threshold and ratio > error_threshold:\n",
    "        print('Durée de la voix: ',len(x)*hop/22050,'seconds')\n",
    "        return True\n",
    "    elif len(x)<duration_discrete_threshold:\n",
    "        return False\n",
    "    else:\n",
    "        half = len(x)//2\n",
    "        return has_voice(x[:half],hop,duration_sec_threshold,error_threshold) or has_voice(x[half:],hop,duration_sec_threshold,error_threshold)\n",
    "\n",
    "def has_voice2(x,hop,duration_sec_threshold,error_threshold):\n",
    "    ratio = np.count_nonzero(x=='Voice')/len(x)\n",
    "    duration_discrete_threshold = round(duration_sec_threshold * 22050 / hop)\n",
    "    binary_pred = [0 if elt=='Plane' else 1 for elt in x]\n",
    "    df_x = pd.DataFrame(binary_pred)\n",
    "    df_sum = df_x.rolling(duration_discrete_threshold).mean()\n",
    "    x_plot = [elt*hop/22050 for elt in range(len(x))] #x en seconds\n",
    "    # plt.plot(x_plot,df_sum[0])\n",
    "    # plt.show()\n",
    "    return len(df_sum[df_sum[0]>error_threshold])>0\n",
    "\n",
    "def gen_valid_test(db_folder_path,n_records):\n",
    "\n",
    "    l_records = os.listdir(db_folder_path)\n",
    "    sub_l_records = rd.sample(l_records,n_records)\n",
    "    sample = rd.sample(sub_l_records,n_records)\n",
    "    sp_valid = []\n",
    "    hops_valid = []\n",
    "    for i in range(n_records):\n",
    "        print('Building validation set {}/{}'.format(i,n_records),end='\\r')\n",
    "        signal,sample_rate = librosa.load(db_folder_path + sample[i])\n",
    "        spectrum = librosa.stft(y=signal,center=False) \n",
    "        spectrum = spectrum.astype(float)\n",
    "        # fig = librosa.display.specshow(spectrum, sr=sample_rate, x_axis='time', y_axis='log')\n",
    "        # plt.colorbar(format='%+2.0f dB')\n",
    "        # plt.title('Spectrogram')\n",
    "        # plt.plot()\n",
    "        # plt.show()\n",
    "        good_shape_spectrum = np.abs(np.transpose(spectrum))\n",
    "        sp_valid.append(good_shape_spectrum)\n",
    "        hops_valid.append(len(signal)//len(good_shape_spectrum))\n",
    "\n",
    "    return sp_valid,hops_valid\n",
    "\n",
    "def valid_model(model,duration_threshold,error_threshold,n_records):\n",
    "    plane_valid,hops_plane = gen_valid_test(path_to_db_plane,n_records)\n",
    "    both_valid,hops_both = gen_valid_test(path_to_db_both,n_records)\n",
    "\n",
    "    target_plane = [False for elt in plane_valid]\n",
    "    target_both = [True for elt in both_valid]\n",
    "    \n",
    "    records_valid = plane_valid + both_valid\n",
    "    target_valid =  target_plane + target_both\n",
    "    hops_valid = hops_plane + hops_both\n",
    "\n",
    "    # records_valid = both_valid\n",
    "    # target_valid =  target_both\n",
    "    # hops_valid = hops_both\n",
    "\n",
    "    # records_valid = plane_valid\n",
    "    # target_valid =  target_plane\n",
    "    # hops_valid = hops_plane\n",
    "\n",
    "    # print(hops_valid)\n",
    "\n",
    "    prediction_for_records = []\n",
    "    for i  in range(len(records_valid)):\n",
    "        pred = model.predict(records_valid[i])\n",
    "        prediction_for_records.append(has_voice2(pred,hops_valid[i],duration_threshold,error_threshold))\n",
    "\n",
    "    return accuracy_score(target_valid,prediction_for_records)"
   ]
  },
  {
   "cell_type": "code",
   "execution_count": null,
   "metadata": {},
   "outputs": [],
   "source": [
    "valid_model(rf,2,0.63,4)"
   ]
  },
  {
   "cell_type": "code",
   "execution_count": 185,
   "metadata": {},
   "outputs": [],
   "source": [
    "def hyper_tune_valid(model,n_records,n_iter):\n",
    "    \n",
    "    dur_range = np.linspace(1,5,6)\n",
    "    thresh_range = np.linspace(0.5,1,20)\n",
    "\n",
    "    best_dur,best_thresh,best_valid = 0,0,0\n",
    "\n",
    "    for i in range(n_iter):\n",
    "        \n",
    "        if best_valid ==1:\n",
    "            return best_dur,best_thresh,best_valid\n",
    "\n",
    "        dur = rd.choice(dur_range)\n",
    "        thresh = rd.choice(thresh_range)\n",
    "        val = valid_model(model,dur,thresh,n_records)\n",
    "\n",
    "        if val > best_valid:\n",
    "            best_valid = val\n",
    "            best_dur = dur\n",
    "            best_thresh = thresh\n",
    "\n",
    "    return best_dur,best_thresh,best_valid\n",
    "\n"
   ]
  },
  {
   "cell_type": "code",
   "execution_count": 186,
   "metadata": {},
   "outputs": [
    {
     "name": "stdout",
     "output_type": "stream",
     "text": [
      "Building validation set 9/10\r"
     ]
    },
    {
     "data": {
      "text/plain": [
       "(1.8, 0.7894736842105263, 0.95)"
      ]
     },
     "execution_count": 186,
     "metadata": {},
     "output_type": "execute_result"
    }
   ],
   "source": [
    "hyper_tune_valid(rf,10,70)"
   ]
  }
 ],
 "metadata": {
  "kernelspec": {
   "display_name": "Python 3 (ipykernel)",
   "language": "python",
   "name": "python3"
  },
  "language_info": {
   "codemirror_mode": {
    "name": "ipython",
    "version": 3
   },
   "file_extension": ".py",
   "mimetype": "text/x-python",
   "name": "python",
   "nbconvert_exporter": "python",
   "pygments_lexer": "ipython3",
   "version": "3.9.7"
  },
  "vscode": {
   "interpreter": {
    "hash": "f07a9cec850f9104fc95ea0494484df5ee5d9a14128a89aec6d609f0f574ea61"
   }
  }
 },
 "nbformat": 4,
 "nbformat_minor": 2
}
