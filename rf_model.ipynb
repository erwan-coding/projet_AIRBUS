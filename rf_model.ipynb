{
 "cells": [
  {
   "cell_type": "code",
   "execution_count": 28,
   "metadata": {},
   "outputs": [],
   "source": [
    "import librosa\n",
    "import librosa.display\n",
    "import os\n",
    "\n",
    "import warnings\n",
    "warnings.filterwarnings(\"ignore\")\n",
    "\n",
    "path_to_db_voice = \"D:\\\\Utilisateurs\\\\ENAC\\\\projet_AIRBUS\\\\db\\\\voice\\\\\"\n",
    "path_to_db_plane = \"D:\\\\Utilisateurs\\\\ENAC\\\\projet_AIRBUS\\\\db\\\\plane\\\\\"\n",
    "path_to_db_both = \"D:\\\\Utilisateurs\\\\ENAC\\\\projet_AIRBUS\\\\db\\\\both\\\\\"\n",
    "\n",
    "l_voice_records = os.listdir(path_to_db_voice)\n",
    "l_airplane_records = os.listdir(path_to_db_plane)\n",
    "l_both_records = os.listdir(path_to_db_both)"
   ]
  },
  {
   "cell_type": "code",
   "execution_count": 29,
   "metadata": {},
   "outputs": [],
   "source": [
    "import random as rd\n",
    "from sklearn.preprocessing import StandardScaler\n",
    "from sklearn.decomposition import PCA\n",
    "import numpy as np\n",
    "n_train = 12\n",
    "\n",
    "sp_voice_train = [] #spectres \n",
    "sp_plane_train = []\n",
    "sp_both_train = []\n",
    "pca = PCA(0.99)\n",
    "pca_xtrain = None\n",
    "\n",
    "for i in range(n_train): \n",
    "    picked = rd.choice(l_voice_records) \n",
    "    signal,sample_rate = librosa.load(path_to_db_voice+picked)\n",
    "    spectrum = librosa.stft(y=signal,center=False) \n",
    "    spectrum = spectrum.astype(float)\n",
    "    sp_voice_train.append(np.transpose(spectrum))\n",
    "\n",
    "\n",
    "    picked = rd.choice(l_airplane_records) \n",
    "    signal,sample_rate = librosa.load(path_to_db_plane+picked)\n",
    "    spectrum = librosa.stft(y=signal,center=False)\n",
    "\n",
    "    spectrum = spectrum.astype(float)\n",
    "    sp_plane_train.append(np.transpose(spectrum))\n",
    "\n",
    "    picked = rd.choice(l_both_records) \n",
    "    signal,sample_rate = librosa.load(path_to_db_both+picked)\n",
    "    spectrum = librosa.stft(y=signal,center=False)\n",
    "\n",
    "    spectrum = spectrum.astype(float)\n",
    "    sp_both_train.append(np.transpose(spectrum))\n",
    "\n",
    "n_test = 5\n",
    "sp_voice_test = [] #spectres \n",
    "sp_plane_test = []\n",
    "sp_both_test = []\n",
    "\n",
    "for i in range(n_test): \n",
    "    \n",
    "    picked = rd.choice(l_voice_records) \n",
    "    signal,sample_rate = librosa.load(path_to_db_voice+picked)\n",
    "    spectrum = librosa.stft(y=signal,center=False) \n",
    "    spectrum = spectrum.astype(float)\n",
    "    sp_voice_test.append(np.transpose(spectrum))\n",
    "\n",
    "\n",
    "    picked = rd.choice(l_airplane_records) \n",
    "    signal,sample_rate = librosa.load(path_to_db_plane+picked)\n",
    "    spectrum = librosa.stft(y=signal,center=False)\n",
    "    spectrum = spectrum.astype(float)\n",
    "    sp_plane_test.append(np.transpose(spectrum))\n",
    "\n",
    "    picked = rd.choice(l_both_records) \n",
    "    signal,sample_rate = librosa.load(path_to_db_both+picked)\n",
    "    spectrum = librosa.stft(y=signal,center=False)\n",
    "    spectrum = spectrum.astype(float)\n",
    "    sp_both_test.append(np.transpose(spectrum))\n",
    "\n",
    "\n",
    "\n"
   ]
  },
  {
   "cell_type": "code",
   "execution_count": 30,
   "metadata": {},
   "outputs": [],
   "source": [
    "X_voice= np.concatenate(sp_voice_train)\n",
    "X_plane = np.concatenate(sp_plane_train)\n",
    "X_both = np.concatenate(sp_both_train)\n",
    "\n",
    "X_voice_test= np.concatenate(sp_voice_test)\n",
    "X_plane_test = np.concatenate(sp_plane_test)\n",
    "X_both_test = np.concatenate(sp_both_test)"
   ]
  },
  {
   "cell_type": "code",
   "execution_count": 31,
   "metadata": {},
   "outputs": [
    {
     "data": {
      "text/plain": [
       "5280"
      ]
     },
     "execution_count": 31,
     "metadata": {},
     "output_type": "execute_result"
    }
   ],
   "source": [
    "len(X_plane_test)+len(X_both_test)"
   ]
  },
  {
   "cell_type": "code",
   "execution_count": 32,
   "metadata": {},
   "outputs": [],
   "source": [
    "# len(sp_plane_train)\n",
    "\n",
    "# for i in range(n_train):\n",
    "#     sp_voice_train[i] = pca.transform(sp_voice_train[i])\n",
    "#     sp_plane_train[i] = pca.transform(sp_plane_train[i])"
   ]
  },
  {
   "cell_type": "code",
   "execution_count": 33,
   "metadata": {},
   "outputs": [
    {
     "data": {
      "text/html": [
       "<style>#sk-container-id-4 {color: black;background-color: white;}#sk-container-id-4 pre{padding: 0;}#sk-container-id-4 div.sk-toggleable {background-color: white;}#sk-container-id-4 label.sk-toggleable__label {cursor: pointer;display: block;width: 100%;margin-bottom: 0;padding: 0.3em;box-sizing: border-box;text-align: center;}#sk-container-id-4 label.sk-toggleable__label-arrow:before {content: \"▸\";float: left;margin-right: 0.25em;color: #696969;}#sk-container-id-4 label.sk-toggleable__label-arrow:hover:before {color: black;}#sk-container-id-4 div.sk-estimator:hover label.sk-toggleable__label-arrow:before {color: black;}#sk-container-id-4 div.sk-toggleable__content {max-height: 0;max-width: 0;overflow: hidden;text-align: left;background-color: #f0f8ff;}#sk-container-id-4 div.sk-toggleable__content pre {margin: 0.2em;color: black;border-radius: 0.25em;background-color: #f0f8ff;}#sk-container-id-4 input.sk-toggleable__control:checked~div.sk-toggleable__content {max-height: 200px;max-width: 100%;overflow: auto;}#sk-container-id-4 input.sk-toggleable__control:checked~label.sk-toggleable__label-arrow:before {content: \"▾\";}#sk-container-id-4 div.sk-estimator input.sk-toggleable__control:checked~label.sk-toggleable__label {background-color: #d4ebff;}#sk-container-id-4 div.sk-label input.sk-toggleable__control:checked~label.sk-toggleable__label {background-color: #d4ebff;}#sk-container-id-4 input.sk-hidden--visually {border: 0;clip: rect(1px 1px 1px 1px);clip: rect(1px, 1px, 1px, 1px);height: 1px;margin: -1px;overflow: hidden;padding: 0;position: absolute;width: 1px;}#sk-container-id-4 div.sk-estimator {font-family: monospace;background-color: #f0f8ff;border: 1px dotted black;border-radius: 0.25em;box-sizing: border-box;margin-bottom: 0.5em;}#sk-container-id-4 div.sk-estimator:hover {background-color: #d4ebff;}#sk-container-id-4 div.sk-parallel-item::after {content: \"\";width: 100%;border-bottom: 1px solid gray;flex-grow: 1;}#sk-container-id-4 div.sk-label:hover label.sk-toggleable__label {background-color: #d4ebff;}#sk-container-id-4 div.sk-serial::before {content: \"\";position: absolute;border-left: 1px solid gray;box-sizing: border-box;top: 0;bottom: 0;left: 50%;z-index: 0;}#sk-container-id-4 div.sk-serial {display: flex;flex-direction: column;align-items: center;background-color: white;padding-right: 0.2em;padding-left: 0.2em;position: relative;}#sk-container-id-4 div.sk-item {position: relative;z-index: 1;}#sk-container-id-4 div.sk-parallel {display: flex;align-items: stretch;justify-content: center;background-color: white;position: relative;}#sk-container-id-4 div.sk-item::before, #sk-container-id-4 div.sk-parallel-item::before {content: \"\";position: absolute;border-left: 1px solid gray;box-sizing: border-box;top: 0;bottom: 0;left: 50%;z-index: -1;}#sk-container-id-4 div.sk-parallel-item {display: flex;flex-direction: column;z-index: 1;position: relative;background-color: white;}#sk-container-id-4 div.sk-parallel-item:first-child::after {align-self: flex-end;width: 50%;}#sk-container-id-4 div.sk-parallel-item:last-child::after {align-self: flex-start;width: 50%;}#sk-container-id-4 div.sk-parallel-item:only-child::after {width: 0;}#sk-container-id-4 div.sk-dashed-wrapped {border: 1px dashed gray;margin: 0 0.4em 0.5em 0.4em;box-sizing: border-box;padding-bottom: 0.4em;background-color: white;}#sk-container-id-4 div.sk-label label {font-family: monospace;font-weight: bold;display: inline-block;line-height: 1.2em;}#sk-container-id-4 div.sk-label-container {text-align: center;}#sk-container-id-4 div.sk-container {/* jupyter's `normalize.less` sets `[hidden] { display: none; }` but bootstrap.min.css set `[hidden] { display: none !important; }` so we also need the `!important` here to be able to override the default hidden behavior on the sphinx rendered scikit-learn.org. See: https://github.com/scikit-learn/scikit-learn/issues/21755 */display: inline-block !important;position: relative;}#sk-container-id-4 div.sk-text-repr-fallback {display: none;}</style><div id=\"sk-container-id-4\" class=\"sk-top-container\"><div class=\"sk-text-repr-fallback\"><pre>RandomForestClassifier(n_jobs=-1)</pre><b>In a Jupyter environment, please rerun this cell to show the HTML representation or trust the notebook. <br />On GitHub, the HTML representation is unable to render, please try loading this page with nbviewer.org.</b></div><div class=\"sk-container\" hidden><div class=\"sk-item\"><div class=\"sk-estimator sk-toggleable\"><input class=\"sk-toggleable__control sk-hidden--visually\" id=\"sk-estimator-id-4\" type=\"checkbox\" checked><label for=\"sk-estimator-id-4\" class=\"sk-toggleable__label sk-toggleable__label-arrow\">RandomForestClassifier</label><div class=\"sk-toggleable__content\"><pre>RandomForestClassifier(n_jobs=-1)</pre></div></div></div></div></div>"
      ],
      "text/plain": [
       "RandomForestClassifier(n_jobs=-1)"
      ]
     },
     "execution_count": 33,
     "metadata": {},
     "output_type": "execute_result"
    }
   ],
   "source": [
    "from sklearn.ensemble import RandomForestClassifier\n",
    "from sklearn.model_selection import train_test_split\n",
    "\n",
    "y_voice = ['Voice' if max(elt)>1 else -1 for elt in X_voice]\n",
    "y_plane = ['Plane' if max(elt)>1 else -1 for elt in X_plane]\n",
    "y_both = ['Voice' if max(elt)>1 else -1 for elt in X_both]\n",
    "\n",
    "y_voice_test = ['Voice' if max(elt)>1 else -1 for elt in X_voice_test]\n",
    "y_plane_test = ['Plane' if max(elt)>1 else -1 for elt in X_plane_test]\n",
    "y_both_test = ['Voice' if max(elt)>1 else -1 for elt in X_both_test]\n",
    "\n",
    "# y_voice = [1 for elt in X_voice]\n",
    "# y_plane = [0 for elt in X_plane]\n",
    "# y_both = [1 for elt in X_both]\n",
    "\n",
    "# y_voice_test = [1 for elt in X_voice_test]\n",
    "# y_plane_test = [0 for elt in X_plane_test]\n",
    "# y_both_test = [1  for elt in X_both_test]\n",
    "\n",
    "X = np.concatenate([X_voice,X_plane,X_both])\n",
    "# X_test = np.concatenate([X_voice_test,X_plane_test,X_both_test])\n",
    "X_test = np.concatenate([X_plane_test,X_both_test])\n",
    "# X_test = X_both_test\n",
    "# X = PCA(0.999).fit_transform(X)\n",
    "y = y_voice + y_plane + y_both\n",
    "# y_test = y_voice_test + y_plane_test + y_both_test\n",
    "# y_test = y_both_test\n",
    "y_test =y_plane_test + y_both_test\n",
    "pca = PCA(0.99).fit(X)\n",
    "X = pca.transform(X)\n",
    "X_test = pca.transform(X_test)\n",
    "rf = RandomForestClassifier(n_jobs=-1)\n",
    "rf.fit(X,y)"
   ]
  },
  {
   "cell_type": "code",
   "execution_count": 34,
   "metadata": {},
   "outputs": [
    {
     "data": {
      "text/plain": [
       "0.9090909090909091"
      ]
     },
     "execution_count": 34,
     "metadata": {},
     "output_type": "execute_result"
    }
   ],
   "source": [
    "from sklearn.metrics import accuracy_score\n",
    "\n",
    "pred = rf.predict(X_test)\n",
    "accuracy_score(pred,y_test)"
   ]
  },
  {
   "cell_type": "code",
   "execution_count": 35,
   "metadata": {},
   "outputs": [
    {
     "data": {
      "image/png": "[encoded data removed]",
      "text/plain": [
       "<Figure size 600x400 with 2 Axes>"
      ]
     },
     "metadata": {},
     "output_type": "display_data"
    }
   ],
   "source": [
    "from sklearn.metrics import confusion_matrix\n",
    "\n",
    "import matplotlib.pyplot as plt\n",
    "import seaborn as sns\n",
    "\n",
    "pred = rf.predict(X_test)\n",
    "matrix = confusion_matrix(pred,y_test)\n",
    "matrix = matrix.astype('float') / matrix.sum(axis=1)[:, np.newaxis]\n",
    "\n",
    "# Build the plot\n",
    "plt.figure(figsize=(6,4))\n",
    "sns.set(font_scale=1)\n",
    "sns.heatmap(matrix, annot=True, annot_kws={'size':20},\n",
    "            cmap=plt.cm.Greens, linewidths=0.2)\n",
    "\n",
    "# Add labels to the plot\n",
    "class_names = rf.classes_\n",
    "tick_marks = np.arange(len(class_names))\n",
    "tick_marks2 = tick_marks + 0.5\n",
    "plt.xticks(tick_marks, class_names, rotation=25)\n",
    "plt.yticks(tick_marks2, class_names, rotation=0)\n",
    "plt.xlabel('Predicted label')\n",
    "plt.ylabel('True label')\n",
    "plt.title('Confusion Matrix for Random Forest Model')\n",
    "plt.show()"
   ]
  }
 ],
 "metadata": {
  "kernelspec": {
   "display_name": "Python 3.9.0 64-bit",
   "language": "python",
   "name": "python3"
  },
  "language_info": {
   "codemirror_mode": {
    "name": "ipython",
    "version": 3
   },
   "file_extension": ".py",
   "mimetype": "text/x-python",
   "name": "python",
   "nbconvert_exporter": "python",
   "pygments_lexer": "ipython3",
   "version": "3.9.0"
  },
  "orig_nbformat": 4,
  "vscode": {
   "interpreter": {
    "hash": "f07a9cec850f9104fc95ea0494484df5ee5d9a14128a89aec6d609f0f574ea61"
   }
  }
 },
 "nbformat": 4,
 "nbformat_minor": 2
}
