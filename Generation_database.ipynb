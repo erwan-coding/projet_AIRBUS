{
 "cells": [
  {
   "cell_type": "code",
   "execution_count": 102,
   "id": "b729850d",
   "metadata": {},
   "outputs": [],
   "source": [
    "import os\n",
    "import random\n",
    "import matplotlib.pyplot as plt\n",
    "import numpy as np\n",
    "import math as m\n",
    "import soundfile as sf\n",
    "\n",
    "path_to_folder = os.getcwd()\n",
    "path_to_voice = '\\\\LibriSpeech\\\\train-clean-100'\n",
    "path_to_plane = '\\\\recordings\\\\'"
   ]
  },
  {
   "cell_type": "code",
   "execution_count": 103,
   "id": "437865e3",
   "metadata": {},
   "outputs": [],
   "source": [
    "def random_file():\n",
    "    path = path_to_folder+'\\\\LibriSpeech\\\\train-clean-100'\n",
    "    dirr = os.listdir(path)\n",
    "    dir1 = random.sample(dirr,1)[0]\n",
    "    path = path + \"\\\\\" + dir1\n",
    "    dir2 = os.listdir(path)\n",
    "    dir2 = random.sample(dir2,1)[0]\n",
    "    path = path + \"\\\\\" + dir2\n",
    "    file = os.listdir(path)\n",
    "    file = random.sample(file,1)[0]\n",
    "    while file[-1] != 'c':\n",
    "        file = os.listdir(path)\n",
    "        file = random.sample(dir2,1)[0]\n",
    "    path = path + \"\\\\\" + file\n",
    "    return(path,file)"
   ]
  },
  {
   "cell_type": "code",
   "execution_count": 104,
   "id": "b5aa245e",
   "metadata": {},
   "outputs": [],
   "source": [
    "def random_plane():\n",
    "    n = random.randint(0,24)\n",
    "    return(path_to_folder+path_to_plane+\"record_\"+str(n)+\".wav\")"
   ]
  },
  {
   "cell_type": "code",
   "execution_count": 105,
   "id": "95c84c3e",
   "metadata": {},
   "outputs": [
    {
     "name": "stdout",
     "output_type": "stream",
     "text": [
      "d:\\Utilisateurs\\ENAC\\projet_AIRBUS\\LibriSpeech\\train-clean-100\\1334\\135589\\1334-135589-0100.flac 1334-135589-0100\n",
      "d:\\Utilisateurs\\ENAC\\projet_AIRBUS\\recordings\\record_15.wav\n"
     ]
    }
   ],
   "source": [
    "path,file = random_file()\n",
    "print(path,file[:-5])\n",
    "plane = random_plane()\n",
    "print(plane)"
   ]
  },
  {
   "cell_type": "code",
   "execution_count": 106,
   "id": "cae9414d",
   "metadata": {},
   "outputs": [],
   "source": [
    "def get_time(lendata,samplerate):\n",
    "    return(np.linspace(0,int(lendata/samplerate),lendata))"
   ]
  },
  {
   "cell_type": "code",
   "execution_count": 107,
   "id": "1224a69a",
   "metadata": {},
   "outputs": [
    {
     "name": "stdout",
     "output_type": "stream",
     "text": [
      "5898240 247040\n"
     ]
    }
   ],
   "source": [
    "import soundfile as sf\n",
    "datavoice, sampleratevoice = sf.read(path)\n",
    "dataplane, samplerateplane = sf.read(random_plane())\n",
    "print(len(dataplane),len(datavoice))"
   ]
  },
  {
   "cell_type": "code",
   "execution_count": 108,
   "id": "5bbaba1a",
   "metadata": {},
   "outputs": [],
   "source": [
    "# plt.plot(get_time(datavoice.shape[0],sampleratevoice),datavoice)"
   ]
  },
  {
   "cell_type": "code",
   "execution_count": 109,
   "id": "4c3582a6",
   "metadata": {},
   "outputs": [],
   "source": [
    "def filtre_voix_exp(data,place,sigma,samplerate):\n",
    "    imax = int(len(data)*place)\n",
    "    exp = [m.exp(-1*((x-imax)**2)/(2*(sigma**2))) for x in range(len(data))]\n",
    "    tps = len([0 for k in range(len(data)) if exp[k]>0.001])/samplerate\n",
    "    res = [exp[k] * data[k] for k in range(len(data))]\n",
    "    return(res,tps)"
   ]
  },
  {
   "cell_type": "code",
   "execution_count": 110,
   "id": "72231ad3",
   "metadata": {},
   "outputs": [],
   "source": [
    "# voix = filtre_voix_exp(datavoice,0.5,20000)\n",
    "# plt.plot(voix)"
   ]
  },
  {
   "cell_type": "code",
   "execution_count": 111,
   "id": "f44285d1",
   "metadata": {},
   "outputs": [],
   "source": [
    "def filtre_voix_lin(data,sr,place,tps):\n",
    "    imax_int = int(len(data)*place)\n",
    "    ideb = imax_int - int(tps*sr/2)\n",
    "    ifin = imax_int + int(tps*sr/2)\n",
    "    lin = []\n",
    "    for i in range(len(data)):\n",
    "        if i<ideb:\n",
    "            lin.append(0)\n",
    "        if i>ideb and i<imax_int:\n",
    "            lin.append((i-ideb)/(imax_int-ideb))\n",
    "        if i>imax_int and i<ifin:\n",
    "            lin.append((ifin-i)/(ifin-imax_int))\n",
    "        else:\n",
    "            lin.append(0)\n",
    "    res = [lin[k] * datavoice[k] for k in range(len(data))]\n",
    "    return(res)"
   ]
  },
  {
   "cell_type": "code",
   "execution_count": 112,
   "id": "908ea3cd",
   "metadata": {},
   "outputs": [],
   "source": [
    "# voix = filtre_voix_lin(datavoice,sampleratevoice,0.9,4)\n",
    "# plt.plot(voix)"
   ]
  },
  {
   "cell_type": "code",
   "execution_count": 113,
   "id": "1b82c1c6",
   "metadata": {},
   "outputs": [],
   "source": [
    "# plt.plot(get_time(dataplane.shape[0],samplerateplane),dataplane)"
   ]
  },
  {
   "cell_type": "code",
   "execution_count": 114,
   "id": "49f87334",
   "metadata": {},
   "outputs": [],
   "source": [
    "#Les enregistrements d'avions et de voix n'ont pas le même sample rate. Afin de pouvoir les additionner facilement, on peut\n",
    "#modifier le son avec le sample rate le plus petit, en considérant l'intensité constante entre les points \n",
    "#effectivement enregistrés\n",
    "\n",
    "def same_sample_rate(d1,sr1,d2,sr2):\n",
    "    data1 = []\n",
    "    data2 = []\n",
    "    if sr1>sr2:\n",
    "        data1 = [k for k in d1]\n",
    "        pas = int(sr1/sr2)\n",
    "        #data2 = [d2[pas*k] for k in range(int(len(d2)/pas))]\n",
    "        data2 = []\n",
    "        for k in range(len(d2)):\n",
    "            for p in range(pas):\n",
    "                data2.append(d2[k])\n",
    "    else:\n",
    "        data2 = [k for k in d2]\n",
    "        pas = int(sr2/sr1)\n",
    "        #data1 = [d1[pas*k] for k in range(int(len(d1)/pas))]\n",
    "        for k in range(len(d1)):\n",
    "            for p in range(pas):\n",
    "                data1.append(d1[k])\n",
    "    return(np.array(data1),np.array(data2),max([sr1,sr2]))"
   ]
  },
  {
   "cell_type": "code",
   "execution_count": 115,
   "id": "ea7b9060",
   "metadata": {},
   "outputs": [],
   "source": [
    "# da,dv,sr = same_sample_rate(dataplane,samplerateplane,datavoice,sampleratevoice)\n",
    "# print(len(da),len(dv))\n"
   ]
  },
  {
   "cell_type": "code",
   "execution_count": 116,
   "id": "65f1fe60",
   "metadata": {},
   "outputs": [],
   "source": [
    "# plt.plot(get_time(dv.shape[0],sr),dv)"
   ]
  },
  {
   "cell_type": "code",
   "execution_count": 117,
   "id": "dfc7ae46",
   "metadata": {},
   "outputs": [],
   "source": [
    "# test = []\n",
    "# i = 0\n",
    "# fin = len(dv)\n",
    "# for k in da:\n",
    "#     if i<fin:\n",
    "#         test.append(da[i] + dv[i])\n",
    "#         i+=1\n",
    "#     else:\n",
    "#         test.append(da[i])\n",
    "#         i=i+1\n"
   ]
  },
  {
   "cell_type": "code",
   "execution_count": 118,
   "id": "da22bddf",
   "metadata": {},
   "outputs": [],
   "source": [
    "def add_sounds(d1,d2,place):\n",
    "    res = []\n",
    "    ld1 = len(d1)\n",
    "    ld2 = len(d2)\n",
    "    lmax = max([ld1,ld2])\n",
    "    lmin = min([ld1,ld2])\n",
    "    ideb = int(place*lmax)\n",
    "    ifin = ideb + lmin \n",
    "    if ifin>=lmax:\n",
    "        ifin = lmax-1\n",
    "    if ld1==lmax:\n",
    "        i1 = 0\n",
    "        i2 = 0\n",
    "        for k in d1:\n",
    "            if i1>ideb and i1<ifin:\n",
    "                res.append(d1[i1] + d2[i2])\n",
    "                i1 += 1\n",
    "                i2 += 1\n",
    "            else:\n",
    "                res.append(d1[i1])\n",
    "                i1 += 1\n",
    "    else:\n",
    "        i1 = 0\n",
    "        i2 = 0\n",
    "        for k in d2:\n",
    "            if i2>ideb and i2<ifin:\n",
    "                res.append(d1[i1] + d2[i2])\n",
    "                i1 += 1\n",
    "                i2 += 1\n",
    "            else:\n",
    "                res.append(d2[i2])\n",
    "                i2 += 1\n",
    "    return(res)"
   ]
  },
  {
   "cell_type": "code",
   "execution_count": 119,
   "id": "7498c0d3",
   "metadata": {},
   "outputs": [],
   "source": [
    "# add = add_sounds(da,dv,0.15)"
   ]
  },
  {
   "cell_type": "code",
   "execution_count": 120,
   "id": "9857d578",
   "metadata": {},
   "outputs": [],
   "source": [
    "# plt.plot(get_time(da.shape[0],sr),add)"
   ]
  },
  {
   "cell_type": "code",
   "execution_count": 121,
   "id": "687e7989",
   "metadata": {},
   "outputs": [],
   "source": [
    "# sf.write('test.flac', add, sr)"
   ]
  },
  {
   "cell_type": "code",
   "execution_count": 122,
   "id": "9318ab66",
   "metadata": {},
   "outputs": [],
   "source": [
    "def generate_database(nb):\n",
    "    for i in range(nb):\n",
    "        path,file = random_file()\n",
    "        path_plane = random_plane()\n",
    "        datavoice, sampleratevoice = sf.read(path)\n",
    "        dataplane, samplerateplane = sf.read(path_plane)\n",
    "        timevoice = len(datavoice)/sampleratevoice\n",
    "        rand_filtre = random.randint(0,2)\n",
    "        if rand_filtre==1:\n",
    "            pos = random.randint(0,100)/100\n",
    "            datavoice,temps = filtre_voix_exp(datavoice,pos,random.randint(10000,20000),sampleratevoice)\n",
    "        if rand_filtre == 2:\n",
    "            pos = random.randint(0,100)/100\n",
    "            temps = random.randint(2,int(timevoice/2)) \n",
    "            try:\n",
    "                datavoice = filtre_voix_lin(datavoice,sampleratevoice,pos,temps)\n",
    "                # print(\"coucou\")\n",
    "            except:\n",
    "                print(pos,temps,timevoice)\n",
    "                continue\n",
    "        plane,voice,sr = same_sample_rate(dataplane,samplerateplane,datavoice,sampleratevoice)\n",
    "        place = random.randint(0,100)/100\n",
    "        add = add_sounds(plane,voice,place)\n",
    "        place = place*len(dataplane)/samplerateplane #date de début de la voix et temps de la voix sur l'enregistrement\n",
    "        name = \"db\\\\\" + str(place) + \"--\" + str(temps) + \".wav\"\n",
    "        sf.write(name, add, sr)"
   ]
  },
  {
   "cell_type": "code",
   "execution_count": 123,
   "id": "ca22402c",
   "metadata": {},
   "outputs": [
    {
     "ename": "KeyboardInterrupt",
     "evalue": "",
     "output_type": "error",
     "traceback": [
      "\u001b[1;31m---------------------------------------------------------------------------\u001b[0m",
      "\u001b[1;31mKeyboardInterrupt\u001b[0m                         Traceback (most recent call last)",
      "\u001b[1;32m<ipython-input-123-389d179b44b2>\u001b[0m in \u001b[0;36m<module>\u001b[1;34m\u001b[0m\n\u001b[1;32m----> 1\u001b[1;33m \u001b[0mgenerate_database\u001b[0m\u001b[1;33m(\u001b[0m\u001b[1;36m25\u001b[0m\u001b[1;33m)\u001b[0m\u001b[1;33m\u001b[0m\u001b[1;33m\u001b[0m\u001b[0m\n\u001b[0m",
      "\u001b[1;32m<ipython-input-122-64ebb6ed2d4d>\u001b[0m in \u001b[0;36mgenerate_database\u001b[1;34m(nb)\u001b[0m\n\u001b[0;32m     21\u001b[0m         \u001b[0mplane\u001b[0m\u001b[1;33m,\u001b[0m\u001b[0mvoice\u001b[0m\u001b[1;33m,\u001b[0m\u001b[0msr\u001b[0m \u001b[1;33m=\u001b[0m \u001b[0msame_sample_rate\u001b[0m\u001b[1;33m(\u001b[0m\u001b[0mdataplane\u001b[0m\u001b[1;33m,\u001b[0m\u001b[0msamplerateplane\u001b[0m\u001b[1;33m,\u001b[0m\u001b[0mdatavoice\u001b[0m\u001b[1;33m,\u001b[0m\u001b[0msampleratevoice\u001b[0m\u001b[1;33m)\u001b[0m\u001b[1;33m\u001b[0m\u001b[1;33m\u001b[0m\u001b[0m\n\u001b[0;32m     22\u001b[0m         \u001b[0mplace\u001b[0m \u001b[1;33m=\u001b[0m \u001b[0mrandom\u001b[0m\u001b[1;33m.\u001b[0m\u001b[0mrandint\u001b[0m\u001b[1;33m(\u001b[0m\u001b[1;36m0\u001b[0m\u001b[1;33m,\u001b[0m\u001b[1;36m100\u001b[0m\u001b[1;33m)\u001b[0m\u001b[1;33m/\u001b[0m\u001b[1;36m100\u001b[0m\u001b[1;33m\u001b[0m\u001b[1;33m\u001b[0m\u001b[0m\n\u001b[1;32m---> 23\u001b[1;33m         \u001b[0madd\u001b[0m \u001b[1;33m=\u001b[0m \u001b[0madd_sounds\u001b[0m\u001b[1;33m(\u001b[0m\u001b[0mplane\u001b[0m\u001b[1;33m,\u001b[0m\u001b[0mvoice\u001b[0m\u001b[1;33m,\u001b[0m\u001b[0mplace\u001b[0m\u001b[1;33m)\u001b[0m\u001b[1;33m\u001b[0m\u001b[1;33m\u001b[0m\u001b[0m\n\u001b[0m\u001b[0;32m     24\u001b[0m         \u001b[0mplace\u001b[0m \u001b[1;33m=\u001b[0m \u001b[0mplace\u001b[0m\u001b[1;33m*\u001b[0m\u001b[0mlen\u001b[0m\u001b[1;33m(\u001b[0m\u001b[0mdataplane\u001b[0m\u001b[1;33m)\u001b[0m\u001b[1;33m/\u001b[0m\u001b[0msamplerateplane\u001b[0m\u001b[1;33m\u001b[0m\u001b[1;33m\u001b[0m\u001b[0m\n\u001b[0;32m     25\u001b[0m         \u001b[0mname\u001b[0m \u001b[1;33m=\u001b[0m \u001b[1;34m\"db\\\\\"\u001b[0m \u001b[1;33m+\u001b[0m \u001b[0mstr\u001b[0m\u001b[1;33m(\u001b[0m\u001b[0mplace\u001b[0m\u001b[1;33m)\u001b[0m \u001b[1;33m+\u001b[0m \u001b[1;34m\"--\"\u001b[0m \u001b[1;33m+\u001b[0m \u001b[0mstr\u001b[0m\u001b[1;33m(\u001b[0m\u001b[0mtemps\u001b[0m\u001b[1;33m)\u001b[0m \u001b[1;33m+\u001b[0m \u001b[1;34m\".wav\"\u001b[0m\u001b[1;33m\u001b[0m\u001b[1;33m\u001b[0m\u001b[0m\n",
      "\u001b[1;32m<ipython-input-118-a430acc0cd8c>\u001b[0m in \u001b[0;36madd_sounds\u001b[1;34m(d1, d2, place)\u001b[0m\n\u001b[0;32m     18\u001b[0m                 \u001b[0mi2\u001b[0m \u001b[1;33m+=\u001b[0m \u001b[1;36m1\u001b[0m\u001b[1;33m\u001b[0m\u001b[1;33m\u001b[0m\u001b[0m\n\u001b[0;32m     19\u001b[0m             \u001b[1;32melse\u001b[0m\u001b[1;33m:\u001b[0m\u001b[1;33m\u001b[0m\u001b[1;33m\u001b[0m\u001b[0m\n\u001b[1;32m---> 20\u001b[1;33m                 \u001b[0mres\u001b[0m\u001b[1;33m.\u001b[0m\u001b[0mappend\u001b[0m\u001b[1;33m(\u001b[0m\u001b[0md1\u001b[0m\u001b[1;33m[\u001b[0m\u001b[0mi1\u001b[0m\u001b[1;33m]\u001b[0m\u001b[1;33m)\u001b[0m\u001b[1;33m\u001b[0m\u001b[1;33m\u001b[0m\u001b[0m\n\u001b[0m\u001b[0;32m     21\u001b[0m                 \u001b[0mi1\u001b[0m \u001b[1;33m+=\u001b[0m \u001b[1;36m1\u001b[0m\u001b[1;33m\u001b[0m\u001b[1;33m\u001b[0m\u001b[0m\n\u001b[0;32m     22\u001b[0m     \u001b[1;32melse\u001b[0m\u001b[1;33m:\u001b[0m\u001b[1;33m\u001b[0m\u001b[1;33m\u001b[0m\u001b[0m\n",
      "\u001b[1;31mKeyboardInterrupt\u001b[0m: "
     ]
    }
   ],
   "source": [
    "generate_database(25)"
   ]
  }
 ],
 "metadata": {
  "kernelspec": {
   "display_name": "Python 3.7.3 64-bit",
   "language": "python",
   "name": "python3"
  },
  "language_info": {
   "codemirror_mode": {
    "name": "ipython",
    "version": 3
   },
   "file_extension": ".py",
   "mimetype": "text/x-python",
   "name": "python",
   "nbconvert_exporter": "python",
   "pygments_lexer": "ipython3",
   "version": "3.7.3"
  },
  "vscode": {
   "interpreter": {
    "hash": "3fed0bbd5495796534d572169a57e75d8875d8562251a330156def74428f8b55"
   }
  }
 },
 "nbformat": 4,
 "nbformat_minor": 5
}
