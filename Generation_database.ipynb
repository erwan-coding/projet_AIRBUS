{
 "cells": [
  {
   "cell_type": "code",
   "execution_count": 29,
   "id": "b729850d",
   "metadata": {},
   "outputs": [],
   "source": [
    "import os\n",
    "import random\n",
    "import matplotlib.pyplot as plt\n",
    "import numpy as np\n",
    "import math as m\n",
    "import soundfile as sf"
   ]
  },
  {
   "cell_type": "code",
   "execution_count": 2,
   "id": "1147d010",
   "metadata": {},
   "outputs": [
    {
     "name": "stdout",
     "output_type": "stream",
     "text": [
      "['103', '1034', '1040', '1069', '1081', '1088', '1098', '1116', '118', '1183', '1235', '1246', '125', '1263', '1334', '1355', '1363', '1447', '1455', '150', '1502', '1553', '1578', '1594', '1624', '163', '1723', '1737', '1743', '1841', '1867', '1898', '19', '1926', '196', '1963', '1970', '198', '1992', '200', '2002', '2007', '201', '2092', '211', '2136', '2159', '2182', '2196', '226', '2289', '229', '233', '2384', '2391', '2416', '2436', '248', '250', '2514', '2518', '254', '26', '2691', '27', '2764', '2817', '2836', '2843', '289', '2893', '2910', '2911', '2952', '298', '2989', '302', '307', '311', '3112', '3168', '32', '3214', '322', '3235', '3240', '3242', '3259', '328', '332', '3374', '3436', '3440', '3486', '3526', '3607', '3664', '3699', '3723', '374', '3807', '3830', '3857', '3879', '39', '3947', '3982', '3983', '40', '4014', '4018', '403', '405', '4051', '4088', '412', '4137', '4160', '4195', '4214', '426', '4267', '4297', '4340', '4362', '4397', '4406', '441', '4441', '445', '446', '4481', '458', '460', '4640', '4680', '4788', '481', '4813', '4830', '4853', '4859', '4898', '5022', '5049', '5104', '5163', '5192', '5322', '5339', '5390', '5393', '5456', '5463', '5514', '5561', '5652', '5678', '5688', '5703', '5750', '5778', '5789', '5808', '5867', '587', '60', '6000', '6019', '6064', '6078', '6081', '6147', '6181', '6209', '625', '6272', '6367', '6385', '6415', '6437', '6454', '6476', '6529', '6531', '6563', '669', '6818', '6836', '6848', '6880', '6925', '696', '7059', '7067', '7078', '7113', '7148', '7178', '7190', '7226', '7264', '7278', '730', '7302', '7312', '7367', '7402', '7447', '7505', '7511', '7517', '7635', '7780', '7794', '78', '7800', '7859', '8014', '8051', '8063', '8088', '8095', '8098', '8108', '8123', '8226', '8238', '83', '831', '8312', '8324', '839', '8419', '8425', '8465', '8468', '8580', '8609', '8629', '8630', '87', '8747', '8770', '8797', '8838', '887', '89', '8975', '909', '911']\n"
     ]
    }
   ],
   "source": [
    "print(os.listdir(r'C:\\Users\\antoi\\Desktop\\Airbus\\LibriSpeech\\train-clean-100'))"
   ]
  },
  {
   "cell_type": "code",
   "execution_count": 82,
   "id": "437865e3",
   "metadata": {},
   "outputs": [],
   "source": [
    "def random_file():\n",
    "    path = r'C:\\Users\\antoi\\Desktop\\Airbus\\LibriSpeech\\train-clean-100'\n",
    "    dirr = os.listdir(path)\n",
    "    dir1 = random.sample(dirr,1)[0]\n",
    "    path = path + \"\\\\\" + dir1\n",
    "    dir2 = os.listdir(path)\n",
    "    dir2 = random.sample(dir2,1)[0]\n",
    "    path = path + \"\\\\\" + dir2\n",
    "    file = os.listdir(path)\n",
    "    file = random.sample(file,1)[0]\n",
    "    while file[-1] != 'c':\n",
    "        file = os.listdir(path)\n",
    "        file = random.sample(dir2,1)[0]\n",
    "    path = path + \"\\\\\" + file\n",
    "    return(path,file)"
   ]
  },
  {
   "cell_type": "code",
   "execution_count": 93,
   "id": "b5aa245e",
   "metadata": {},
   "outputs": [],
   "source": [
    "def random_plane():\n",
    "    n = random.randint(0,24)\n",
    "    return(\"record_\"+str(n)+\".wav\")"
   ]
  },
  {
   "cell_type": "code",
   "execution_count": 88,
   "id": "95c84c3e",
   "metadata": {},
   "outputs": [
    {
     "name": "stdout",
     "output_type": "stream",
     "text": [
      "C:\\Users\\antoi\\Desktop\\Airbus\\LibriSpeech\\train-clean-100\\7367\\86737\\7367-86737-0097.flac 7367-86737-0097\n",
      "record_22\n"
     ]
    }
   ],
   "source": [
    "path,file = random_file()\n",
    "print(path,file[:-5])\n",
    "plane = random_plane()\n",
    "print(plane)"
   ]
  },
  {
   "cell_type": "code",
   "execution_count": 86,
   "id": "cae9414d",
   "metadata": {},
   "outputs": [],
   "source": [
    "def get_time(lendata,samplerate):\n",
    "    return(np.linspace(0,int(lendata/samplerate),lendata))"
   ]
  },
  {
   "cell_type": "code",
   "execution_count": 87,
   "id": "1224a69a",
   "metadata": {},
   "outputs": [
    {
     "name": "stdout",
     "output_type": "stream",
     "text": [
      "5898240 38640\n"
     ]
    }
   ],
   "source": [
    "import soundfile as sf\n",
    "datavoice, sampleratevoice = sf.read(path)\n",
    "dataplane, samplerateplane = sf.read('record_0.wav')\n",
    "print(len(dataplane),len(datavoice))"
   ]
  },
  {
   "cell_type": "code",
   "execution_count": 7,
   "id": "5bbaba1a",
   "metadata": {},
   "outputs": [
    {
     "data": {
      "text/plain": [
       "[<matplotlib.lines.Line2D at 0x227315b88b0>]"
      ]
     },
     "execution_count": 7,
     "metadata": {},
     "output_type": "execute_result"
    },
    {
     "data": {
      "image/png": "[encoded data removed]",
      "text/plain": [
       "<Figure size 432x288 with 1 Axes>"
      ]
     },
     "metadata": {
      "needs_background": "light"
     },
     "output_type": "display_data"
    }
   ],
   "source": [
    "plt.plot(get_time(datavoice.shape[0],sampleratevoice),datavoice)"
   ]
  },
  {
   "cell_type": "code",
   "execution_count": 8,
   "id": "4c3582a6",
   "metadata": {},
   "outputs": [],
   "source": [
    "def filtre_voix_exp(data,place,sigma):\n",
    "    imax = int(len(data)*place)\n",
    "    exp = [m.exp(-1*((x-imax)**2)/(2*(sigma**2))) for x in range(len(data))]\n",
    "    res = [exp[k] * data[k] for k in range(len(data))]\n",
    "    return(res)"
   ]
  },
  {
   "cell_type": "code",
   "execution_count": 79,
   "id": "72231ad3",
   "metadata": {},
   "outputs": [
    {
     "data": {
      "text/plain": [
       "[<matplotlib.lines.Line2D at 0x2270dae0fd0>]"
      ]
     },
     "execution_count": 79,
     "metadata": {},
     "output_type": "execute_result"
    },
    {
     "data": {
      "image/png": "[encoded data removed]",
      "text/plain": [
       "<Figure size 432x288 with 1 Axes>"
      ]
     },
     "metadata": {
      "needs_background": "light"
     },
     "output_type": "display_data"
    }
   ],
   "source": [
    "voix = filtre_voix_exp(datavoice,0.5,20000)\n",
    "plt.plot(voix)"
   ]
  },
  {
   "cell_type": "code",
   "execution_count": 118,
   "id": "f44285d1",
   "metadata": {},
   "outputs": [],
   "source": [
    "def filtre_voix_lin(data,sr,place,tps):\n",
    "    imax_int = int(len(data)*place)\n",
    "    ideb = imax_int - int(tps*sr/2)\n",
    "    ifin = imax_int + int(tps*sr/2)\n",
    "    lin = []\n",
    "    for i in range(len(data)):\n",
    "        if i<ideb:\n",
    "            lin.append(0)\n",
    "        if i>ideb and i<imax_int:\n",
    "            lin.append((i-ideb)/(imax_int-ideb))\n",
    "        if i>imax_int and i<ifin:\n",
    "            lin.append((ifin-i)/(ifin-imax_int))\n",
    "        else:\n",
    "            lin.append(0)\n",
    "    res = [lin[k] * datavoice[k] for k in range(len(data))]\n",
    "    return(res)"
   ]
  },
  {
   "cell_type": "code",
   "execution_count": 122,
   "id": "908ea3cd",
   "metadata": {},
   "outputs": [
    {
     "data": {
      "text/plain": [
       "[<matplotlib.lines.Line2D at 0x2273ab53e20>]"
      ]
     },
     "execution_count": 122,
     "metadata": {},
     "output_type": "execute_result"
    },
    {
     "data": {
      "image/png": "[encoded data removed]",
      "text/plain": [
       "<Figure size 432x288 with 1 Axes>"
      ]
     },
     "metadata": {
      "needs_background": "light"
     },
     "output_type": "display_data"
    }
   ],
   "source": [
    "voix = filtre_voix_lin(datavoice,sampleratevoice,0.9,4)\n",
    "plt.plot(voix)"
   ]
  },
  {
   "cell_type": "code",
   "execution_count": 12,
   "id": "1b82c1c6",
   "metadata": {},
   "outputs": [
    {
     "data": {
      "text/plain": [
       "[<matplotlib.lines.Line2D at 0x227320b2520>]"
      ]
     },
     "execution_count": 12,
     "metadata": {},
     "output_type": "execute_result"
    },
    {
     "data": {
      "image/png": "[encoded data removed]",
      "text/plain": [
       "<Figure size 432x288 with 1 Axes>"
      ]
     },
     "metadata": {
      "needs_background": "light"
     },
     "output_type": "display_data"
    }
   ],
   "source": [
    "plt.plot(get_time(dataplane.shape[0],samplerateplane),dataplane)"
   ]
  },
  {
   "cell_type": "code",
   "execution_count": 96,
   "id": "49f87334",
   "metadata": {},
   "outputs": [],
   "source": [
    "#Les enregistrements d'avions et de voix n'ont pas le même sample rate. Afin de pouvoir les additionner facilement, on peut\n",
    "#modifier le son avec le sample rate le plus petit, en considérant l'intensité constante entre les points \n",
    "#effectivement enregistrés\n",
    "\n",
    "def same_sample_rate(d1,sr1,d2,sr2):\n",
    "    data1 = []\n",
    "    data2 = []\n",
    "    if sr1>sr2:\n",
    "        data1 = [k for k in d1]\n",
    "        pas = int(sr1/sr2)\n",
    "        #data2 = [d2[pas*k] for k in range(int(len(d2)/pas))]\n",
    "        data2 = []\n",
    "        for k in range(len(d2)):\n",
    "            for p in range(pas):\n",
    "                data2.append(d2[k])\n",
    "    else:\n",
    "        data2 = [k for k in d2]\n",
    "        pas = int(sr2/sr1)\n",
    "        #data1 = [d1[pas*k] for k in range(int(len(d1)/pas))]\n",
    "        for k in range(len(d1)):\n",
    "            for p in range(pas):\n",
    "                data1.append(d1[k])\n",
    "    return(np.array(data1),np.array(data2),max([sr1,sr2]))"
   ]
  },
  {
   "cell_type": "code",
   "execution_count": 97,
   "id": "ea7b9060",
   "metadata": {},
   "outputs": [
    {
     "name": "stdout",
     "output_type": "stream",
     "text": [
      "5898240 77280\n"
     ]
    }
   ],
   "source": [
    "da,dv,sr = same_sample_rate(dataplane,samplerateplane,datavoice,sampleratevoice)\n",
    "print(len(da),len(dv))\n"
   ]
  },
  {
   "cell_type": "code",
   "execution_count": 21,
   "id": "65f1fe60",
   "metadata": {},
   "outputs": [
    {
     "data": {
      "text/plain": [
       "[<matplotlib.lines.Line2D at 0x2273222d3d0>]"
      ]
     },
     "execution_count": 21,
     "metadata": {},
     "output_type": "execute_result"
    },
    {
     "data": {
      "image/png": "[encoded data removed]",
      "text/plain": [
       "<Figure size 432x288 with 1 Axes>"
      ]
     },
     "metadata": {
      "needs_background": "light"
     },
     "output_type": "display_data"
    }
   ],
   "source": [
    "plt.plot(get_time(dv.shape[0],sr),dv)"
   ]
  },
  {
   "cell_type": "code",
   "execution_count": 155,
   "id": "dfc7ae46",
   "metadata": {},
   "outputs": [],
   "source": [
    "test = []\n",
    "i = 0\n",
    "fin = len(dv)\n",
    "for k in da:\n",
    "    if i<fin:\n",
    "        test.append(da[i] + dv[i])\n",
    "        i+=1\n",
    "    else:\n",
    "        test.append(da[i])\n",
    "        i=i+1\n"
   ]
  },
  {
   "cell_type": "code",
   "execution_count": 106,
   "id": "da22bddf",
   "metadata": {},
   "outputs": [],
   "source": [
    "def add_sounds(d1,d2,place):\n",
    "    res = []\n",
    "    ld1 = len(d1)\n",
    "    ld2 = len(d2)\n",
    "    lmax = max([ld1,ld2])\n",
    "    lmin = min([ld1,ld2])\n",
    "    ideb = int(place*lmax)\n",
    "    ifin = ideb + lmin \n",
    "    if ifin>=lmax:\n",
    "        ifin = lmax-1\n",
    "    if ld1==lmax:\n",
    "        i1 = 0\n",
    "        i2 = 0\n",
    "        for k in d1:\n",
    "            if i1>ideb and i1<ifin:\n",
    "                res.append(d1[i1] + d2[i2])\n",
    "                i1 += 1\n",
    "                i2 += 1\n",
    "            else:\n",
    "                res.append(d1[i1])\n",
    "                i1 += 1\n",
    "    else:\n",
    "        i1 = 0\n",
    "        i2 = 0\n",
    "        for k in d2:\n",
    "            if i2>ideb and i2<ifin:\n",
    "                res.append(d1[i1] + d2[i2])\n",
    "                i1 += 1\n",
    "                i2 += 1\n",
    "            else:\n",
    "                res.append(d2[i2])\n",
    "                i2 += 1\n",
    "    return(res)"
   ]
  },
  {
   "cell_type": "code",
   "execution_count": 80,
   "id": "7498c0d3",
   "metadata": {},
   "outputs": [
    {
     "name": "stdout",
     "output_type": "stream",
     "text": [
      "5898240\n",
      "324960\n",
      "884736 1209696\n"
     ]
    }
   ],
   "source": [
    "add = add_sounds(da,dv,0.15)"
   ]
  },
  {
   "cell_type": "code",
   "execution_count": 81,
   "id": "9857d578",
   "metadata": {},
   "outputs": [
    {
     "data": {
      "text/plain": [
       "[<matplotlib.lines.Line2D at 0x2276148b5b0>]"
      ]
     },
     "execution_count": 81,
     "metadata": {},
     "output_type": "execute_result"
    },
    {
     "data": {
      "image/png": "[encoded data removed]",
      "text/plain": [
       "<Figure size 432x288 with 1 Axes>"
      ]
     },
     "metadata": {
      "needs_background": "light"
     },
     "output_type": "display_data"
    }
   ],
   "source": [
    "plt.plot(get_time(da.shape[0],sr),add)"
   ]
  },
  {
   "cell_type": "code",
   "execution_count": 28,
   "id": "687e7989",
   "metadata": {},
   "outputs": [],
   "source": [
    "sf.write('test.flac', add, sr)"
   ]
  },
  {
   "cell_type": "code",
   "execution_count": 129,
   "id": "9318ab66",
   "metadata": {},
   "outputs": [],
   "source": [
    "def generate_database(nb):\n",
    "    for i in range(nb):\n",
    "        path,file = random_file()\n",
    "        path_plane = random_plane()\n",
    "        datavoice, sampleratevoice = sf.read(path)\n",
    "        dataplane, samplerateplane = sf.read(path_plane)\n",
    "        timevoice = len(datavoice)/sampleratevoice\n",
    "        rand_filtre = random.randint(0,2)\n",
    "        if rand_filtre==1:\n",
    "            pos = random.randint(0,100)/100\n",
    "            datavoice = filtre_voix_exp(datavoice,pos,random.randint(10000,20000))\n",
    "        if rand_filtre == 2:\n",
    "            pos = random.randint(0,100)/100\n",
    "            temps = random.randint(2,int(timevoice/2))\n",
    "            try:\n",
    "                datavoice = filtre_voix_lin(datavoice,sampleratevoice,pos,temps)\n",
    "            except:\n",
    "                print(pos,temps,timevoice)\n",
    "                continue\n",
    "        plane,voice,sr = same_sample_rate(dataplane,samplerateplane,datavoice,sampleratevoice)\n",
    "        place = random.randint(0,100)/100\n",
    "        add = add_sounds(plane,voice,place)\n",
    "        name = \"db\\\\\" + file[:-5] + \"--\" + path_plane[:-4] + \".wav\"\n",
    "        sf.write(name, add, sr)"
   ]
  },
  {
   "cell_type": "code",
   "execution_count": 130,
   "id": "ca22402c",
   "metadata": {},
   "outputs": [
    {
     "name": "stdout",
     "output_type": "stream",
     "text": [
      "0.22 4 12.045\n",
      "0.65 5 14.39\n",
      "0.22 4 10.875\n",
      "0.93 2 14.325\n"
     ]
    },
    {
     "ename": "KeyboardInterrupt",
     "evalue": "",
     "output_type": "error",
     "traceback": [
      "\u001b[1;31m---------------------------------------------------------------------------\u001b[0m",
      "\u001b[1;31mKeyboardInterrupt\u001b[0m                         Traceback (most recent call last)",
      "\u001b[1;32m~\\AppData\\Local\\Temp/ipykernel_19868/366006483.py\u001b[0m in \u001b[0;36m<module>\u001b[1;34m\u001b[0m\n\u001b[1;32m----> 1\u001b[1;33m \u001b[0mgenerate_database\u001b[0m\u001b[1;33m(\u001b[0m\u001b[1;36m25\u001b[0m\u001b[1;33m)\u001b[0m\u001b[1;33m\u001b[0m\u001b[1;33m\u001b[0m\u001b[0m\n\u001b[0m",
      "\u001b[1;32m~\\AppData\\Local\\Temp/ipykernel_19868/2641390090.py\u001b[0m in \u001b[0;36mgenerate_database\u001b[1;34m(nb)\u001b[0m\n\u001b[0;32m     20\u001b[0m         \u001b[0mplane\u001b[0m\u001b[1;33m,\u001b[0m\u001b[0mvoice\u001b[0m\u001b[1;33m,\u001b[0m\u001b[0msr\u001b[0m \u001b[1;33m=\u001b[0m \u001b[0msame_sample_rate\u001b[0m\u001b[1;33m(\u001b[0m\u001b[0mdataplane\u001b[0m\u001b[1;33m,\u001b[0m\u001b[0msamplerateplane\u001b[0m\u001b[1;33m,\u001b[0m\u001b[0mdatavoice\u001b[0m\u001b[1;33m,\u001b[0m\u001b[0msampleratevoice\u001b[0m\u001b[1;33m)\u001b[0m\u001b[1;33m\u001b[0m\u001b[1;33m\u001b[0m\u001b[0m\n\u001b[0;32m     21\u001b[0m         \u001b[0mplace\u001b[0m \u001b[1;33m=\u001b[0m \u001b[0mrandom\u001b[0m\u001b[1;33m.\u001b[0m\u001b[0mrandint\u001b[0m\u001b[1;33m(\u001b[0m\u001b[1;36m0\u001b[0m\u001b[1;33m,\u001b[0m\u001b[1;36m100\u001b[0m\u001b[1;33m)\u001b[0m\u001b[1;33m/\u001b[0m\u001b[1;36m100\u001b[0m\u001b[1;33m\u001b[0m\u001b[1;33m\u001b[0m\u001b[0m\n\u001b[1;32m---> 22\u001b[1;33m         \u001b[0madd\u001b[0m \u001b[1;33m=\u001b[0m \u001b[0madd_sounds\u001b[0m\u001b[1;33m(\u001b[0m\u001b[0mplane\u001b[0m\u001b[1;33m,\u001b[0m\u001b[0mvoice\u001b[0m\u001b[1;33m,\u001b[0m\u001b[0mplace\u001b[0m\u001b[1;33m)\u001b[0m\u001b[1;33m\u001b[0m\u001b[1;33m\u001b[0m\u001b[0m\n\u001b[0m\u001b[0;32m     23\u001b[0m         \u001b[0mname\u001b[0m \u001b[1;33m=\u001b[0m \u001b[1;34m\"db\\\\\"\u001b[0m \u001b[1;33m+\u001b[0m \u001b[0mfile\u001b[0m\u001b[1;33m[\u001b[0m\u001b[1;33m:\u001b[0m\u001b[1;33m-\u001b[0m\u001b[1;36m5\u001b[0m\u001b[1;33m]\u001b[0m \u001b[1;33m+\u001b[0m \u001b[1;34m\"--\"\u001b[0m \u001b[1;33m+\u001b[0m \u001b[0mpath_plane\u001b[0m\u001b[1;33m[\u001b[0m\u001b[1;33m:\u001b[0m\u001b[1;33m-\u001b[0m\u001b[1;36m4\u001b[0m\u001b[1;33m]\u001b[0m \u001b[1;33m+\u001b[0m \u001b[1;34m\".wav\"\u001b[0m\u001b[1;33m\u001b[0m\u001b[1;33m\u001b[0m\u001b[0m\n\u001b[0;32m     24\u001b[0m         \u001b[0msf\u001b[0m\u001b[1;33m.\u001b[0m\u001b[0mwrite\u001b[0m\u001b[1;33m(\u001b[0m\u001b[0mname\u001b[0m\u001b[1;33m,\u001b[0m \u001b[0madd\u001b[0m\u001b[1;33m,\u001b[0m \u001b[0msr\u001b[0m\u001b[1;33m)\u001b[0m\u001b[1;33m\u001b[0m\u001b[1;33m\u001b[0m\u001b[0m\n",
      "\u001b[1;32m~\\AppData\\Local\\Temp/ipykernel_19868/2164542861.py\u001b[0m in \u001b[0;36madd_sounds\u001b[1;34m(d1, d2, place)\u001b[0m\n\u001b[0;32m     18\u001b[0m                 \u001b[0mi2\u001b[0m \u001b[1;33m+=\u001b[0m \u001b[1;36m1\u001b[0m\u001b[1;33m\u001b[0m\u001b[1;33m\u001b[0m\u001b[0m\n\u001b[0;32m     19\u001b[0m             \u001b[1;32melse\u001b[0m\u001b[1;33m:\u001b[0m\u001b[1;33m\u001b[0m\u001b[1;33m\u001b[0m\u001b[0m\n\u001b[1;32m---> 20\u001b[1;33m                 \u001b[0mres\u001b[0m\u001b[1;33m.\u001b[0m\u001b[0mappend\u001b[0m\u001b[1;33m(\u001b[0m\u001b[0md1\u001b[0m\u001b[1;33m[\u001b[0m\u001b[0mi1\u001b[0m\u001b[1;33m]\u001b[0m\u001b[1;33m)\u001b[0m\u001b[1;33m\u001b[0m\u001b[1;33m\u001b[0m\u001b[0m\n\u001b[0m\u001b[0;32m     21\u001b[0m                 \u001b[0mi1\u001b[0m \u001b[1;33m+=\u001b[0m \u001b[1;36m1\u001b[0m\u001b[1;33m\u001b[0m\u001b[1;33m\u001b[0m\u001b[0m\n\u001b[0;32m     22\u001b[0m     \u001b[1;32melse\u001b[0m\u001b[1;33m:\u001b[0m\u001b[1;33m\u001b[0m\u001b[1;33m\u001b[0m\u001b[0m\n",
      "\u001b[1;31mKeyboardInterrupt\u001b[0m: "
     ]
    }
   ],
   "source": [
    "generate_database(25)"
   ]
  },
  {
   "cell_type": "code",
   "execution_count": null,
   "id": "43fd316c",
   "metadata": {},
   "outputs": [],
   "source": []
  }
 ],
 "metadata": {
  "kernelspec": {
   "display_name": "Python 3 (ipykernel)",
   "language": "python",
   "name": "python3"
  },
  "language_info": {
   "codemirror_mode": {
    "name": "ipython",
    "version": 3
   },
   "file_extension": ".py",
   "mimetype": "text/x-python",
   "name": "python",
   "nbconvert_exporter": "python",
   "pygments_lexer": "ipython3",
   "version": "3.9.7"
  }
 },
 "nbformat": 4,
 "nbformat_minor": 5
}
