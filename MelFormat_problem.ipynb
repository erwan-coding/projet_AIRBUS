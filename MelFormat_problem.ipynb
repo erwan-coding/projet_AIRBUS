{
 "cells": [
  {
   "cell_type": "code",
   "execution_count": 16,
   "id": "7870b823",
   "metadata": {},
   "outputs": [],
   "source": [
    "import soundfile as sf"
   ]
  },
  {
   "cell_type": "code",
   "execution_count": 17,
   "id": "6a1f74e4",
   "metadata": {},
   "outputs": [],
   "source": [
    "data, samplerate = sf.read('Record_734.wav', dtype='float32')"
   ]
  },
  {
   "cell_type": "code",
   "execution_count": 18,
   "id": "384f7915",
   "metadata": {},
   "outputs": [
    {
     "data": {
      "text/plain": [
       "array([-0.0520026 , -0.05129154, -0.05119673, ..., -0.00725287,\n",
       "       -0.006447  , -0.0075847 ], dtype=float32)"
      ]
     },
     "execution_count": 18,
     "metadata": {},
     "output_type": "execute_result"
    }
   ],
   "source": [
    "data"
   ]
  },
  {
   "cell_type": "code",
   "execution_count": 19,
   "id": "3ec22e6d",
   "metadata": {},
   "outputs": [],
   "source": [
    "sf.write('voc_conv0.wav', data, samplerate)"
   ]
  },
  {
   "cell_type": "code",
   "execution_count": 20,
   "id": "81bff240",
   "metadata": {},
   "outputs": [],
   "source": [
    "data, samplerate = sf.read('Record_707.wav', dtype='float32')"
   ]
  },
  {
   "cell_type": "code",
   "execution_count": 21,
   "id": "f424b4ea",
   "metadata": {},
   "outputs": [],
   "source": [
    "sf.write('voc_conv1.wav', data, samplerate)"
   ]
  },
  {
   "cell_type": "code",
   "execution_count": 22,
   "id": "9901f0e5",
   "metadata": {},
   "outputs": [],
   "source": [
    "data, samplerate = sf.read('Record_821.wav', dtype='float32')"
   ]
  },
  {
   "cell_type": "code",
   "execution_count": 23,
   "id": "2a06fa61",
   "metadata": {},
   "outputs": [],
   "source": [
    "sf.write('voc_conv2.wav', data, samplerate)"
   ]
  },
  {
   "cell_type": "code",
   "execution_count": null,
   "id": "79a89ad1",
   "metadata": {},
   "outputs": [],
   "source": []
  },
  {
   "cell_type": "code",
   "execution_count": null,
   "id": "14fe169d",
   "metadata": {},
   "outputs": [],
   "source": []
  },
  {
   "cell_type": "code",
   "execution_count": null,
   "id": "bcae4f31",
   "metadata": {},
   "outputs": [],
   "source": []
  }
 ],
 "metadata": {
  "kernelspec": {
   "display_name": "Python 3",
   "language": "python",
   "name": "python3"
  },
  "language_info": {
   "codemirror_mode": {
    "name": "ipython",
    "version": 3
   },
   "file_extension": ".py",
   "mimetype": "text/x-python",
   "name": "python",
   "nbconvert_exporter": "python",
   "pygments_lexer": "ipython3",
   "version": "3.7.0"
  }
 },
 "nbformat": 4,
 "nbformat_minor": 5
}
